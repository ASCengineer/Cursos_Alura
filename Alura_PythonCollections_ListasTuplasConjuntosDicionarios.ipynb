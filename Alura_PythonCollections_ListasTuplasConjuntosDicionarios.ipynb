{
  "nbformat": 4,
  "nbformat_minor": 0,
  "metadata": {
    "colab": {
      "name": "Alura_PythonCollections_ListasTuplasConjuntosDicionarios.ipynb",
      "provenance": [],
      "collapsed_sections": [],
      "authorship_tag": "ABX9TyPtDd2bJ+CCNWGr76vm854j",
      "include_colab_link": true
    },
    "kernelspec": {
      "name": "python3",
      "display_name": "Python 3"
    },
    "language_info": {
      "name": "python"
    }
  },
  "cells": [
    {
      "cell_type": "markdown",
      "metadata": {
        "id": "view-in-github",
        "colab_type": "text"
      },
      "source": [
        "<a href=\"https://colab.research.google.com/github/ASCengineer/Cursos_Alura/blob/main/Alura_PythonCollections_ListasTuplasConjuntosDicionarios.ipynb\" target=\"_parent\"><img src=\"https://colab.research.google.com/assets/colab-badge.svg\" alt=\"Open In Colab\"/></a>"
      ]
    },
    {
      "cell_type": "markdown",
      "source": [
        "# Aula 1"
      ],
      "metadata": {
        "id": "Kk-113tGGKy1"
      }
    },
    {
      "cell_type": "code",
      "execution_count": null,
      "metadata": {
        "colab": {
          "base_uri": "https://localhost:8080/"
        },
        "id": "97XxakqXFrn3",
        "outputId": "fb596b6d-3af3-4bd2-ec6b-24728a1614cf"
      },
      "outputs": [
        {
          "output_type": "stream",
          "name": "stdout",
          "text": [
            "39\n",
            "30\n",
            "27\n",
            "18\n"
          ]
        }
      ],
      "source": [
        "idade1 = 39\n",
        "idade2 = 30\n",
        "idade3 = 27\n",
        "idade4 = 18\n",
        "\n",
        "print(idade1)\n",
        "print(idade2)\n",
        "print(idade3)\n",
        "print(idade4)"
      ]
    },
    {
      "cell_type": "code",
      "source": [
        "idades = [39,30,27,18]"
      ],
      "metadata": {
        "id": "BLFaZEYxGD0S"
      },
      "execution_count": null,
      "outputs": []
    },
    {
      "cell_type": "code",
      "source": [
        "type(idades)"
      ],
      "metadata": {
        "colab": {
          "base_uri": "https://localhost:8080/"
        },
        "id": "swCVuYKrGIRI",
        "outputId": "6d32f10f-fea9-493a-832d-aa854ff52d6f"
      },
      "execution_count": null,
      "outputs": [
        {
          "output_type": "execute_result",
          "data": {
            "text/plain": [
              "list"
            ]
          },
          "metadata": {},
          "execution_count": 3
        }
      ]
    },
    {
      "cell_type": "code",
      "source": [
        "len(idades)"
      ],
      "metadata": {
        "colab": {
          "base_uri": "https://localhost:8080/"
        },
        "id": "DdgxwR9DGRN_",
        "outputId": "debe0754-3b8f-4fcc-a851-4ca363115140"
      },
      "execution_count": null,
      "outputs": [
        {
          "output_type": "execute_result",
          "data": {
            "text/plain": [
              "4"
            ]
          },
          "metadata": {},
          "execution_count": 7
        }
      ]
    },
    {
      "cell_type": "code",
      "source": [
        "idades"
      ],
      "metadata": {
        "colab": {
          "base_uri": "https://localhost:8080/"
        },
        "id": "X9YubVfWGVYR",
        "outputId": "7246348b-8757-4d6f-ee4a-bdcd785ca086"
      },
      "execution_count": null,
      "outputs": [
        {
          "output_type": "execute_result",
          "data": {
            "text/plain": [
              "[39, 30, 27, 18]"
            ]
          },
          "metadata": {},
          "execution_count": 8
        }
      ]
    },
    {
      "cell_type": "code",
      "source": [
        "idades.append(15)"
      ],
      "metadata": {
        "id": "5e_SL_1kGd73"
      },
      "execution_count": null,
      "outputs": []
    },
    {
      "cell_type": "code",
      "source": [
        "idades[5]"
      ],
      "metadata": {
        "colab": {
          "base_uri": "https://localhost:8080/",
          "height": 176
        },
        "id": "J8NrSeF_GlkI",
        "outputId": "9f460d99-7b11-4d53-97e6-c3c65649743a"
      },
      "execution_count": null,
      "outputs": [
        {
          "output_type": "error",
          "ename": "IndexError",
          "evalue": "ignored",
          "traceback": [
            "\u001b[0;31m---------------------------------------------------------------------------\u001b[0m",
            "\u001b[0;31mIndexError\u001b[0m                                Traceback (most recent call last)",
            "\u001b[0;32m<ipython-input-10-9afc071113c0>\u001b[0m in \u001b[0;36m<module>\u001b[0;34m()\u001b[0m\n\u001b[0;32m----> 1\u001b[0;31m \u001b[0midades\u001b[0m\u001b[0;34m[\u001b[0m\u001b[0;36m5\u001b[0m\u001b[0;34m]\u001b[0m\u001b[0;34m\u001b[0m\u001b[0;34m\u001b[0m\u001b[0m\n\u001b[0m",
            "\u001b[0;31mIndexError\u001b[0m: list index out of range"
          ]
        }
      ]
    },
    {
      "cell_type": "code",
      "source": [
        "for idade in idades:\n",
        "  print(idade)"
      ],
      "metadata": {
        "colab": {
          "base_uri": "https://localhost:8080/"
        },
        "id": "uH1K-M_PGqta",
        "outputId": "46d17957-10aa-4222-a259-82b21ccd8104"
      },
      "execution_count": null,
      "outputs": [
        {
          "output_type": "stream",
          "name": "stdout",
          "text": [
            "39\n",
            "30\n",
            "27\n",
            "18\n",
            "15\n"
          ]
        }
      ]
    },
    {
      "cell_type": "code",
      "source": [
        "idades.remove(15)"
      ],
      "metadata": {
        "id": "4URJiPN3GzCU"
      },
      "execution_count": null,
      "outputs": []
    },
    {
      "cell_type": "code",
      "source": [
        "idades.insert(39,5)"
      ],
      "metadata": {
        "id": "rCE3w6OrGy_z"
      },
      "execution_count": null,
      "outputs": []
    },
    {
      "cell_type": "code",
      "source": [
        "idades"
      ],
      "metadata": {
        "colab": {
          "base_uri": "https://localhost:8080/"
        },
        "id": "EXHOYO2wGy9D",
        "outputId": "705161e0-bfc4-4060-b1b2-6fdaa6c3f462"
      },
      "execution_count": null,
      "outputs": [
        {
          "output_type": "execute_result",
          "data": {
            "text/plain": [
              "[39, 30, 27, 18, 5]"
            ]
          },
          "metadata": {},
          "execution_count": 14
        }
      ]
    },
    {
      "cell_type": "code",
      "source": [
        "idades.clear()"
      ],
      "metadata": {
        "id": "8KaSRIpzGy6N"
      },
      "execution_count": null,
      "outputs": []
    },
    {
      "cell_type": "code",
      "source": [
        "idades"
      ],
      "metadata": {
        "colab": {
          "base_uri": "https://localhost:8080/"
        },
        "id": "WSitWntuGy3Q",
        "outputId": "6eeee8af-147a-4ab8-a7a0-c2f8bf114af8"
      },
      "execution_count": null,
      "outputs": [
        {
          "output_type": "execute_result",
          "data": {
            "text/plain": [
              "[]"
            ]
          },
          "metadata": {},
          "execution_count": 16
        }
      ]
    },
    {
      "cell_type": "code",
      "source": [
        "list?"
      ],
      "metadata": {
        "id": "rBE-0uUzGy1V"
      },
      "execution_count": null,
      "outputs": []
    },
    {
      "cell_type": "code",
      "source": [
        "list??"
      ],
      "metadata": {
        "id": "wbPAxsnGGyyd"
      },
      "execution_count": null,
      "outputs": []
    },
    {
      "cell_type": "code",
      "source": [
        "28 in idades"
      ],
      "metadata": {
        "colab": {
          "base_uri": "https://localhost:8080/"
        },
        "id": "op911xqiGysJ",
        "outputId": "07f0e0bb-1f69-4432-fe62-c323ea5138f4"
      },
      "execution_count": null,
      "outputs": [
        {
          "output_type": "execute_result",
          "data": {
            "text/plain": [
              "False"
            ]
          },
          "metadata": {},
          "execution_count": 21
        }
      ]
    },
    {
      "cell_type": "code",
      "source": [
        "39 in idades"
      ],
      "metadata": {
        "colab": {
          "base_uri": "https://localhost:8080/"
        },
        "id": "JZZtEblNGylk",
        "outputId": "0d504f24-209e-434b-82ea-81c0e858b733"
      },
      "execution_count": null,
      "outputs": [
        {
          "output_type": "execute_result",
          "data": {
            "text/plain": [
              "True"
            ]
          },
          "metadata": {},
          "execution_count": 22
        }
      ]
    },
    {
      "cell_type": "code",
      "source": [
        "idades"
      ],
      "metadata": {
        "colab": {
          "base_uri": "https://localhost:8080/"
        },
        "id": "sd7DrtvkGyet",
        "outputId": "28c9ad38-deb2-41b5-fe1a-0719ad7fd203"
      },
      "execution_count": null,
      "outputs": [
        {
          "output_type": "execute_result",
          "data": {
            "text/plain": [
              "[39, 30, 27, 18]"
            ]
          },
          "metadata": {},
          "execution_count": 23
        }
      ]
    },
    {
      "cell_type": "code",
      "source": [
        "if 39 in idades:\n",
        "  idades.remove(39)"
      ],
      "metadata": {
        "id": "OkfAnE4vGyW5"
      },
      "execution_count": null,
      "outputs": []
    },
    {
      "cell_type": "code",
      "source": [
        "idades"
      ],
      "metadata": {
        "colab": {
          "base_uri": "https://localhost:8080/"
        },
        "id": "n7Mk66MqGwdu",
        "outputId": "a19d780a-d921-4010-e470-316c81100b77"
      },
      "execution_count": null,
      "outputs": [
        {
          "output_type": "execute_result",
          "data": {
            "text/plain": [
              "[30, 27, 18]"
            ]
          },
          "metadata": {},
          "execution_count": 25
        }
      ]
    },
    {
      "cell_type": "code",
      "source": [
        "idades.reverse()"
      ],
      "metadata": {
        "id": "n-kAw68CIZBH"
      },
      "execution_count": null,
      "outputs": []
    },
    {
      "cell_type": "code",
      "source": [
        "idades"
      ],
      "metadata": {
        "colab": {
          "base_uri": "https://localhost:8080/"
        },
        "id": "Hi7ZsAsUIjd9",
        "outputId": "37e04685-ab71-44c5-a7fd-dccf3ac6f9db"
      },
      "execution_count": null,
      "outputs": [
        {
          "output_type": "execute_result",
          "data": {
            "text/plain": [
              "[18, 27, 30]"
            ]
          },
          "metadata": {},
          "execution_count": 28
        }
      ]
    },
    {
      "cell_type": "code",
      "source": [
        "idades.reverse()"
      ],
      "metadata": {
        "id": "3pnvfq6OIqbR"
      },
      "execution_count": null,
      "outputs": []
    },
    {
      "cell_type": "code",
      "source": [
        "idades.append(39)"
      ],
      "metadata": {
        "id": "eCoaIh_IJjGf"
      },
      "execution_count": null,
      "outputs": []
    },
    {
      "cell_type": "code",
      "source": [
        "idades"
      ],
      "metadata": {
        "colab": {
          "base_uri": "https://localhost:8080/"
        },
        "id": "ao76rURkJmSu",
        "outputId": "d07ef4fb-8cc2-4614-94c7-979f2c7f17a6"
      },
      "execution_count": null,
      "outputs": [
        {
          "output_type": "execute_result",
          "data": {
            "text/plain": [
              "[30, 27, 18, 39]"
            ]
          },
          "metadata": {},
          "execution_count": 31
        }
      ]
    },
    {
      "cell_type": "code",
      "source": [
        "idades.append([20,19])"
      ],
      "metadata": {
        "id": "B4qkiQ4lJosY"
      },
      "execution_count": null,
      "outputs": []
    },
    {
      "cell_type": "code",
      "source": [
        "idades"
      ],
      "metadata": {
        "colab": {
          "base_uri": "https://localhost:8080/"
        },
        "id": "1Lcc_tpnJ0li",
        "outputId": "94d116a3-ae7c-4e01-be3a-bf04162d3d03"
      },
      "execution_count": null,
      "outputs": [
        {
          "output_type": "execute_result",
          "data": {
            "text/plain": [
              "[30, 27, 18, 39, [20, 19]]"
            ]
          },
          "metadata": {},
          "execution_count": 34
        }
      ]
    },
    {
      "cell_type": "code",
      "source": [
        "for elemento in idades:\n",
        "  print('Recebi o elemento', elemento)"
      ],
      "metadata": {
        "colab": {
          "base_uri": "https://localhost:8080/"
        },
        "id": "06ZXDiVXJ7Sw",
        "outputId": "705bd5dc-7191-4ed6-9dc4-49bb4cd99607"
      },
      "execution_count": null,
      "outputs": [
        {
          "output_type": "stream",
          "name": "stdout",
          "text": [
            "Recebi o elemento 30\n",
            "Recebi o elemento 27\n",
            "Recebi o elemento 18\n",
            "Recebi o elemento 39\n",
            "Recebi o elemento [20, 19]\n"
          ]
        }
      ]
    },
    {
      "cell_type": "code",
      "source": [
        "idades.extend([20,19])"
      ],
      "metadata": {
        "id": "tEFw05KJKKLI"
      },
      "execution_count": null,
      "outputs": []
    },
    {
      "cell_type": "code",
      "source": [
        "len(idades)"
      ],
      "metadata": {
        "colab": {
          "base_uri": "https://localhost:8080/"
        },
        "id": "JfhthuDoKKFB",
        "outputId": "d90b5deb-b4ea-4ffe-b814-949c6c49a94d"
      },
      "execution_count": null,
      "outputs": [
        {
          "output_type": "execute_result",
          "data": {
            "text/plain": [
              "7"
            ]
          },
          "metadata": {},
          "execution_count": 38
        }
      ]
    },
    {
      "cell_type": "code",
      "source": [
        "idades"
      ],
      "metadata": {
        "colab": {
          "base_uri": "https://localhost:8080/"
        },
        "id": "GpsPtRy-KKCe",
        "outputId": "99a85b30-5bd4-44f5-ce4c-8b78d05b3e4c"
      },
      "execution_count": null,
      "outputs": [
        {
          "output_type": "execute_result",
          "data": {
            "text/plain": [
              "[30, 27, 18, 39, [20, 19], 20, 19]"
            ]
          },
          "metadata": {},
          "execution_count": 39
        }
      ]
    },
    {
      "cell_type": "code",
      "source": [
        "idades = [30,27,18,39]\n",
        "idades.extend([20,19])\n",
        "idades"
      ],
      "metadata": {
        "colab": {
          "base_uri": "https://localhost:8080/"
        },
        "id": "kuzycB2KKJ6N",
        "outputId": "f8f5d241-355b-4e3a-d9b3-c8e982fb05fc"
      },
      "execution_count": null,
      "outputs": [
        {
          "output_type": "execute_result",
          "data": {
            "text/plain": [
              "[30, 27, 18, 39, 20, 19]"
            ]
          },
          "metadata": {},
          "execution_count": 40
        }
      ]
    },
    {
      "cell_type": "code",
      "source": [
        "for idade in idades:\n",
        "  print(idade + 1)"
      ],
      "metadata": {
        "colab": {
          "base_uri": "https://localhost:8080/"
        },
        "id": "tUZ8C2_tKJDd",
        "outputId": "50bff787-882e-4402-e4a7-a468a99d80a8"
      },
      "execution_count": null,
      "outputs": [
        {
          "output_type": "stream",
          "name": "stdout",
          "text": [
            "31\n",
            "28\n",
            "19\n",
            "40\n",
            "21\n",
            "20\n"
          ]
        }
      ]
    },
    {
      "cell_type": "code",
      "source": [
        "idades_proximo_ano = []\n",
        "for idade in idades:\n",
        "  idades_proximo_ano.append(idade+1)\n",
        "idades_proximo_ano"
      ],
      "metadata": {
        "colab": {
          "base_uri": "https://localhost:8080/"
        },
        "id": "UXt8g2tTKI9P",
        "outputId": "0af7579c-823c-418c-b5f3-4c3ba3e684f5"
      },
      "execution_count": null,
      "outputs": [
        {
          "output_type": "execute_result",
          "data": {
            "text/plain": [
              "[31, 28, 19, 40, 21, 20]"
            ]
          },
          "metadata": {},
          "execution_count": 44
        }
      ]
    },
    {
      "cell_type": "code",
      "source": [
        "[(idade+1) for idade in idades]"
      ],
      "metadata": {
        "colab": {
          "base_uri": "https://localhost:8080/"
        },
        "id": "IfzshEjbKI6o",
        "outputId": "ad271c20-0735-4c83-f838-e1d64a812c1c"
      },
      "execution_count": null,
      "outputs": [
        {
          "output_type": "execute_result",
          "data": {
            "text/plain": [
              "[31, 28, 19, 40, 21, 20]"
            ]
          },
          "metadata": {},
          "execution_count": 45
        }
      ]
    },
    {
      "cell_type": "code",
      "source": [
        "idades_proximo_ano = [(idade+1) for idade in idades]"
      ],
      "metadata": {
        "id": "BBHH3tPiKI3R"
      },
      "execution_count": null,
      "outputs": []
    },
    {
      "cell_type": "code",
      "source": [
        "idades_proximo_ano"
      ],
      "metadata": {
        "colab": {
          "base_uri": "https://localhost:8080/"
        },
        "id": "9HpVg1zfKIu0",
        "outputId": "a5a373e7-31d4-4693-ea96-46d6bb279e1f"
      },
      "execution_count": null,
      "outputs": [
        {
          "output_type": "execute_result",
          "data": {
            "text/plain": [
              "[31, 28, 19, 40, 21, 20]"
            ]
          },
          "metadata": {},
          "execution_count": 47
        }
      ]
    },
    {
      "cell_type": "code",
      "source": [
        "[(idade) for idade in idades if idade > 21]"
      ],
      "metadata": {
        "colab": {
          "base_uri": "https://localhost:8080/"
        },
        "id": "yxC_Y7WCKG0J",
        "outputId": "4cdec294-dcbc-4a25-d2eb-627867f955d4"
      },
      "execution_count": null,
      "outputs": [
        {
          "output_type": "execute_result",
          "data": {
            "text/plain": [
              "[30, 27, 39]"
            ]
          },
          "metadata": {},
          "execution_count": 48
        }
      ]
    },
    {
      "cell_type": "code",
      "source": [
        "[(idade+1) for idade in idades if idade > 21]"
      ],
      "metadata": {
        "colab": {
          "base_uri": "https://localhost:8080/"
        },
        "id": "dYdji3xLLzOD",
        "outputId": "89ed272a-9245-4ec4-cfbb-9775d909580c"
      },
      "execution_count": null,
      "outputs": [
        {
          "output_type": "execute_result",
          "data": {
            "text/plain": [
              "[31, 28, 40]"
            ]
          },
          "metadata": {},
          "execution_count": 49
        }
      ]
    },
    {
      "cell_type": "code",
      "source": [
        "def proximo_ano(idade):\n",
        "  return idade+1\n",
        "  "
      ],
      "metadata": {
        "id": "Y4W2smXJL93J"
      },
      "execution_count": null,
      "outputs": []
    },
    {
      "cell_type": "code",
      "source": [
        "def faz_proc_vis(lista):\n",
        "  print(len(lista))\n",
        "  lista.append(12)"
      ],
      "metadata": {
        "id": "D31HVgmlL9zq"
      },
      "execution_count": null,
      "outputs": []
    },
    {
      "cell_type": "code",
      "source": [
        "idades = [16,21,29,56,43]\n",
        "faz_proc_vis(idades)\n",
        "idades"
      ],
      "metadata": {
        "colab": {
          "base_uri": "https://localhost:8080/"
        },
        "id": "nY6xv8C_L9xk",
        "outputId": "2bc0f93c-10c3-4f7f-97e7-ebe64e5b3574"
      },
      "execution_count": null,
      "outputs": [
        {
          "output_type": "stream",
          "name": "stdout",
          "text": [
            "5\n"
          ]
        },
        {
          "output_type": "execute_result",
          "data": {
            "text/plain": [
              "[16, 21, 29, 56, 43, 12]"
            ]
          },
          "metadata": {},
          "execution_count": 53
        }
      ]
    },
    {
      "cell_type": "markdown",
      "source": [
        "# Aula 2"
      ],
      "metadata": {
        "id": "nnhoQP0bO6ee"
      }
    },
    {
      "cell_type": "code",
      "source": [
        "class ContaCorrente:\n",
        "\n",
        "  def __int__(self, codigo):\n",
        "    self.codigo = codigo\n",
        "    self.saldo = 0\n",
        "\n",
        "  def deposita(self, valor):\n",
        "    self.saldo += valor\n",
        "\n",
        "  def __str__(self):\n",
        "    return \"(>> Codigo {} Saldo {}<<)\".format(self.codigo, self.saldo)"
      ],
      "metadata": {
        "id": "Rff0SGiBL9va"
      },
      "execution_count": null,
      "outputs": []
    },
    {
      "cell_type": "code",
      "source": [
        "usuarios = ['guilherme', 'daniela']\n",
        "usuarios\n",
        "\n",
        "[('Guilherme', 37, 1981), ('Daniela', 31, 1987)]"
      ],
      "metadata": {
        "colab": {
          "base_uri": "https://localhost:8080/"
        },
        "id": "BKHNtv8NL9pW",
        "outputId": "a9ebf007-029d-4fef-8b13-2e9d6cce7ecd"
      },
      "execution_count": null,
      "outputs": [
        {
          "output_type": "execute_result",
          "data": {
            "text/plain": [
              "[('Guilherme', 37, 1981), ('Daniela', 31, 1987)]"
            ]
          },
          "metadata": {},
          "execution_count": 72
        }
      ]
    },
    {
      "cell_type": "code",
      "source": [
        "usuarios.append(('Paulo', 39, 1979))\n",
        "usuarios"
      ],
      "metadata": {
        "colab": {
          "base_uri": "https://localhost:8080/"
        },
        "id": "LBi5hx5vL9no",
        "outputId": "82b5475c-ab70-419f-cf71-68c62984a699"
      },
      "execution_count": null,
      "outputs": [
        {
          "output_type": "execute_result",
          "data": {
            "text/plain": [
              "['guilherme', 'daniela', ('Paulo', 39, 1979)]"
            ]
          },
          "metadata": {},
          "execution_count": 73
        }
      ]
    },
    {
      "cell_type": "code",
      "source": [
        "usuarios \n",
        "\n",
        "[('Guilherme',37,1981), ('Daniela',31,1987), ('Paulo',39,1979)]"
      ],
      "metadata": {
        "colab": {
          "base_uri": "https://localhost:8080/"
        },
        "id": "0pZqn27nL9lh",
        "outputId": "2cde8134-3915-4a15-9db7-7043225f1da3"
      },
      "execution_count": null,
      "outputs": [
        {
          "output_type": "execute_result",
          "data": {
            "text/plain": [
              "[('Guilherme', 37, 1981), ('Daniela', 31, 1987), ('Paulo', 39, 1979)]"
            ]
          },
          "metadata": {},
          "execution_count": 74
        }
      ]
    },
    {
      "cell_type": "code",
      "source": [
        "agencia = (10, 22, 33, 44)\n",
        "\n",
        "saldo =  [1000, 2000, 3000, 4000]"
      ],
      "metadata": {
        "id": "ug9xVx4mL9Yt"
      },
      "execution_count": null,
      "outputs": []
    },
    {
      "cell_type": "markdown",
      "source": [
        "# Aula 3"
      ],
      "metadata": {
        "id": "aOEGdox1de07"
      }
    },
    {
      "cell_type": "code",
      "source": [
        "class Conta:\n",
        "\n",
        "  def __init__(self, codigo):\n",
        "    self._codigo = codigo\n",
        "    self._saldo = 0\n",
        "\n",
        "  def deposita(self, valor):\n",
        "    self._saldo += valor\n",
        "\n",
        "  def __str__(self):\n",
        "    return \"[>>Codigo {} Saldo {}<<]\".format(self._codigo, self._saldo)"
      ],
      "metadata": {
        "id": "DANF3bQqdGCN"
      },
      "execution_count": null,
      "outputs": []
    },
    {
      "cell_type": "code",
      "source": [
        "print(Conta(88))"
      ],
      "metadata": {
        "colab": {
          "base_uri": "https://localhost:8080/"
        },
        "id": "PhzjVc5MdF-6",
        "outputId": "307a0e83-28b0-4fb7-cf88-4877dfe10ac9"
      },
      "execution_count": null,
      "outputs": [
        {
          "output_type": "stream",
          "name": "stdout",
          "text": [
            "[>>Codigo 88 Saldo 0<<]\n"
          ]
        }
      ]
    },
    {
      "cell_type": "code",
      "source": [
        "class ContaCorrente(Conta):\n",
        "\n",
        "  def passa_o_mes(self):\n",
        "    self._saldo -= 2\n",
        "\n",
        "class ContaPoupanca(Conta):\n",
        "\n",
        "  def passa_o_mes(self):\n",
        "    self._saldo *= 1.01\n",
        "    self._saldo -= 3"
      ],
      "metadata": {
        "id": "9g5axhpIdF81"
      },
      "execution_count": null,
      "outputs": []
    },
    {
      "cell_type": "code",
      "source": [
        "conta16 = ContaCorrente(16)\n",
        "conta16.deposita(1000)\n",
        "conta16.passa_o_mes()\n",
        "print(conta16)"
      ],
      "metadata": {
        "colab": {
          "base_uri": "https://localhost:8080/"
        },
        "id": "fK7fDa8tdF6z",
        "outputId": "513f53ac-bdd7-4337-95d9-dc6040d98f96"
      },
      "execution_count": null,
      "outputs": [
        {
          "output_type": "stream",
          "name": "stdout",
          "text": [
            "[>>Codigo 16 Saldo 998<<]\n"
          ]
        }
      ]
    },
    {
      "cell_type": "code",
      "source": [
        "conta17 = ContaPoupanca(17)\n",
        "conta17.deposita(1000)\n",
        "conta17.passa_o_mes()\n",
        "print(conta17)"
      ],
      "metadata": {
        "colab": {
          "base_uri": "https://localhost:8080/"
        },
        "id": "Nk9qyWQgdF44",
        "outputId": "c715d834-f760-41dc-ecc7-9eadc0dbb0c7"
      },
      "execution_count": null,
      "outputs": [
        {
          "output_type": "stream",
          "name": "stdout",
          "text": [
            "[>>Codigo 17 Saldo 1007.0<<]\n"
          ]
        }
      ]
    },
    {
      "cell_type": "code",
      "source": [
        "import array as arr\n",
        "\n",
        "arr.array('d', [])"
      ],
      "metadata": {
        "colab": {
          "base_uri": "https://localhost:8080/"
        },
        "id": "dieli59zdF05",
        "outputId": "0d3996e8-45e5-48eb-8f54-18baa84a6b47"
      },
      "execution_count": null,
      "outputs": [
        {
          "output_type": "execute_result",
          "data": {
            "text/plain": [
              "array('d')"
            ]
          },
          "metadata": {},
          "execution_count": 84
        }
      ]
    },
    {
      "cell_type": "code",
      "source": [
        "import array as arr\n",
        "\n",
        "arr.array('d', [1, 3.5])\n",
        "\n",
        "array('d', [1.0. 3.5]) # no array, todos os elementos precisam ser do mesmo tipo"
      ],
      "metadata": {
        "colab": {
          "base_uri": "https://localhost:8080/",
          "height": 138
        },
        "id": "OIPfQ8GcdFy0",
        "outputId": "9a061e40-9b3c-4449-d8b2-93a744d8645d"
      },
      "execution_count": null,
      "outputs": [
        {
          "output_type": "error",
          "ename": "SyntaxError",
          "evalue": "ignored",
          "traceback": [
            "\u001b[0;36m  File \u001b[0;32m\"<ipython-input-86-1c69d11fea40>\"\u001b[0;36m, line \u001b[0;32m5\u001b[0m\n\u001b[0;31m    array('d', [1.0. 3.5]) # no array, todos os elementos precisam ser do mesmo tipo\u001b[0m\n\u001b[0m                       ^\u001b[0m\n\u001b[0;31mSyntaxError\u001b[0m\u001b[0;31m:\u001b[0m invalid syntax\n"
          ]
        }
      ]
    },
    {
      "cell_type": "markdown",
      "source": [
        "# Aula 4"
      ],
      "metadata": {
        "id": "07C7-bq9kDg5"
      }
    },
    {
      "cell_type": "code",
      "source": [
        "class ContaSalario: \n",
        "\n",
        "  def __init__(self, codigo):\n",
        "      self._codigo = codigo\n",
        "      self._saldo = saldo\n",
        "\n",
        "  def deposita(self, valor):\n",
        "      self._saldo += valor\n",
        "\n",
        "  def __str__(self):\n",
        "      return \"[>>Codigo {} Saldo {}<<]\".format(self._codigo, self._saldo)"
      ],
      "metadata": {
        "id": "HPCIQiTMdFxB"
      },
      "execution_count": null,
      "outputs": []
    },
    {
      "cell_type": "code",
      "source": [
        "class ContaSalario: \n",
        "\n",
        "  def __init__(self, codigo):\n",
        "      self._codigo = codigo\n",
        "      self._saldo = 0\n",
        "\n",
        "  def deposita(self, valor):\n",
        "      self._saldo += valor\n",
        "\n",
        "  def __str__(self):\n",
        "      return \"[>>Codigo {} Saldo {}<<]\".format(self._codigo, self._saldo)\n",
        "\n",
        "conta1 = ContaSalario(37)\n",
        "print(conta1)"
      ],
      "metadata": {
        "colab": {
          "base_uri": "https://localhost:8080/"
        },
        "id": "NC6puuYKdFs_",
        "outputId": "f8f75bd7-60bb-4c48-f799-7af969d9382c"
      },
      "execution_count": null,
      "outputs": [
        {
          "output_type": "stream",
          "name": "stdout",
          "text": [
            "[>>Codigo 37 Saldo 0<<]\n"
          ]
        }
      ]
    },
    {
      "cell_type": "code",
      "source": [
        "contas = [conta1]\n",
        "conta1 in contas "
      ],
      "metadata": {
        "colab": {
          "base_uri": "https://localhost:8080/"
        },
        "id": "MENkCzLydFrQ",
        "outputId": "36841373-5d5d-49cb-fd38-7497eae38177"
      },
      "execution_count": null,
      "outputs": [
        {
          "output_type": "execute_result",
          "data": {
            "text/plain": [
              "True"
            ]
          },
          "metadata": {},
          "execution_count": 94
        }
      ]
    },
    {
      "cell_type": "code",
      "source": [
        "class ContaSalario: \n",
        "\n",
        "  def __init__(self, codigo):\n",
        "      self._codigo = codigo\n",
        "      self._saldo = 0\n",
        "\n",
        "  def __eq__(self, outro):\n",
        "      return self._codigo == outro._codigo\n",
        "\n",
        "  def deposita(self, valor):\n",
        "      self._saldo += valor\n",
        "\n",
        "  def __str__(self):\n",
        "      return \"[>>Codigo {} Saldo {}<<]\".format(self._codigo, self._saldo)\n",
        "\n",
        "\n",
        "conta1 = ContaSalario(37)\n",
        "conta2 = ContaSalario(37)\n",
        "\n",
        "print(conta1)\n",
        "print(conta2)\n",
        "\n"
      ],
      "metadata": {
        "colab": {
          "base_uri": "https://localhost:8080/"
        },
        "id": "R6nwOA2YdFpL",
        "outputId": "102e2b91-3b8b-45d9-bcac-f516583bff4a"
      },
      "execution_count": null,
      "outputs": [
        {
          "output_type": "stream",
          "name": "stdout",
          "text": [
            "[>>Codigo 37 Saldo 0<<]\n",
            "[>>Codigo 37 Saldo 0<<]\n"
          ]
        }
      ]
    },
    {
      "cell_type": "code",
      "source": [
        "conta1 != conta2"
      ],
      "metadata": {
        "colab": {
          "base_uri": "https://localhost:8080/"
        },
        "id": "5F4KQMLWdFeT",
        "outputId": "6e10d245-c8b0-4c31-b16a-803816951098"
      },
      "execution_count": null,
      "outputs": [
        {
          "output_type": "execute_result",
          "data": {
            "text/plain": [
              "False"
            ]
          },
          "metadata": {},
          "execution_count": 99
        }
      ]
    },
    {
      "cell_type": "code",
      "source": [
        "conta_do_gui = ContaCorrente(15)\n",
        "\n",
        "conta_da_dani = ContaCorrente(15)\n",
        "\n",
        "if (conta_do_gui == conta_da_dani):\n",
        "    print(\"São iguais\")\n",
        "else:\n",
        "    print(\"São diferentes\")"
      ],
      "metadata": {
        "colab": {
          "base_uri": "https://localhost:8080/"
        },
        "id": "6s5tNTdPL88Z",
        "outputId": "4ec95fa2-1a03-40df-bf43-55677e204090"
      },
      "execution_count": null,
      "outputs": [
        {
          "output_type": "stream",
          "name": "stdout",
          "text": [
            "São diferentes\n"
          ]
        }
      ]
    },
    {
      "cell_type": "code",
      "source": [
        "conta_do_gui = ContaCorrente(15)\n",
        "\n",
        "conta_da_dani = ContaCorrente(15)\n",
        "\n",
        "if (conta_do_gui == conta_da_dani):\n",
        "    print(\"São iguais\")\n",
        "else:\n",
        "    print(\"São diferentes\")"
      ],
      "metadata": {
        "id": "jc9Lmfl1jZKT"
      },
      "execution_count": null,
      "outputs": []
    },
    {
      "cell_type": "markdown",
      "source": [
        "# Aula 5"
      ],
      "metadata": {
        "id": "0LiA18HMkGj1"
      }
    },
    {
      "cell_type": "code",
      "source": [
        "idades = [15, 87, 65, 56, 32, 49, 37]\n",
        "\n",
        "for idade in idades:\n",
        "  print(idade)\n",
        "\n",
        "15\n",
        "87\n",
        "65\n",
        "56\n",
        "32\n",
        "49\n",
        "37"
      ],
      "metadata": {
        "colab": {
          "base_uri": "https://localhost:8080/"
        },
        "id": "tQH5rux1jZG2",
        "outputId": "97cf3016-4c5e-41e5-d321-9a4589a14b95"
      },
      "execution_count": null,
      "outputs": [
        {
          "output_type": "stream",
          "name": "stdout",
          "text": [
            "15\n",
            "87\n",
            "65\n",
            "56\n",
            "32\n",
            "49\n",
            "37\n"
          ]
        },
        {
          "output_type": "execute_result",
          "data": {
            "text/plain": [
              "37"
            ]
          },
          "metadata": {},
          "execution_count": 104
        }
      ]
    },
    {
      "cell_type": "code",
      "source": [
        "idades = [15, 87, 65, 56, 32, 49, 37]\n",
        "\n",
        "for idade in idades:\n",
        "  print(idade)"
      ],
      "metadata": {
        "colab": {
          "base_uri": "https://localhost:8080/"
        },
        "id": "ZKe07aIXjZFC",
        "outputId": "5c20c413-a069-4d70-b45b-1144536ec69d"
      },
      "execution_count": null,
      "outputs": [
        {
          "output_type": "stream",
          "name": "stdout",
          "text": [
            "15\n",
            "87\n",
            "65\n",
            "56\n",
            "32\n",
            "49\n",
            "37\n"
          ]
        }
      ]
    },
    {
      "cell_type": "code",
      "source": [
        "idades = [15, 87, 32, 65, 56, 32, 49, 37]\n",
        "\n",
        "range(len(idades))\n",
        "\n",
        "range(0, 8)"
      ],
      "metadata": {
        "colab": {
          "base_uri": "https://localhost:8080/"
        },
        "id": "wZwetUsgjZC0",
        "outputId": "1a60ff21-2c13-411d-9f64-fec4ab8129f8"
      },
      "execution_count": null,
      "outputs": [
        {
          "output_type": "execute_result",
          "data": {
            "text/plain": [
              "range(0, 8)"
            ]
          },
          "metadata": {},
          "execution_count": 106
        }
      ]
    },
    {
      "cell_type": "code",
      "source": [
        "idades = [15, 87, 32, 65, 56, 32, 49, 37]\n",
        "\n",
        "range(len(idades))"
      ],
      "metadata": {
        "colab": {
          "base_uri": "https://localhost:8080/"
        },
        "id": "-V9KvQUFjZA3",
        "outputId": "a8492f29-dce1-4962-8a05-8d7bc2030894"
      },
      "execution_count": null,
      "outputs": [
        {
          "output_type": "execute_result",
          "data": {
            "text/plain": [
              "range(0, 8)"
            ]
          },
          "metadata": {},
          "execution_count": 107
        }
      ]
    },
    {
      "cell_type": "code",
      "source": [
        "idades = [15, 87, 32, 65, 56, 32, 49, 37]\n",
        "\n",
        "for i in range(len(idades)):\n",
        "  print(i)"
      ],
      "metadata": {
        "colab": {
          "base_uri": "https://localhost:8080/"
        },
        "id": "Mrl6yswyjY-4",
        "outputId": "feb1dbc2-a81e-4a4f-972b-16fb035d200f"
      },
      "execution_count": null,
      "outputs": [
        {
          "output_type": "stream",
          "name": "stdout",
          "text": [
            "0\n",
            "1\n",
            "2\n",
            "3\n",
            "4\n",
            "5\n",
            "6\n",
            "7\n"
          ]
        }
      ]
    },
    {
      "cell_type": "code",
      "source": [
        "idades = [15, 87, 32, 65, 56, 32, 49, 37]\n",
        "\n",
        "for i in range(len(idades)):\n",
        "  print(i, idades[i])"
      ],
      "metadata": {
        "colab": {
          "base_uri": "https://localhost:8080/"
        },
        "id": "yWKlTj1PjY8-",
        "outputId": "468fefb6-8d36-4470-fc42-3a3b737371f4"
      },
      "execution_count": null,
      "outputs": [
        {
          "output_type": "stream",
          "name": "stdout",
          "text": [
            "0 15\n",
            "1 87\n",
            "2 32\n",
            "3 65\n",
            "4 56\n",
            "5 32\n",
            "6 49\n",
            "7 37\n"
          ]
        }
      ]
    },
    {
      "cell_type": "code",
      "source": [
        "sum(idades)"
      ],
      "metadata": {
        "colab": {
          "base_uri": "https://localhost:8080/"
        },
        "id": "yC_YHLvajYze",
        "outputId": "1f8adb67-2ecd-443b-cdd2-d4cb5fae7335"
      },
      "execution_count": null,
      "outputs": [
        {
          "output_type": "execute_result",
          "data": {
            "text/plain": [
              "373"
            ]
          },
          "metadata": {},
          "execution_count": 111
        }
      ]
    },
    {
      "cell_type": "code",
      "source": [
        "len(idades)"
      ],
      "metadata": {
        "colab": {
          "base_uri": "https://localhost:8080/"
        },
        "id": "9brVF3xrjYar",
        "outputId": "1a8a0ffb-c52a-49fa-c6b3-7b489a96a1ca"
      },
      "execution_count": null,
      "outputs": [
        {
          "output_type": "execute_result",
          "data": {
            "text/plain": [
              "8"
            ]
          },
          "metadata": {},
          "execution_count": 112
        }
      ]
    },
    {
      "cell_type": "code",
      "source": [
        "idades.sort()"
      ],
      "metadata": {
        "id": "-KzDxrmGlBVG"
      },
      "execution_count": null,
      "outputs": []
    },
    {
      "cell_type": "code",
      "source": [
        "idades"
      ],
      "metadata": {
        "colab": {
          "base_uri": "https://localhost:8080/"
        },
        "id": "T8D-b0c5lmAJ",
        "outputId": "4acd4055-9eef-4929-af92-de37b07a2fdc"
      },
      "execution_count": null,
      "outputs": [
        {
          "output_type": "execute_result",
          "data": {
            "text/plain": [
              "[15, 32, 32, 37, 49, 56, 65, 87]"
            ]
          },
          "metadata": {},
          "execution_count": 117
        }
      ]
    },
    {
      "cell_type": "code",
      "source": [
        "import pandas as pd\n",
        "import numpy as np"
      ],
      "metadata": {
        "id": "FCOucijnlnhX"
      },
      "execution_count": null,
      "outputs": []
    },
    {
      "cell_type": "code",
      "source": [
        "df = pd.DataFrame(idades)"
      ],
      "metadata": {
        "id": "GyYUX0H9muF4"
      },
      "execution_count": null,
      "outputs": []
    },
    {
      "cell_type": "code",
      "source": [
        "df"
      ],
      "metadata": {
        "colab": {
          "base_uri": "https://localhost:8080/",
          "height": 300
        },
        "id": "jiqDGclPm-SF",
        "outputId": "44eb10e5-0370-4bd7-a2bf-53dec7823b22"
      },
      "execution_count": null,
      "outputs": [
        {
          "output_type": "execute_result",
          "data": {
            "text/plain": [
              "    0\n",
              "0  15\n",
              "1  32\n",
              "2  32\n",
              "3  37\n",
              "4  49\n",
              "5  56\n",
              "6  65\n",
              "7  87"
            ],
            "text/html": [
              "\n",
              "  <div id=\"df-f601f61b-6cf9-405c-8863-5aa899e4b604\">\n",
              "    <div class=\"colab-df-container\">\n",
              "      <div>\n",
              "<style scoped>\n",
              "    .dataframe tbody tr th:only-of-type {\n",
              "        vertical-align: middle;\n",
              "    }\n",
              "\n",
              "    .dataframe tbody tr th {\n",
              "        vertical-align: top;\n",
              "    }\n",
              "\n",
              "    .dataframe thead th {\n",
              "        text-align: right;\n",
              "    }\n",
              "</style>\n",
              "<table border=\"1\" class=\"dataframe\">\n",
              "  <thead>\n",
              "    <tr style=\"text-align: right;\">\n",
              "      <th></th>\n",
              "      <th>0</th>\n",
              "    </tr>\n",
              "  </thead>\n",
              "  <tbody>\n",
              "    <tr>\n",
              "      <th>0</th>\n",
              "      <td>15</td>\n",
              "    </tr>\n",
              "    <tr>\n",
              "      <th>1</th>\n",
              "      <td>32</td>\n",
              "    </tr>\n",
              "    <tr>\n",
              "      <th>2</th>\n",
              "      <td>32</td>\n",
              "    </tr>\n",
              "    <tr>\n",
              "      <th>3</th>\n",
              "      <td>37</td>\n",
              "    </tr>\n",
              "    <tr>\n",
              "      <th>4</th>\n",
              "      <td>49</td>\n",
              "    </tr>\n",
              "    <tr>\n",
              "      <th>5</th>\n",
              "      <td>56</td>\n",
              "    </tr>\n",
              "    <tr>\n",
              "      <th>6</th>\n",
              "      <td>65</td>\n",
              "    </tr>\n",
              "    <tr>\n",
              "      <th>7</th>\n",
              "      <td>87</td>\n",
              "    </tr>\n",
              "  </tbody>\n",
              "</table>\n",
              "</div>\n",
              "      <button class=\"colab-df-convert\" onclick=\"convertToInteractive('df-f601f61b-6cf9-405c-8863-5aa899e4b604')\"\n",
              "              title=\"Convert this dataframe to an interactive table.\"\n",
              "              style=\"display:none;\">\n",
              "        \n",
              "  <svg xmlns=\"http://www.w3.org/2000/svg\" height=\"24px\"viewBox=\"0 0 24 24\"\n",
              "       width=\"24px\">\n",
              "    <path d=\"M0 0h24v24H0V0z\" fill=\"none\"/>\n",
              "    <path d=\"M18.56 5.44l.94 2.06.94-2.06 2.06-.94-2.06-.94-.94-2.06-.94 2.06-2.06.94zm-11 1L8.5 8.5l.94-2.06 2.06-.94-2.06-.94L8.5 2.5l-.94 2.06-2.06.94zm10 10l.94 2.06.94-2.06 2.06-.94-2.06-.94-.94-2.06-.94 2.06-2.06.94z\"/><path d=\"M17.41 7.96l-1.37-1.37c-.4-.4-.92-.59-1.43-.59-.52 0-1.04.2-1.43.59L10.3 9.45l-7.72 7.72c-.78.78-.78 2.05 0 2.83L4 21.41c.39.39.9.59 1.41.59.51 0 1.02-.2 1.41-.59l7.78-7.78 2.81-2.81c.8-.78.8-2.07 0-2.86zM5.41 20L4 18.59l7.72-7.72 1.47 1.35L5.41 20z\"/>\n",
              "  </svg>\n",
              "      </button>\n",
              "      \n",
              "  <style>\n",
              "    .colab-df-container {\n",
              "      display:flex;\n",
              "      flex-wrap:wrap;\n",
              "      gap: 12px;\n",
              "    }\n",
              "\n",
              "    .colab-df-convert {\n",
              "      background-color: #E8F0FE;\n",
              "      border: none;\n",
              "      border-radius: 50%;\n",
              "      cursor: pointer;\n",
              "      display: none;\n",
              "      fill: #1967D2;\n",
              "      height: 32px;\n",
              "      padding: 0 0 0 0;\n",
              "      width: 32px;\n",
              "    }\n",
              "\n",
              "    .colab-df-convert:hover {\n",
              "      background-color: #E2EBFA;\n",
              "      box-shadow: 0px 1px 2px rgba(60, 64, 67, 0.3), 0px 1px 3px 1px rgba(60, 64, 67, 0.15);\n",
              "      fill: #174EA6;\n",
              "    }\n",
              "\n",
              "    [theme=dark] .colab-df-convert {\n",
              "      background-color: #3B4455;\n",
              "      fill: #D2E3FC;\n",
              "    }\n",
              "\n",
              "    [theme=dark] .colab-df-convert:hover {\n",
              "      background-color: #434B5C;\n",
              "      box-shadow: 0px 1px 3px 1px rgba(0, 0, 0, 0.15);\n",
              "      filter: drop-shadow(0px 1px 2px rgba(0, 0, 0, 0.3));\n",
              "      fill: #FFFFFF;\n",
              "    }\n",
              "  </style>\n",
              "\n",
              "      <script>\n",
              "        const buttonEl =\n",
              "          document.querySelector('#df-f601f61b-6cf9-405c-8863-5aa899e4b604 button.colab-df-convert');\n",
              "        buttonEl.style.display =\n",
              "          google.colab.kernel.accessAllowed ? 'block' : 'none';\n",
              "\n",
              "        async function convertToInteractive(key) {\n",
              "          const element = document.querySelector('#df-f601f61b-6cf9-405c-8863-5aa899e4b604');\n",
              "          const dataTable =\n",
              "            await google.colab.kernel.invokeFunction('convertToInteractive',\n",
              "                                                     [key], {});\n",
              "          if (!dataTable) return;\n",
              "\n",
              "          const docLinkHtml = 'Like what you see? Visit the ' +\n",
              "            '<a target=\"_blank\" href=https://colab.research.google.com/notebooks/data_table.ipynb>data table notebook</a>'\n",
              "            + ' to learn more about interactive tables.';\n",
              "          element.innerHTML = '';\n",
              "          dataTable['output_type'] = 'display_data';\n",
              "          await google.colab.output.renderOutput(dataTable, element);\n",
              "          const docLink = document.createElement('div');\n",
              "          docLink.innerHTML = docLinkHtml;\n",
              "          element.appendChild(docLink);\n",
              "        }\n",
              "      </script>\n",
              "    </div>\n",
              "  </div>\n",
              "  "
            ]
          },
          "metadata": {},
          "execution_count": 123
        }
      ]
    },
    {
      "cell_type": "code",
      "source": [
        "df.mean()"
      ],
      "metadata": {
        "colab": {
          "base_uri": "https://localhost:8080/"
        },
        "id": "s_-XIcpFm_Jg",
        "outputId": "fe19389c-1aa9-4970-ce1f-debb6e875223"
      },
      "execution_count": null,
      "outputs": [
        {
          "output_type": "execute_result",
          "data": {
            "text/plain": [
              "0    46.625\n",
              "dtype: float64"
            ]
          },
          "metadata": {},
          "execution_count": 124
        }
      ]
    },
    {
      "cell_type": "code",
      "source": [
        "df.describe()"
      ],
      "metadata": {
        "colab": {
          "base_uri": "https://localhost:8080/",
          "height": 300
        },
        "id": "1DJbuSWcnCj1",
        "outputId": "8b9aa099-57ae-445d-abad-22d735a9a4b1"
      },
      "execution_count": null,
      "outputs": [
        {
          "output_type": "execute_result",
          "data": {
            "text/plain": [
              "               0\n",
              "count   8.000000\n",
              "mean   46.625000\n",
              "std    22.620708\n",
              "min    15.000000\n",
              "25%    32.000000\n",
              "50%    43.000000\n",
              "75%    58.250000\n",
              "max    87.000000"
            ],
            "text/html": [
              "\n",
              "  <div id=\"df-6a653b61-6c71-4f08-b44a-dda95a8c73c4\">\n",
              "    <div class=\"colab-df-container\">\n",
              "      <div>\n",
              "<style scoped>\n",
              "    .dataframe tbody tr th:only-of-type {\n",
              "        vertical-align: middle;\n",
              "    }\n",
              "\n",
              "    .dataframe tbody tr th {\n",
              "        vertical-align: top;\n",
              "    }\n",
              "\n",
              "    .dataframe thead th {\n",
              "        text-align: right;\n",
              "    }\n",
              "</style>\n",
              "<table border=\"1\" class=\"dataframe\">\n",
              "  <thead>\n",
              "    <tr style=\"text-align: right;\">\n",
              "      <th></th>\n",
              "      <th>0</th>\n",
              "    </tr>\n",
              "  </thead>\n",
              "  <tbody>\n",
              "    <tr>\n",
              "      <th>count</th>\n",
              "      <td>8.000000</td>\n",
              "    </tr>\n",
              "    <tr>\n",
              "      <th>mean</th>\n",
              "      <td>46.625000</td>\n",
              "    </tr>\n",
              "    <tr>\n",
              "      <th>std</th>\n",
              "      <td>22.620708</td>\n",
              "    </tr>\n",
              "    <tr>\n",
              "      <th>min</th>\n",
              "      <td>15.000000</td>\n",
              "    </tr>\n",
              "    <tr>\n",
              "      <th>25%</th>\n",
              "      <td>32.000000</td>\n",
              "    </tr>\n",
              "    <tr>\n",
              "      <th>50%</th>\n",
              "      <td>43.000000</td>\n",
              "    </tr>\n",
              "    <tr>\n",
              "      <th>75%</th>\n",
              "      <td>58.250000</td>\n",
              "    </tr>\n",
              "    <tr>\n",
              "      <th>max</th>\n",
              "      <td>87.000000</td>\n",
              "    </tr>\n",
              "  </tbody>\n",
              "</table>\n",
              "</div>\n",
              "      <button class=\"colab-df-convert\" onclick=\"convertToInteractive('df-6a653b61-6c71-4f08-b44a-dda95a8c73c4')\"\n",
              "              title=\"Convert this dataframe to an interactive table.\"\n",
              "              style=\"display:none;\">\n",
              "        \n",
              "  <svg xmlns=\"http://www.w3.org/2000/svg\" height=\"24px\"viewBox=\"0 0 24 24\"\n",
              "       width=\"24px\">\n",
              "    <path d=\"M0 0h24v24H0V0z\" fill=\"none\"/>\n",
              "    <path d=\"M18.56 5.44l.94 2.06.94-2.06 2.06-.94-2.06-.94-.94-2.06-.94 2.06-2.06.94zm-11 1L8.5 8.5l.94-2.06 2.06-.94-2.06-.94L8.5 2.5l-.94 2.06-2.06.94zm10 10l.94 2.06.94-2.06 2.06-.94-2.06-.94-.94-2.06-.94 2.06-2.06.94z\"/><path d=\"M17.41 7.96l-1.37-1.37c-.4-.4-.92-.59-1.43-.59-.52 0-1.04.2-1.43.59L10.3 9.45l-7.72 7.72c-.78.78-.78 2.05 0 2.83L4 21.41c.39.39.9.59 1.41.59.51 0 1.02-.2 1.41-.59l7.78-7.78 2.81-2.81c.8-.78.8-2.07 0-2.86zM5.41 20L4 18.59l7.72-7.72 1.47 1.35L5.41 20z\"/>\n",
              "  </svg>\n",
              "      </button>\n",
              "      \n",
              "  <style>\n",
              "    .colab-df-container {\n",
              "      display:flex;\n",
              "      flex-wrap:wrap;\n",
              "      gap: 12px;\n",
              "    }\n",
              "\n",
              "    .colab-df-convert {\n",
              "      background-color: #E8F0FE;\n",
              "      border: none;\n",
              "      border-radius: 50%;\n",
              "      cursor: pointer;\n",
              "      display: none;\n",
              "      fill: #1967D2;\n",
              "      height: 32px;\n",
              "      padding: 0 0 0 0;\n",
              "      width: 32px;\n",
              "    }\n",
              "\n",
              "    .colab-df-convert:hover {\n",
              "      background-color: #E2EBFA;\n",
              "      box-shadow: 0px 1px 2px rgba(60, 64, 67, 0.3), 0px 1px 3px 1px rgba(60, 64, 67, 0.15);\n",
              "      fill: #174EA6;\n",
              "    }\n",
              "\n",
              "    [theme=dark] .colab-df-convert {\n",
              "      background-color: #3B4455;\n",
              "      fill: #D2E3FC;\n",
              "    }\n",
              "\n",
              "    [theme=dark] .colab-df-convert:hover {\n",
              "      background-color: #434B5C;\n",
              "      box-shadow: 0px 1px 3px 1px rgba(0, 0, 0, 0.15);\n",
              "      filter: drop-shadow(0px 1px 2px rgba(0, 0, 0, 0.3));\n",
              "      fill: #FFFFFF;\n",
              "    }\n",
              "  </style>\n",
              "\n",
              "      <script>\n",
              "        const buttonEl =\n",
              "          document.querySelector('#df-6a653b61-6c71-4f08-b44a-dda95a8c73c4 button.colab-df-convert');\n",
              "        buttonEl.style.display =\n",
              "          google.colab.kernel.accessAllowed ? 'block' : 'none';\n",
              "\n",
              "        async function convertToInteractive(key) {\n",
              "          const element = document.querySelector('#df-6a653b61-6c71-4f08-b44a-dda95a8c73c4');\n",
              "          const dataTable =\n",
              "            await google.colab.kernel.invokeFunction('convertToInteractive',\n",
              "                                                     [key], {});\n",
              "          if (!dataTable) return;\n",
              "\n",
              "          const docLinkHtml = 'Like what you see? Visit the ' +\n",
              "            '<a target=\"_blank\" href=https://colab.research.google.com/notebooks/data_table.ipynb>data table notebook</a>'\n",
              "            + ' to learn more about interactive tables.';\n",
              "          element.innerHTML = '';\n",
              "          dataTable['output_type'] = 'display_data';\n",
              "          await google.colab.output.renderOutput(dataTable, element);\n",
              "          const docLink = document.createElement('div');\n",
              "          docLink.innerHTML = docLinkHtml;\n",
              "          element.appendChild(docLink);\n",
              "        }\n",
              "      </script>\n",
              "    </div>\n",
              "  </div>\n",
              "  "
            ]
          },
          "metadata": {},
          "execution_count": 125
        }
      ]
    },
    {
      "cell_type": "code",
      "source": [
        "df.boxplot()"
      ],
      "metadata": {
        "colab": {
          "base_uri": "https://localhost:8080/",
          "height": 287
        },
        "id": "X5YPP8aHnFvy",
        "outputId": "ebeb7bfc-9999-42a6-c04a-39e584c4269f"
      },
      "execution_count": null,
      "outputs": [
        {
          "output_type": "execute_result",
          "data": {
            "text/plain": [
              "<matplotlib.axes._subplots.AxesSubplot at 0x7fda9f17f550>"
            ]
          },
          "metadata": {},
          "execution_count": 126
        },
        {
          "output_type": "display_data",
          "data": {
            "text/plain": [
              "<Figure size 432x288 with 1 Axes>"
            ],
            "image/png": "[encoded data removed]"
          },
          "metadata": {
            "needs_background": "light"
          }
        }
      ]
    },
    {
      "cell_type": "code",
      "source": [
        "df.hist()"
      ],
      "metadata": {
        "colab": {
          "base_uri": "https://localhost:8080/",
          "height": 319
        },
        "id": "U9-csXj9nLlW",
        "outputId": "bd965285-d386-4bb8-cd49-309edd017440"
      },
      "execution_count": null,
      "outputs": [
        {
          "output_type": "execute_result",
          "data": {
            "text/plain": [
              "array([[<matplotlib.axes._subplots.AxesSubplot object at 0x7fda9e407d90>]],\n",
              "      dtype=object)"
            ]
          },
          "metadata": {},
          "execution_count": 127
        },
        {
          "output_type": "display_data",
          "data": {
            "text/plain": [
              "<Figure size 432x288 with 1 Axes>"
            ],
            "image/png": "[encoded data removed]"
          },
          "metadata": {
            "needs_background": "light"
          }
        }
      ]
    },
    {
      "cell_type": "code",
      "source": [
        "enumerate(idades)"
      ],
      "metadata": {
        "colab": {
          "base_uri": "https://localhost:8080/"
        },
        "id": "N0U4xdHAnNrN",
        "outputId": "84c56931-0725-4850-edbd-c0616b37edff"
      },
      "execution_count": null,
      "outputs": [
        {
          "output_type": "execute_result",
          "data": {
            "text/plain": [
              "<enumerate at 0x7fda9e3aed70>"
            ]
          },
          "metadata": {},
          "execution_count": 129
        }
      ]
    },
    {
      "cell_type": "code",
      "source": [
        "idades"
      ],
      "metadata": {
        "colab": {
          "base_uri": "https://localhost:8080/"
        },
        "id": "OxW25l9Unb8W",
        "outputId": "ed8256f3-be30-4616-c81f-950b48ea9f55"
      },
      "execution_count": null,
      "outputs": [
        {
          "output_type": "execute_result",
          "data": {
            "text/plain": [
              "[15, 32, 32, 37, 49, 56, 65, 87]"
            ]
          },
          "metadata": {},
          "execution_count": 130
        }
      ]
    },
    {
      "cell_type": "code",
      "source": [
        "type(range(len(idades)))"
      ],
      "metadata": {
        "colab": {
          "base_uri": "https://localhost:8080/"
        },
        "id": "iArc5XEbnlyP",
        "outputId": "8e38a281-9ffd-4bc8-82b9-e9dc2132fe62"
      },
      "execution_count": null,
      "outputs": [
        {
          "output_type": "execute_result",
          "data": {
            "text/plain": [
              "range"
            ]
          },
          "metadata": {},
          "execution_count": 131
        }
      ]
    },
    {
      "cell_type": "code",
      "source": [
        "range(len(idades)) # lazy...\n",
        "\n",
        "range(0, 8)\n",
        "\n",
        "enumerate(idades) # lazy"
      ],
      "metadata": {
        "colab": {
          "base_uri": "https://localhost:8080/"
        },
        "id": "fm6Dg9fSnonh",
        "outputId": "ade3f48c-5a5a-4113-f63f-d1eecb90cb93"
      },
      "execution_count": null,
      "outputs": [
        {
          "output_type": "execute_result",
          "data": {
            "text/plain": [
              "<enumerate at 0x7fda9e39b0f0>"
            ]
          },
          "metadata": {},
          "execution_count": 132
        }
      ]
    },
    {
      "cell_type": "code",
      "source": [
        "list(range(len(idades))) # forcei a geração dos valores"
      ],
      "metadata": {
        "colab": {
          "base_uri": "https://localhost:8080/"
        },
        "id": "uH5uodQvntU2",
        "outputId": "782d9f26-dcbb-452d-b449-5ba322edd921"
      },
      "execution_count": null,
      "outputs": [
        {
          "output_type": "execute_result",
          "data": {
            "text/plain": [
              "[0, 1, 2, 3, 4, 5, 6, 7]"
            ]
          },
          "metadata": {},
          "execution_count": 133
        }
      ]
    },
    {
      "cell_type": "code",
      "source": [
        "list(enumerate(idades))"
      ],
      "metadata": {
        "colab": {
          "base_uri": "https://localhost:8080/"
        },
        "id": "wcrJvnXen0bw",
        "outputId": "a56f0077-8b2b-4bad-8d24-079ae758a1e6"
      },
      "execution_count": null,
      "outputs": [
        {
          "output_type": "execute_result",
          "data": {
            "text/plain": [
              "[(0, 15), (1, 32), (2, 32), (3, 37), (4, 49), (5, 56), (6, 65), (7, 87)]"
            ]
          },
          "metadata": {},
          "execution_count": 134
        }
      ]
    },
    {
      "cell_type": "code",
      "source": [
        "for valor in enumerate(idades):\n",
        "  print(valor)"
      ],
      "metadata": {
        "colab": {
          "base_uri": "https://localhost:8080/"
        },
        "id": "yquJQ4mln4y7",
        "outputId": "01aeb9f6-d3b7-4d6c-e7bd-4843db6dfbde"
      },
      "execution_count": null,
      "outputs": [
        {
          "output_type": "stream",
          "name": "stdout",
          "text": [
            "(0, 15)\n",
            "(1, 32)\n",
            "(2, 32)\n",
            "(3, 37)\n",
            "(4, 49)\n",
            "(5, 56)\n",
            "(6, 65)\n",
            "(7, 87)\n"
          ]
        }
      ]
    },
    {
      "cell_type": "code",
      "source": [
        "for indice, idade in enumerate(idades):\n",
        "  print(indice, idade)"
      ],
      "metadata": {
        "colab": {
          "base_uri": "https://localhost:8080/"
        },
        "id": "9WhyidDIoBGH",
        "outputId": "c92b720b-93df-40bd-f3d4-68970244862a"
      },
      "execution_count": null,
      "outputs": [
        {
          "output_type": "stream",
          "name": "stdout",
          "text": [
            "0 15\n",
            "1 32\n",
            "2 32\n",
            "3 37\n",
            "4 49\n",
            "5 56\n",
            "6 65\n",
            "7 87\n"
          ]
        }
      ]
    },
    {
      "cell_type": "code",
      "source": [
        "for indice, idade in enumerate(idades): # unpacking da nossa tupla\n",
        "  print(indice, \"x\", idade)"
      ],
      "metadata": {
        "colab": {
          "base_uri": "https://localhost:8080/"
        },
        "id": "tGbwgquMoFcd",
        "outputId": "b7c04bf1-e374-4d4f-eab5-b155c1c3ee7b"
      },
      "execution_count": null,
      "outputs": [
        {
          "output_type": "stream",
          "name": "stdout",
          "text": [
            "0 x 15\n",
            "1 x 32\n",
            "2 x 32\n",
            "3 x 37\n",
            "4 x 49\n",
            "5 x 56\n",
            "6 x 65\n",
            "7 x 87\n"
          ]
        }
      ]
    },
    {
      "cell_type": "code",
      "source": [
        "usuarios = [\n",
        "    (\"Guilherme\", 37, 1981),\n",
        "    (\"Daniela\", 31, 1987),\n",
        "    (\"Paulo\", 39, 1979)]"
      ],
      "metadata": {
        "id": "4rQdNmtFoMsi"
      },
      "execution_count": null,
      "outputs": []
    },
    {
      "cell_type": "code",
      "source": [
        "usuarios = [\n",
        "    (\"Guilherme\", 37, 1981),\n",
        "    (\"Daniela\", 31, 1987),\n",
        "    (\"Paulo\", 39, 1979)\n",
        "]\n",
        "\n",
        "for nome, idade, nascimento in usuarios: # ja desempacotando\n",
        "  print(nome)"
      ],
      "metadata": {
        "colab": {
          "base_uri": "https://localhost:8080/"
        },
        "id": "no-pbOoRn9uP",
        "outputId": "b71dfe64-a6d5-4135-a253-7e8666bac71b"
      },
      "execution_count": null,
      "outputs": [
        {
          "output_type": "stream",
          "name": "stdout",
          "text": [
            "Guilherme\n",
            "Daniela\n",
            "Paulo\n"
          ]
        }
      ]
    },
    {
      "cell_type": "code",
      "source": [
        "idades = [15,87,37,45,56,32,49,37]\n",
        "for i in range(len(idades)):\n",
        "    print(i,idades[i])"
      ],
      "metadata": {
        "colab": {
          "base_uri": "https://localhost:8080/"
        },
        "id": "TFISBBqvoUqO",
        "outputId": "307d97d1-3517-46f4-8313-57cc8f1cd8c4"
      },
      "execution_count": null,
      "outputs": [
        {
          "output_type": "stream",
          "name": "stdout",
          "text": [
            "0 15\n",
            "1 87\n",
            "2 37\n",
            "3 45\n",
            "4 56\n",
            "5 32\n",
            "6 49\n",
            "7 37\n"
          ]
        }
      ]
    },
    {
      "cell_type": "markdown",
      "source": [
        "# Aula 6"
      ],
      "metadata": {
        "id": "NJmaR8oyoojP"
      }
    },
    {
      "cell_type": "code",
      "source": [
        "idades"
      ],
      "metadata": {
        "colab": {
          "base_uri": "https://localhost:8080/"
        },
        "id": "ozIkV_SGocJa",
        "outputId": "3b85eae2-f9a0-4243-a2ee-6989661a0b1f"
      },
      "execution_count": null,
      "outputs": [
        {
          "output_type": "execute_result",
          "data": {
            "text/plain": [
              "[15, 87, 37, 45, 56, 32, 49, 37]"
            ]
          },
          "metadata": {},
          "execution_count": 142
        }
      ]
    },
    {
      "cell_type": "code",
      "source": [
        "sorted(idades)"
      ],
      "metadata": {
        "colab": {
          "base_uri": "https://localhost:8080/"
        },
        "id": "qlvLC52Ro-nr",
        "outputId": "4c50b947-e9c8-4b45-8e00-0381e84db742"
      },
      "execution_count": null,
      "outputs": [
        {
          "output_type": "execute_result",
          "data": {
            "text/plain": [
              "[15, 32, 37, 37, 45, 49, 56, 87]"
            ]
          },
          "metadata": {},
          "execution_count": 143
        }
      ]
    },
    {
      "cell_type": "code",
      "source": [
        "15 < 32"
      ],
      "metadata": {
        "colab": {
          "base_uri": "https://localhost:8080/"
        },
        "id": "vpyeYTebpBhY",
        "outputId": "ccad0230-8988-4009-9e1b-a001a35f88e8"
      },
      "execution_count": null,
      "outputs": [
        {
          "output_type": "execute_result",
          "data": {
            "text/plain": [
              "True"
            ]
          },
          "metadata": {},
          "execution_count": 144
        }
      ]
    },
    {
      "cell_type": "code",
      "source": [
        "list(reversed(idades))"
      ],
      "metadata": {
        "colab": {
          "base_uri": "https://localhost:8080/"
        },
        "id": "ttUSsaNvpFZ5",
        "outputId": "306d3f78-43c3-4772-d8ba-449abdb8f4db"
      },
      "execution_count": null,
      "outputs": [
        {
          "output_type": "execute_result",
          "data": {
            "text/plain": [
              "[37, 49, 32, 56, 45, 37, 87, 15]"
            ]
          },
          "metadata": {},
          "execution_count": 148
        }
      ]
    },
    {
      "cell_type": "code",
      "source": [
        "sorted(reversed(sorted(idades)))"
      ],
      "metadata": {
        "colab": {
          "base_uri": "https://localhost:8080/"
        },
        "id": "mbedDUW3pIJZ",
        "outputId": "d4501102-78da-4984-8aa3-bce7d7fee18f"
      },
      "execution_count": null,
      "outputs": [
        {
          "output_type": "execute_result",
          "data": {
            "text/plain": [
              "[15, 32, 37, 37, 45, 49, 56, 87]"
            ]
          },
          "metadata": {},
          "execution_count": 149
        }
      ]
    },
    {
      "cell_type": "code",
      "source": [
        "idades.sort()"
      ],
      "metadata": {
        "id": "UYYvboPupOGU"
      },
      "execution_count": null,
      "outputs": []
    },
    {
      "cell_type": "code",
      "source": [
        "idades"
      ],
      "metadata": {
        "colab": {
          "base_uri": "https://localhost:8080/"
        },
        "id": "S0_z2kIqplXV",
        "outputId": "eff685cf-b9a5-4b5e-a1c0-ce7653503d3c"
      },
      "execution_count": null,
      "outputs": [
        {
          "output_type": "execute_result",
          "data": {
            "text/plain": [
              "[15, 32, 37, 37, 45, 49, 56, 87]"
            ]
          },
          "metadata": {},
          "execution_count": 151
        }
      ]
    },
    {
      "cell_type": "code",
      "source": [
        "idades.reverse()"
      ],
      "metadata": {
        "id": "piOopS4apmTW"
      },
      "execution_count": null,
      "outputs": []
    },
    {
      "cell_type": "code",
      "source": [
        "idades"
      ],
      "metadata": {
        "colab": {
          "base_uri": "https://localhost:8080/"
        },
        "id": "p436HW3_poYg",
        "outputId": "e6e555d9-e177-4b55-80f4-fa912da09e48"
      },
      "execution_count": null,
      "outputs": [
        {
          "output_type": "execute_result",
          "data": {
            "text/plain": [
              "[87, 56, 49, 45, 37, 37, 32, 15]"
            ]
          },
          "metadata": {},
          "execution_count": 153
        }
      ]
    },
    {
      "cell_type": "code",
      "source": [
        "idades = [12,90,1,8,10,25,32,31,40,50]"
      ],
      "metadata": {
        "id": "4PhwhI0Ppsjg"
      },
      "execution_count": null,
      "outputs": []
    },
    {
      "cell_type": "code",
      "source": [
        "list(reversed(idades))"
      ],
      "metadata": {
        "colab": {
          "base_uri": "https://localhost:8080/"
        },
        "id": "f78M4LKApsgA",
        "outputId": "12c52800-a86d-4b8e-ff5d-8a99c5a8703c"
      },
      "execution_count": null,
      "outputs": [
        {
          "output_type": "execute_result",
          "data": {
            "text/plain": [
              "[50, 40, 31, 32, 25, 10, 8, 1, 90, 12]"
            ]
          },
          "metadata": {},
          "execution_count": 155
        }
      ]
    },
    {
      "cell_type": "code",
      "source": [
        "sorted(idades)"
      ],
      "metadata": {
        "colab": {
          "base_uri": "https://localhost:8080/"
        },
        "id": "GHI4jafBpseA",
        "outputId": "e27d2d4f-3f6b-4133-97b9-9c8fd8be6bbc"
      },
      "execution_count": null,
      "outputs": [
        {
          "output_type": "execute_result",
          "data": {
            "text/plain": [
              "[1, 8, 10, 12, 25, 31, 32, 40, 50, 90]"
            ]
          },
          "metadata": {},
          "execution_count": 156
        }
      ]
    },
    {
      "cell_type": "markdown",
      "source": [
        "# Aula 7"
      ],
      "metadata": {
        "id": "9pFVbB3aqYNf"
      }
    },
    {
      "cell_type": "code",
      "source": [
        "nomes = [\"Guilherme\", \"Daniela\", \"Paulo\"]\n",
        "sorted(nomes)"
      ],
      "metadata": {
        "colab": {
          "base_uri": "https://localhost:8080/"
        },
        "id": "dHOPhWV6pscO",
        "outputId": "98a0b920-b60d-48d1-a0d8-58b75e568ffa"
      },
      "execution_count": null,
      "outputs": [
        {
          "output_type": "execute_result",
          "data": {
            "text/plain": [
              "['Daniela', 'Guilherme', 'Paulo']"
            ]
          },
          "metadata": {},
          "execution_count": 157
        }
      ]
    },
    {
      "cell_type": "code",
      "source": [
        "nomes = [\"guilherme\", \"Daniela\", \"Paulo\"]\n",
        "sorted(nomes)"
      ],
      "metadata": {
        "colab": {
          "base_uri": "https://localhost:8080/"
        },
        "id": "3eNdHNx1psaC",
        "outputId": "a11ba92d-c885-4893-85ac-c58deaddc4f7"
      },
      "execution_count": null,
      "outputs": [
        {
          "output_type": "execute_result",
          "data": {
            "text/plain": [
              "['Daniela', 'Paulo', 'guilherme']"
            ]
          },
          "metadata": {},
          "execution_count": 158
        }
      ]
    },
    {
      "cell_type": "code",
      "source": [
        "class ContaSalario:\n",
        "\n",
        "  def __init__(self, codigo):\n",
        "    self._codigo = codigo\n",
        "    self._saldo = 0\n",
        "\n",
        "  def deposita(self, valor):\n",
        "    self._saldo += valor\n",
        "\n",
        "  def __str__(self):\n",
        "    return \"[>>Codigo {} Saldo {}<<]\".format(self._codigo, self._saldo)"
      ],
      "metadata": {
        "id": "Q0gXCC6IpsYa"
      },
      "execution_count": null,
      "outputs": []
    },
    {
      "cell_type": "code",
      "source": [
        "conta_do_guilherme = ContaSalario(17)"
      ],
      "metadata": {
        "id": "_rG1MKL9psWh"
      },
      "execution_count": null,
      "outputs": []
    },
    {
      "cell_type": "code",
      "source": [
        "conta_do_guilherme"
      ],
      "metadata": {
        "colab": {
          "base_uri": "https://localhost:8080/"
        },
        "id": "S0VDJptbpsUR",
        "outputId": "7cb79152-c8a6-441b-a212-589346bf8877"
      },
      "execution_count": null,
      "outputs": [
        {
          "output_type": "execute_result",
          "data": {
            "text/plain": [
              "<__main__.ContaSalario at 0x7fda9e37ea10>"
            ]
          },
          "metadata": {},
          "execution_count": 161
        }
      ]
    },
    {
      "cell_type": "code",
      "source": [
        "conta_do_guilherme.deposita(500)"
      ],
      "metadata": {
        "id": "uR9AGYYBpsST"
      },
      "execution_count": null,
      "outputs": []
    },
    {
      "cell_type": "code",
      "source": [
        "conta_do_guilherme"
      ],
      "metadata": {
        "colab": {
          "base_uri": "https://localhost:8080/"
        },
        "id": "c5A90vFkpsH8",
        "outputId": "e55300dd-c2c7-4055-ea81-9fdcea037824"
      },
      "execution_count": null,
      "outputs": [
        {
          "output_type": "execute_result",
          "data": {
            "text/plain": [
              "<__main__.ContaSalario at 0x7fda9e37ea10>"
            ]
          },
          "metadata": {},
          "execution_count": 163
        }
      ]
    },
    {
      "cell_type": "code",
      "source": [
        "from operator import attrgetter\n",
        "\n",
        "for conta in sorted(contas, key=attrgetter(\"_saldo\")):\n",
        "  print(conta)"
      ],
      "metadata": {
        "colab": {
          "base_uri": "https://localhost:8080/"
        },
        "id": "n3tFp40-pru-",
        "outputId": "ad1a4f21-0cc0-4510-8e94-8d112cfc04b9"
      },
      "execution_count": null,
      "outputs": [
        {
          "output_type": "stream",
          "name": "stdout",
          "text": [
            "[>>Codigo 37 Saldo 0<<]\n"
          ]
        }
      ]
    },
    {
      "cell_type": "code",
      "source": [
        "conta_do_guilherme < conta_da_daniela"
      ],
      "metadata": {
        "colab": {
          "base_uri": "https://localhost:8080/",
          "height": 176
        },
        "id": "2sY97kRzppec",
        "outputId": "d01b248b-9b23-4915-bd77-ce1d5b807525"
      },
      "execution_count": null,
      "outputs": [
        {
          "output_type": "error",
          "ename": "NameError",
          "evalue": "ignored",
          "traceback": [
            "\u001b[0;31m---------------------------------------------------------------------------\u001b[0m",
            "\u001b[0;31mNameError\u001b[0m                                 Traceback (most recent call last)",
            "\u001b[0;32m<ipython-input-165-23ebe804144a>\u001b[0m in \u001b[0;36m<module>\u001b[0;34m()\u001b[0m\n\u001b[0;32m----> 1\u001b[0;31m \u001b[0mconta_do_guilherme\u001b[0m \u001b[0;34m<\u001b[0m \u001b[0mconta_da_daniela\u001b[0m\u001b[0;34m\u001b[0m\u001b[0;34m\u001b[0m\u001b[0m\n\u001b[0m",
            "\u001b[0;31mNameError\u001b[0m: name 'conta_da_daniela' is not defined"
          ]
        }
      ]
    },
    {
      "cell_type": "code",
      "source": [
        "def__lt__(self, outro):"
      ],
      "metadata": {
        "colab": {
          "base_uri": "https://localhost:8080/",
          "height": 138
        },
        "id": "m1GY-yaJr3tF",
        "outputId": "51914ba7-8b94-4c12-dcd6-f46ee3dc9ef6"
      },
      "execution_count": null,
      "outputs": [
        {
          "output_type": "error",
          "ename": "SyntaxError",
          "evalue": "ignored",
          "traceback": [
            "\u001b[0;36m  File \u001b[0;32m\"<ipython-input-166-38728ed5dd50>\"\u001b[0;36m, line \u001b[0;32m1\u001b[0m\n\u001b[0;31m    def__lt__(self, outro):\u001b[0m\n\u001b[0m                           ^\u001b[0m\n\u001b[0;31mSyntaxError\u001b[0m\u001b[0;31m:\u001b[0m invalid syntax\n"
          ]
        }
      ]
    },
    {
      "cell_type": "code",
      "source": [
        "def__lt__(self, outro):\n",
        "  return self.saldo < outro.saldo"
      ],
      "metadata": {
        "colab": {
          "base_uri": "https://localhost:8080/",
          "height": 138
        },
        "id": "em6aa-wUsFpV",
        "outputId": "ec917d3d-0024-458c-9058-0877109f929d"
      },
      "execution_count": null,
      "outputs": [
        {
          "output_type": "error",
          "ename": "SyntaxError",
          "evalue": "ignored",
          "traceback": [
            "\u001b[0;36m  File \u001b[0;32m\"<ipython-input-167-fc90d41d86b7>\"\u001b[0;36m, line \u001b[0;32m1\u001b[0m\n\u001b[0;31m    def__lt__(self, outro):\u001b[0m\n\u001b[0m                           ^\u001b[0m\n\u001b[0;31mSyntaxError\u001b[0m\u001b[0;31m:\u001b[0m invalid syntax\n"
          ]
        }
      ]
    },
    {
      "cell_type": "code",
      "source": [
        "conta_do_guilherme < conta_da_daniela"
      ],
      "metadata": {
        "colab": {
          "base_uri": "https://localhost:8080/",
          "height": 176
        },
        "id": "AjG6ADBhsHu9",
        "outputId": "8d619153-1c58-40f1-d418-06127b02b353"
      },
      "execution_count": null,
      "outputs": [
        {
          "output_type": "error",
          "ename": "NameError",
          "evalue": "ignored",
          "traceback": [
            "\u001b[0;31m---------------------------------------------------------------------------\u001b[0m",
            "\u001b[0;31mNameError\u001b[0m                                 Traceback (most recent call last)",
            "\u001b[0;32m<ipython-input-168-23ebe804144a>\u001b[0m in \u001b[0;36m<module>\u001b[0;34m()\u001b[0m\n\u001b[0;32m----> 1\u001b[0;31m \u001b[0mconta_do_guilherme\u001b[0m \u001b[0;34m<\u001b[0m \u001b[0mconta_da_daniela\u001b[0m\u001b[0;34m\u001b[0m\u001b[0;34m\u001b[0m\u001b[0m\n\u001b[0m",
            "\u001b[0;31mNameError\u001b[0m: name 'conta_da_daniela' is not defined"
          ]
        }
      ]
    },
    {
      "cell_type": "code",
      "source": [
        "for conta in sorted(contas):\n",
        "  print(conta)"
      ],
      "metadata": {
        "colab": {
          "base_uri": "https://localhost:8080/"
        },
        "id": "e0VMyVBCsMqr",
        "outputId": "6b95aa56-f0b7-490d-951f-731089729e47"
      },
      "execution_count": null,
      "outputs": [
        {
          "output_type": "stream",
          "name": "stdout",
          "text": [
            "[>>Codigo 37 Saldo 0<<]\n"
          ]
        }
      ]
    },
    {
      "cell_type": "code",
      "source": [
        "class ContaSalario:\n",
        "  def __init__(self,codigo):\n",
        "    self._codigo = codigo\n",
        "    self._saldo = 0\n",
        "\n",
        "  def __eq__(self,outro):\n",
        "    if(type(outro) != ContaSalario):\n",
        "      return False\n",
        "    return self._codigo == outro._codigo and self._saldo == outro._saldo\n",
        "\n",
        "  def deposita(self, valor):\n",
        "    self._saldo += valor\n",
        "  def __str__(self):\n",
        "    return \"[>>> codigo: {} Saldo: {}]\".format(self._codigo, self._saldo)"
      ],
      "metadata": {
        "id": "07ufVyoxsQOB"
      },
      "execution_count": null,
      "outputs": []
    },
    {
      "cell_type": "markdown",
      "source": [
        "# Aula 8"
      ],
      "metadata": {
        "id": "yJfKv9__ser0"
      }
    },
    {
      "cell_type": "code",
      "source": [
        "idades = [11,40]"
      ],
      "metadata": {
        "id": "jM7qZky5sUaz"
      },
      "execution_count": null,
      "outputs": []
    },
    {
      "cell_type": "code",
      "source": [
        "soma = sum(idades)"
      ],
      "metadata": {
        "id": "RmDr5TlOsxZP"
      },
      "execution_count": null,
      "outputs": []
    },
    {
      "cell_type": "code",
      "source": [
        "quantidade = len(idades)"
      ],
      "metadata": {
        "id": "Jp3UvoidszQQ"
      },
      "execution_count": null,
      "outputs": []
    },
    {
      "cell_type": "code",
      "source": [
        "media = soma / quantidade"
      ],
      "metadata": {
        "id": "-EbPnWQIs0iW"
      },
      "execution_count": null,
      "outputs": []
    },
    {
      "cell_type": "code",
      "source": [
        "media"
      ],
      "metadata": {
        "colab": {
          "base_uri": "https://localhost:8080/"
        },
        "id": "sO3SUtbUs7cY",
        "outputId": "253f63f8-6400-4bc8-affb-a488b0ee3860"
      },
      "execution_count": null,
      "outputs": [
        {
          "output_type": "execute_result",
          "data": {
            "text/plain": [
              "25.5"
            ]
          },
          "metadata": {},
          "execution_count": 179
        }
      ]
    },
    {
      "cell_type": "code",
      "source": [
        "conta_do_guilherme = ContaSalario(17)\n",
        "conta_do_guilherme.deposita(500)\n",
        "\n",
        "conta_da_daniela = ContaSalario(3)\n",
        "conta_da_daniela.deposita(1000)\n",
        "\n",
        "conta_do_paulo = ContaSalario(133)\n",
        "conta_do_paulo.deposita(500)\n",
        "\n",
        "contas = [conta_do_guilherme, conta_da_daniela, conta_do_paulo]"
      ],
      "metadata": {
        "id": "y1vIEh32tOPW"
      },
      "execution_count": null,
      "outputs": []
    },
    {
      "cell_type": "code",
      "source": [
        "for conta in sorted(contas, key=attrgetter(\"_saldo\", \"_codigo\")):\n",
        "  print(conta)\n",
        "\n",
        "[>>Codigo 3 Saldo 500<<]\n",
        "[>>Codigo 133 Saldo 500<<]"
      ],
      "metadata": {
        "colab": {
          "base_uri": "https://localhost:8080/",
          "height": 138
        },
        "id": "zckF4ARhtVJD",
        "outputId": "c5d8c6a6-bd0c-4782-8986-2aa05a1df8ca"
      },
      "execution_count": null,
      "outputs": [
        {
          "output_type": "error",
          "ename": "SyntaxError",
          "evalue": "ignored",
          "traceback": [
            "\u001b[0;36m  File \u001b[0;32m\"<ipython-input-181-dc79f6405862>\"\u001b[0;36m, line \u001b[0;32m4\u001b[0m\n\u001b[0;31m    [>>Codigo 3 Saldo 500<<]\u001b[0m\n\u001b[0m      ^\u001b[0m\n\u001b[0;31mSyntaxError\u001b[0m\u001b[0;31m:\u001b[0m invalid syntax\n"
          ]
        }
      ]
    },
    {
      "cell_type": "code",
      "source": [
        "conta_do_guilherme = ContaSalario(17)\n",
        "conta_do_guilherme.deposita(500)\n",
        "\n",
        "conta_da_daniela = ContaSalario(3)\n",
        "conta_da_daniela.deposita(500)\n",
        "\n",
        "conta_do_paulo = ContaSalario(133)\n",
        "conta_do_paulo.deposita(500)\n",
        "\n",
        "contas = [conta_do_guilherme, conta_da_daniela, conta_do_paulo]"
      ],
      "metadata": {
        "id": "gepM3WYctW32"
      },
      "execution_count": null,
      "outputs": []
    },
    {
      "cell_type": "code",
      "source": [
        "\n",
        "class ContaSalario:\n",
        "\n",
        "  def __init__(self, codigo):\n",
        "    self._codigo = codigo\n",
        "    self._saldo = 0\n",
        "\n",
        "  def __eq__(self, outro):\n",
        "    if type(outro) != ContaSalario:\n",
        "      return False\n",
        "\n",
        "      return self._codigo == outro._codigo and self._saldo == outro._saldo\n",
        "\n",
        "  def __lt__(self, outro):\n",
        "      return self._saldo < outro._saldo\n",
        "\n",
        "  def deposita(self, valor):\n",
        "      self._saldo += valor\n",
        "\n",
        "  def __str__(self):\n",
        "      return \"[>>Codigo {} Saldo {}<<]\".format(self._codigo, self._saldo)"
      ],
      "metadata": {
        "id": "4aL56GmAtad2"
      },
      "execution_count": null,
      "outputs": []
    },
    {
      "cell_type": "code",
      "source": [
        "  def __lt__(self, outro):\n",
        "      if self._saldo != outro._saldo:\n",
        "      return self._saldo < outro._saldo\n",
        "        self._codigo < outro._codigo"
      ],
      "metadata": {
        "colab": {
          "base_uri": "https://localhost:8080/",
          "height": 138
        },
        "id": "ir4xrf9etfcK",
        "outputId": "a65e54cf-15df-4cea-87b9-c3984b3dbb21"
      },
      "execution_count": null,
      "outputs": [
        {
          "output_type": "error",
          "ename": "IndentationError",
          "evalue": "ignored",
          "traceback": [
            "\u001b[0;36m  File \u001b[0;32m\"<ipython-input-186-cd2e911a84bf>\"\u001b[0;36m, line \u001b[0;32m3\u001b[0m\n\u001b[0;31m    return self._saldo < outro._saldo\u001b[0m\n\u001b[0m         ^\u001b[0m\n\u001b[0;31mIndentationError\u001b[0m\u001b[0;31m:\u001b[0m expected an indented block\n"
          ]
        }
      ]
    },
    {
      "cell_type": "code",
      "source": [
        "for conta in sorted(contas):\n",
        "  print(conta)"
      ],
      "metadata": {
        "colab": {
          "base_uri": "https://localhost:8080/",
          "height": 194
        },
        "id": "Ofht_R6ztyyu",
        "outputId": "dd7f89bc-e192-411f-9b3b-154d68791a8f"
      },
      "execution_count": null,
      "outputs": [
        {
          "output_type": "error",
          "ename": "TypeError",
          "evalue": "ignored",
          "traceback": [
            "\u001b[0;31m---------------------------------------------------------------------------\u001b[0m",
            "\u001b[0;31mTypeError\u001b[0m                                 Traceback (most recent call last)",
            "\u001b[0;32m<ipython-input-187-808790cac213>\u001b[0m in \u001b[0;36m<module>\u001b[0;34m()\u001b[0m\n\u001b[0;32m----> 1\u001b[0;31m \u001b[0;32mfor\u001b[0m \u001b[0mconta\u001b[0m \u001b[0;32min\u001b[0m \u001b[0msorted\u001b[0m\u001b[0;34m(\u001b[0m\u001b[0mcontas\u001b[0m\u001b[0;34m)\u001b[0m\u001b[0;34m:\u001b[0m\u001b[0;34m\u001b[0m\u001b[0;34m\u001b[0m\u001b[0m\n\u001b[0m\u001b[1;32m      2\u001b[0m   \u001b[0mprint\u001b[0m\u001b[0;34m(\u001b[0m\u001b[0mconta\u001b[0m\u001b[0;34m)\u001b[0m\u001b[0;34m\u001b[0m\u001b[0;34m\u001b[0m\u001b[0m\n",
            "\u001b[0;31mTypeError\u001b[0m: '<' not supported between instances of 'ContaSalario' and 'ContaSalario'"
          ]
        }
      ]
    },
    {
      "cell_type": "code",
      "source": [
        "from functools import total_ordering\n",
        "\n",
        "@total_ordering\n",
        "class ContaSalario: "
      ],
      "metadata": {
        "colab": {
          "base_uri": "https://localhost:8080/",
          "height": 138
        },
        "id": "eU9vC03Ut93R",
        "outputId": "dc235602-9f34-4067-a503-ef9e9821123c"
      },
      "execution_count": null,
      "outputs": [
        {
          "output_type": "error",
          "ename": "SyntaxError",
          "evalue": "ignored",
          "traceback": [
            "\u001b[0;36m  File \u001b[0;32m\"<ipython-input-188-7f112b507c86>\"\u001b[0;36m, line \u001b[0;32m4\u001b[0m\n\u001b[0;31m    class ContaSalario:\u001b[0m\n\u001b[0m                        ^\u001b[0m\n\u001b[0;31mSyntaxError\u001b[0m\u001b[0;31m:\u001b[0m unexpected EOF while parsing\n"
          ]
        }
      ]
    },
    {
      "cell_type": "code",
      "source": [
        "class ContaSalario:\n",
        "\n",
        "  def __init__(self, codigo):\n",
        "    self._codigo = codigo\n",
        "    self._saldo = 0\n",
        "\n",
        "  def __eq__(self, outro):\n",
        "    if type(outro) != ContaSalario:\n",
        "      return False\n",
        "\n",
        "    return self._codigo == outro._codigo and self._saldo == outro._saldo\n",
        "\n",
        "  def __lt__(self, outro):\n",
        "    if self._saldo != outro._saldo:\n",
        "      return self._saldo < outro._saldo\n",
        "\n",
        "    return self._codigo < outro._codigo"
      ],
      "metadata": {
        "id": "4HpoVmnHuFl-"
      },
      "execution_count": null,
      "outputs": []
    },
    {
      "cell_type": "code",
      "source": [
        "conta_do_guilherme = ContaSalario(1700)\n",
        "conta_do_guilherme.deposita(500)\n",
        "\n",
        "conta_da_daniela = ContaSalario(3)\n",
        "conta_da_daniela.deposita(1000)\n",
        "\n",
        "conta_do_paulo = ContaSalario(133)\n",
        "conta_do_paulo.deposita(500)"
      ],
      "metadata": {
        "colab": {
          "base_uri": "https://localhost:8080/",
          "height": 251
        },
        "id": "3nJpnp6ruNIc",
        "outputId": "a9426577-ea07-4d08-ca44-90d61d057f14"
      },
      "execution_count": null,
      "outputs": [
        {
          "output_type": "error",
          "ename": "AttributeError",
          "evalue": "ignored",
          "traceback": [
            "\u001b[0;31m---------------------------------------------------------------------------\u001b[0m",
            "\u001b[0;31mAttributeError\u001b[0m                            Traceback (most recent call last)",
            "\u001b[0;32m<ipython-input-190-0d70b25822b0>\u001b[0m in \u001b[0;36m<module>\u001b[0;34m()\u001b[0m\n\u001b[1;32m      1\u001b[0m \u001b[0mconta_do_guilherme\u001b[0m \u001b[0;34m=\u001b[0m \u001b[0mContaSalario\u001b[0m\u001b[0;34m(\u001b[0m\u001b[0;36m1700\u001b[0m\u001b[0;34m)\u001b[0m\u001b[0;34m\u001b[0m\u001b[0;34m\u001b[0m\u001b[0m\n\u001b[0;32m----> 2\u001b[0;31m \u001b[0mconta_do_guilherme\u001b[0m\u001b[0;34m.\u001b[0m\u001b[0mdeposita\u001b[0m\u001b[0;34m(\u001b[0m\u001b[0;36m500\u001b[0m\u001b[0;34m)\u001b[0m\u001b[0;34m\u001b[0m\u001b[0;34m\u001b[0m\u001b[0m\n\u001b[0m\u001b[1;32m      3\u001b[0m \u001b[0;34m\u001b[0m\u001b[0m\n\u001b[1;32m      4\u001b[0m \u001b[0mconta_da_daniela\u001b[0m \u001b[0;34m=\u001b[0m \u001b[0mContaSalario\u001b[0m\u001b[0;34m(\u001b[0m\u001b[0;36m3\u001b[0m\u001b[0;34m)\u001b[0m\u001b[0;34m\u001b[0m\u001b[0;34m\u001b[0m\u001b[0m\n\u001b[1;32m      5\u001b[0m \u001b[0mconta_da_daniela\u001b[0m\u001b[0;34m.\u001b[0m\u001b[0mdeposita\u001b[0m\u001b[0;34m(\u001b[0m\u001b[0;36m1000\u001b[0m\u001b[0;34m)\u001b[0m\u001b[0;34m\u001b[0m\u001b[0;34m\u001b[0m\u001b[0m\n",
            "\u001b[0;31mAttributeError\u001b[0m: 'ContaSalario' object has no attribute 'deposita'"
          ]
        }
      ]
    },
    {
      "cell_type": "code",
      "source": [
        "A = [\"Leao\" , \"Lobo\" , \"Largarto\"]\n",
        "B = [\"Cachorro\" , \"Leao\" , \"Cobra\" , \"Girafa\" , \"Lobo\" , \"Largarto\"]\n",
        "Substituir elemento de A em B pela palavra \"Manga\" e o resultado seria\n",
        "\n",
        "C = [\"Cachorro\" , \"Manga\" , \"Cobra\" , \"Girafa\" , \"Manga\" , \"Manga\"]\n",
        "Pesquisando eu só consegui encontrar este código, mas ai eu teria que toda vez escrever o que preciso substituir:\n",
        "\n",
        "B = [item.replace(\"Leao\", \"Manga\") for item in B]"
      ],
      "metadata": {
        "colab": {
          "base_uri": "https://localhost:8080/",
          "height": 138
        },
        "id": "qflwA2ODu_Qa",
        "outputId": "171028a4-ee3a-495e-b372-b1617abc0546"
      },
      "execution_count": null,
      "outputs": [
        {
          "output_type": "error",
          "ename": "SyntaxError",
          "evalue": "ignored",
          "traceback": [
            "\u001b[0;36m  File \u001b[0;32m\"<ipython-input-191-3d4efc9bf57b>\"\u001b[0;36m, line \u001b[0;32m3\u001b[0m\n\u001b[0;31m    Substituir elemento de A em B pela palavra \"Manga\" e o resultado seria\u001b[0m\n\u001b[0m                      ^\u001b[0m\n\u001b[0;31mSyntaxError\u001b[0m\u001b[0;31m:\u001b[0m invalid syntax\n"
          ]
        }
      ]
    },
    {
      "cell_type": "code",
      "source": [
        "A = [\"Leao\" , \"Lobo\" , \"Largarto\"]\n",
        "B = [\"Cachorro\" , \"Leao\" , \"Cobra\" , \"Girafa\" , \"Lobo\" , \"Largarto\"]"
      ],
      "metadata": {
        "id": "smPXSsrXu_Mu"
      },
      "execution_count": null,
      "outputs": []
    },
    {
      "cell_type": "code",
      "source": [
        "B.replace(\"Leao\", \"Manga\") for item in B"
      ],
      "metadata": {
        "colab": {
          "base_uri": "https://localhost:8080/",
          "height": 138
        },
        "id": "5ekr3GjAu_Ks",
        "outputId": "9092b5e1-c2c1-4cb6-89c3-e2242a012756"
      },
      "execution_count": null,
      "outputs": [
        {
          "output_type": "error",
          "ename": "SyntaxError",
          "evalue": "ignored",
          "traceback": [
            "\u001b[0;36m  File \u001b[0;32m\"<ipython-input-193-30979652d507>\"\u001b[0;36m, line \u001b[0;32m1\u001b[0m\n\u001b[0;31m    B.replace(\"Leao\", \"Manga\") for item in B\u001b[0m\n\u001b[0m                                 ^\u001b[0m\n\u001b[0;31mSyntaxError\u001b[0m\u001b[0;31m:\u001b[0m invalid syntax\n"
          ]
        }
      ]
    },
    {
      "cell_type": "code",
      "source": [
        "B.replace(\"Leao\", \"Manga\")"
      ],
      "metadata": {
        "colab": {
          "base_uri": "https://localhost:8080/",
          "height": 176
        },
        "id": "zIDtUqFYu-_x",
        "outputId": "88c9a086-82bf-42a3-9cba-b5a43118553e"
      },
      "execution_count": null,
      "outputs": [
        {
          "output_type": "error",
          "ename": "NameError",
          "evalue": "ignored",
          "traceback": [
            "\u001b[0;31m---------------------------------------------------------------------------\u001b[0m",
            "\u001b[0;31mNameError\u001b[0m                                 Traceback (most recent call last)",
            "\u001b[0;32m<ipython-input-194-14d623c1779d>\u001b[0m in \u001b[0;36m<module>\u001b[0;34m()\u001b[0m\n\u001b[0;32m----> 1\u001b[0;31m \u001b[0mB\u001b[0m\u001b[0;34m.\u001b[0m\u001b[0mreplace\u001b[0m\u001b[0;34m(\u001b[0m\u001b[0;34m\"Leao\"\u001b[0m\u001b[0;34m,\u001b[0m \u001b[0;34m\"Manga\"\u001b[0m\u001b[0;34m)\u001b[0m\u001b[0;34m\u001b[0m\u001b[0;34m\u001b[0m\u001b[0m\n\u001b[0m",
            "\u001b[0;31mNameError\u001b[0m: name 'B' is not defined"
          ]
        }
      ]
    },
    {
      "cell_type": "code",
      "source": [
        "B"
      ],
      "metadata": {
        "colab": {
          "base_uri": "https://localhost:8080/"
        },
        "id": "HTtvh8HDuO-N",
        "outputId": "27d8d733-ecd9-41fd-9021-7cb043651d66"
      },
      "execution_count": null,
      "outputs": [
        {
          "output_type": "execute_result",
          "data": {
            "text/plain": [
              "['Cachorro', 'Leao', 'Cobra', 'Girafa', 'Lobo', 'Largarto']"
            ]
          },
          "metadata": {},
          "execution_count": 197
        }
      ]
    },
    {
      "cell_type": "code",
      "source": [
        "C = bool(B)"
      ],
      "metadata": {
        "id": "r9MPKtjBzL4M"
      },
      "execution_count": null,
      "outputs": []
    },
    {
      "cell_type": "code",
      "source": [
        "C"
      ],
      "metadata": {
        "colab": {
          "base_uri": "https://localhost:8080/"
        },
        "id": "Hsoq5xrezUgJ",
        "outputId": "d2bf2286-6c57-4cd7-edc3-311387fb7016"
      },
      "execution_count": null,
      "outputs": [
        {
          "output_type": "execute_result",
          "data": {
            "text/plain": [
              "True"
            ]
          },
          "metadata": {},
          "execution_count": 201
        }
      ]
    },
    {
      "cell_type": "code",
      "source": [
        "B"
      ],
      "metadata": {
        "colab": {
          "base_uri": "https://localhost:8080/"
        },
        "id": "Lr8cpKPRzhrh",
        "outputId": "16b566bc-aba4-4a34-8344-61f398d97ad3"
      },
      "execution_count": null,
      "outputs": [
        {
          "output_type": "execute_result",
          "data": {
            "text/plain": [
              "['Cachorro', 'Leao', 'Cobra', 'Girafa', 'Lobo', 'Largarto']"
            ]
          },
          "metadata": {},
          "execution_count": 202
        }
      ]
    },
    {
      "cell_type": "code",
      "source": [
        "b = pd.DataFrame(B)"
      ],
      "metadata": {
        "id": "kaw8gnjb0tSd"
      },
      "execution_count": null,
      "outputs": []
    },
    {
      "cell_type": "code",
      "source": [
        "b.replace(\"Lobo\", \"Cabra\")"
      ],
      "metadata": {
        "colab": {
          "base_uri": "https://localhost:8080/",
          "height": 238
        },
        "id": "RN4d2y210yo9",
        "outputId": "40819434-8959-4c07-ffe0-2b9a62016ae9"
      },
      "execution_count": null,
      "outputs": [
        {
          "output_type": "execute_result",
          "data": {
            "text/plain": [
              "          0\n",
              "0  Cachorro\n",
              "1      Leao\n",
              "2     Cobra\n",
              "3    Girafa\n",
              "4     Cabra\n",
              "5  Largarto"
            ],
            "text/html": [
              "\n",
              "  <div id=\"df-ec8a4e52-c464-4bee-8561-35662ecf6b08\">\n",
              "    <div class=\"colab-df-container\">\n",
              "      <div>\n",
              "<style scoped>\n",
              "    .dataframe tbody tr th:only-of-type {\n",
              "        vertical-align: middle;\n",
              "    }\n",
              "\n",
              "    .dataframe tbody tr th {\n",
              "        vertical-align: top;\n",
              "    }\n",
              "\n",
              "    .dataframe thead th {\n",
              "        text-align: right;\n",
              "    }\n",
              "</style>\n",
              "<table border=\"1\" class=\"dataframe\">\n",
              "  <thead>\n",
              "    <tr style=\"text-align: right;\">\n",
              "      <th></th>\n",
              "      <th>0</th>\n",
              "    </tr>\n",
              "  </thead>\n",
              "  <tbody>\n",
              "    <tr>\n",
              "      <th>0</th>\n",
              "      <td>Cachorro</td>\n",
              "    </tr>\n",
              "    <tr>\n",
              "      <th>1</th>\n",
              "      <td>Leao</td>\n",
              "    </tr>\n",
              "    <tr>\n",
              "      <th>2</th>\n",
              "      <td>Cobra</td>\n",
              "    </tr>\n",
              "    <tr>\n",
              "      <th>3</th>\n",
              "      <td>Girafa</td>\n",
              "    </tr>\n",
              "    <tr>\n",
              "      <th>4</th>\n",
              "      <td>Cabra</td>\n",
              "    </tr>\n",
              "    <tr>\n",
              "      <th>5</th>\n",
              "      <td>Largarto</td>\n",
              "    </tr>\n",
              "  </tbody>\n",
              "</table>\n",
              "</div>\n",
              "      <button class=\"colab-df-convert\" onclick=\"convertToInteractive('df-ec8a4e52-c464-4bee-8561-35662ecf6b08')\"\n",
              "              title=\"Convert this dataframe to an interactive table.\"\n",
              "              style=\"display:none;\">\n",
              "        \n",
              "  <svg xmlns=\"http://www.w3.org/2000/svg\" height=\"24px\"viewBox=\"0 0 24 24\"\n",
              "       width=\"24px\">\n",
              "    <path d=\"M0 0h24v24H0V0z\" fill=\"none\"/>\n",
              "    <path d=\"M18.56 5.44l.94 2.06.94-2.06 2.06-.94-2.06-.94-.94-2.06-.94 2.06-2.06.94zm-11 1L8.5 8.5l.94-2.06 2.06-.94-2.06-.94L8.5 2.5l-.94 2.06-2.06.94zm10 10l.94 2.06.94-2.06 2.06-.94-2.06-.94-.94-2.06-.94 2.06-2.06.94z\"/><path d=\"M17.41 7.96l-1.37-1.37c-.4-.4-.92-.59-1.43-.59-.52 0-1.04.2-1.43.59L10.3 9.45l-7.72 7.72c-.78.78-.78 2.05 0 2.83L4 21.41c.39.39.9.59 1.41.59.51 0 1.02-.2 1.41-.59l7.78-7.78 2.81-2.81c.8-.78.8-2.07 0-2.86zM5.41 20L4 18.59l7.72-7.72 1.47 1.35L5.41 20z\"/>\n",
              "  </svg>\n",
              "      </button>\n",
              "      \n",
              "  <style>\n",
              "    .colab-df-container {\n",
              "      display:flex;\n",
              "      flex-wrap:wrap;\n",
              "      gap: 12px;\n",
              "    }\n",
              "\n",
              "    .colab-df-convert {\n",
              "      background-color: #E8F0FE;\n",
              "      border: none;\n",
              "      border-radius: 50%;\n",
              "      cursor: pointer;\n",
              "      display: none;\n",
              "      fill: #1967D2;\n",
              "      height: 32px;\n",
              "      padding: 0 0 0 0;\n",
              "      width: 32px;\n",
              "    }\n",
              "\n",
              "    .colab-df-convert:hover {\n",
              "      background-color: #E2EBFA;\n",
              "      box-shadow: 0px 1px 2px rgba(60, 64, 67, 0.3), 0px 1px 3px 1px rgba(60, 64, 67, 0.15);\n",
              "      fill: #174EA6;\n",
              "    }\n",
              "\n",
              "    [theme=dark] .colab-df-convert {\n",
              "      background-color: #3B4455;\n",
              "      fill: #D2E3FC;\n",
              "    }\n",
              "\n",
              "    [theme=dark] .colab-df-convert:hover {\n",
              "      background-color: #434B5C;\n",
              "      box-shadow: 0px 1px 3px 1px rgba(0, 0, 0, 0.15);\n",
              "      filter: drop-shadow(0px 1px 2px rgba(0, 0, 0, 0.3));\n",
              "      fill: #FFFFFF;\n",
              "    }\n",
              "  </style>\n",
              "\n",
              "      <script>\n",
              "        const buttonEl =\n",
              "          document.querySelector('#df-ec8a4e52-c464-4bee-8561-35662ecf6b08 button.colab-df-convert');\n",
              "        buttonEl.style.display =\n",
              "          google.colab.kernel.accessAllowed ? 'block' : 'none';\n",
              "\n",
              "        async function convertToInteractive(key) {\n",
              "          const element = document.querySelector('#df-ec8a4e52-c464-4bee-8561-35662ecf6b08');\n",
              "          const dataTable =\n",
              "            await google.colab.kernel.invokeFunction('convertToInteractive',\n",
              "                                                     [key], {});\n",
              "          if (!dataTable) return;\n",
              "\n",
              "          const docLinkHtml = 'Like what you see? Visit the ' +\n",
              "            '<a target=\"_blank\" href=https://colab.research.google.com/notebooks/data_table.ipynb>data table notebook</a>'\n",
              "            + ' to learn more about interactive tables.';\n",
              "          element.innerHTML = '';\n",
              "          dataTable['output_type'] = 'display_data';\n",
              "          await google.colab.output.renderOutput(dataTable, element);\n",
              "          const docLink = document.createElement('div');\n",
              "          docLink.innerHTML = docLinkHtml;\n",
              "          element.appendChild(docLink);\n",
              "        }\n",
              "      </script>\n",
              "    </div>\n",
              "  </div>\n",
              "  "
            ]
          },
          "metadata": {},
          "execution_count": 204
        }
      ]
    },
    {
      "cell_type": "markdown",
      "source": [
        "Substituir um elemento de uma lista:\n",
        "\n",
        "transformar em DataFrame e utilizar replace()"
      ],
      "metadata": {
        "id": "66Ezq0tS1G2i"
      }
    },
    {
      "cell_type": "code",
      "source": [
        "type(b)"
      ],
      "metadata": {
        "colab": {
          "base_uri": "https://localhost:8080/"
        },
        "id": "Ungzk5dP06mj",
        "outputId": "fdcde238-db42-4098-81b1-6f4bc0125a96"
      },
      "execution_count": null,
      "outputs": [
        {
          "output_type": "execute_result",
          "data": {
            "text/plain": [
              "pandas.core.frame.DataFrame"
            ]
          },
          "metadata": {},
          "execution_count": 205
        }
      ]
    },
    {
      "cell_type": "code",
      "source": [
        "type(B)"
      ],
      "metadata": {
        "colab": {
          "base_uri": "https://localhost:8080/"
        },
        "id": "RbasxtT31wlG",
        "outputId": "9dee80b4-aeb0-4596-b84e-cb57ccc2af81"
      },
      "execution_count": null,
      "outputs": [
        {
          "output_type": "execute_result",
          "data": {
            "text/plain": [
              "list"
            ]
          },
          "metadata": {},
          "execution_count": 206
        }
      ]
    },
    {
      "cell_type": "code",
      "source": [
        "C = str(B) for x in"
      ],
      "metadata": {
        "colab": {
          "base_uri": "https://localhost:8080/",
          "height": 138
        },
        "id": "ZKwgSPve1zzt",
        "outputId": "89e52654-219d-4caf-861b-7980273d1f11"
      },
      "execution_count": null,
      "outputs": [
        {
          "output_type": "error",
          "ename": "SyntaxError",
          "evalue": "ignored",
          "traceback": [
            "\u001b[0;36m  File \u001b[0;32m\"<ipython-input-212-93513e6bf5a7>\"\u001b[0;36m, line \u001b[0;32m1\u001b[0m\n\u001b[0;31m    C = str(B) for x in\u001b[0m\n\u001b[0m                 ^\u001b[0m\n\u001b[0;31mSyntaxError\u001b[0m\u001b[0;31m:\u001b[0m invalid syntax\n"
          ]
        }
      ]
    },
    {
      "cell_type": "code",
      "source": [
        " [str(x) for x in ints] "
      ],
      "metadata": {
        "id": "mdP48yBU21Ws"
      },
      "execution_count": null,
      "outputs": []
    },
    {
      "cell_type": "code",
      "source": [
        "list1=['u','l','c']\n",
        "string=''.join([str(item) for item in list1])\n",
        "print('convert list to string \\n')\n",
        "print(string)"
      ],
      "metadata": {
        "colab": {
          "base_uri": "https://localhost:8080/"
        },
        "id": "gjIwlFP921TS",
        "outputId": "759e0110-2800-471c-ee1d-53a27ed206bf"
      },
      "execution_count": null,
      "outputs": [
        {
          "output_type": "stream",
          "name": "stdout",
          "text": [
            "convert list to string \n",
            "\n",
            "ulc\n"
          ]
        }
      ]
    },
    {
      "cell_type": "code",
      "source": [
        "list1"
      ],
      "metadata": {
        "colab": {
          "base_uri": "https://localhost:8080/"
        },
        "id": "zUtDmzOD21RT",
        "outputId": "d9ffbf8c-ce2a-48eb-b1a5-ed11cce6158f"
      },
      "execution_count": null,
      "outputs": [
        {
          "output_type": "execute_result",
          "data": {
            "text/plain": [
              "['u', 'l', 'c']"
            ]
          },
          "metadata": {},
          "execution_count": 215
        }
      ]
    },
    {
      "cell_type": "code",
      "source": [
        "type(list1)"
      ],
      "metadata": {
        "colab": {
          "base_uri": "https://localhost:8080/"
        },
        "id": "T6OAqlla21Pm",
        "outputId": "b8da4d12-6eae-422c-a6b4-3572aedc7631"
      },
      "execution_count": null,
      "outputs": [
        {
          "output_type": "execute_result",
          "data": {
            "text/plain": [
              "list"
            ]
          },
          "metadata": {},
          "execution_count": 217
        }
      ]
    },
    {
      "cell_type": "code",
      "source": [
        "type(string)"
      ],
      "metadata": {
        "colab": {
          "base_uri": "https://localhost:8080/"
        },
        "id": "Ap9MUxul21NW",
        "outputId": "9e70ff06-b7ab-46ba-f76a-eceaf4ae618b"
      },
      "execution_count": null,
      "outputs": [
        {
          "output_type": "execute_result",
          "data": {
            "text/plain": [
              "str"
            ]
          },
          "metadata": {},
          "execution_count": 218
        }
      ]
    },
    {
      "cell_type": "code",
      "source": [
        "string"
      ],
      "metadata": {
        "colab": {
          "base_uri": "https://localhost:8080/",
          "height": 36
        },
        "id": "MKeRvV8A20ch",
        "outputId": "6debc3ab-c156-45ab-b740-630bf5614a08"
      },
      "execution_count": null,
      "outputs": [
        {
          "output_type": "execute_result",
          "data": {
            "text/plain": [
              "'ulc'"
            ],
            "application/vnd.google.colaboratory.intrinsic+json": {
              "type": "string"
            }
          },
          "metadata": {},
          "execution_count": 219
        }
      ]
    },
    {
      "cell_type": "code",
      "source": [
        "string.replace('l','f')"
      ],
      "metadata": {
        "colab": {
          "base_uri": "https://localhost:8080/",
          "height": 36
        },
        "id": "tAWOOku04hfk",
        "outputId": "b59dad87-8047-4b0f-f9ca-a0aca4970854"
      },
      "execution_count": null,
      "outputs": [
        {
          "output_type": "execute_result",
          "data": {
            "text/plain": [
              "'ufc'"
            ],
            "application/vnd.google.colaboratory.intrinsic+json": {
              "type": "string"
            }
          },
          "metadata": {},
          "execution_count": 221
        }
      ]
    },
    {
      "cell_type": "markdown",
      "source": [
        "Segunda alternativa de substituir um elemento de uma lista\n",
        "\n",
        "é transformar a lista em string através da função\n",
        "\n",
        "list comprehension, e a função join(), após replace() "
      ],
      "metadata": {
        "id": "EarNN2Of4tvt"
      }
    },
    {
      "cell_type": "code",
      "source": [
        "# Nas duas alternativas acima, estaria deixando a lista de ser lista...\n",
        "\n",
        "lista = [0, 11, 22, 33, 44, 55, 66, 77, 88, 99, 10]"
      ],
      "metadata": {
        "id": "JZbbEzc64nAQ"
      },
      "execution_count": null,
      "outputs": []
    },
    {
      "cell_type": "code",
      "source": [
        "lista"
      ],
      "metadata": {
        "colab": {
          "base_uri": "https://localhost:8080/"
        },
        "id": "G_g0SHH17Fcx",
        "outputId": "bda685b5-588c-4c8f-8143-77c7b596ccad"
      },
      "execution_count": null,
      "outputs": [
        {
          "output_type": "execute_result",
          "data": {
            "text/plain": [
              "[0, 11, 22, 33, 44, 55, 66, 77, 88, 99, 10]"
            ]
          },
          "metadata": {},
          "execution_count": 234
        }
      ]
    },
    {
      "cell_type": "code",
      "source": [
        "lista[0]=20"
      ],
      "metadata": {
        "id": "p8BD-7G17QAI"
      },
      "execution_count": null,
      "outputs": []
    },
    {
      "cell_type": "code",
      "source": [
        "lista"
      ],
      "metadata": {
        "colab": {
          "base_uri": "https://localhost:8080/"
        },
        "id": "FCfWgtiw7aSd",
        "outputId": "7cbde7e6-c4d2-4adb-8c3f-2360b429918c"
      },
      "execution_count": null,
      "outputs": [
        {
          "output_type": "execute_result",
          "data": {
            "text/plain": [
              "[20, 11, 22, 33, 44, 55, 66, 77, 88, 99, 10]"
            ]
          },
          "metadata": {},
          "execution_count": 236
        }
      ]
    },
    {
      "cell_type": "code",
      "source": [
        "lista[10]=55"
      ],
      "metadata": {
        "id": "-Fe26kWh7bCK"
      },
      "execution_count": null,
      "outputs": []
    },
    {
      "cell_type": "code",
      "source": [
        "lista"
      ],
      "metadata": {
        "colab": {
          "base_uri": "https://localhost:8080/"
        },
        "id": "woTgpZTH7f-P",
        "outputId": "914c1fe1-1aed-4ca4-d92a-884f48079cea"
      },
      "execution_count": null,
      "outputs": [
        {
          "output_type": "execute_result",
          "data": {
            "text/plain": [
              "[20, 11, 22, 33, 44, 55, 66, 77, 88, 99, 55]"
            ]
          },
          "metadata": {},
          "execution_count": 238
        }
      ]
    },
    {
      "cell_type": "code",
      "source": [
        "lista[5]=5"
      ],
      "metadata": {
        "id": "39c8poZs7gqq"
      },
      "execution_count": null,
      "outputs": []
    },
    {
      "cell_type": "code",
      "source": [
        "lista"
      ],
      "metadata": {
        "colab": {
          "base_uri": "https://localhost:8080/"
        },
        "id": "dgdQbEX07x4U",
        "outputId": "7e50d665-6406-4ab3-f204-e21cd9ae9929"
      },
      "execution_count": null,
      "outputs": [
        {
          "output_type": "execute_result",
          "data": {
            "text/plain": [
              "[20, 11, 22, 33, 44, 5, 66, 77, 88, 99, 55]"
            ]
          },
          "metadata": {},
          "execution_count": 240
        }
      ]
    },
    {
      "cell_type": "markdown",
      "source": [
        "Forma correta!! Assim a lista não deixará de ser lista!!"
      ],
      "metadata": {
        "id": "0EP6JWmo72CY"
      }
    },
    {
      "cell_type": "code",
      "source": [
        "Lista = ['Estudar', 'Esporte', 'Viajar']"
      ],
      "metadata": {
        "id": "-HjYv8Ps7ywm"
      },
      "execution_count": null,
      "outputs": []
    },
    {
      "cell_type": "code",
      "source": [
        "Lista[1] = 'Trabalhar'"
      ],
      "metadata": {
        "id": "z-zoanm288fh"
      },
      "execution_count": null,
      "outputs": []
    },
    {
      "cell_type": "code",
      "source": [
        "Lista"
      ],
      "metadata": {
        "colab": {
          "base_uri": "https://localhost:8080/"
        },
        "id": "5PQFS3q09BYb",
        "outputId": "3197a1a0-c215-434d-f52d-0c109e560aa4"
      },
      "execution_count": null,
      "outputs": [
        {
          "output_type": "execute_result",
          "data": {
            "text/plain": [
              "['Estudar', 'Trabalhar', 'Viajar']"
            ]
          },
          "metadata": {},
          "execution_count": 247
        }
      ]
    },
    {
      "cell_type": "code",
      "source": [
        "for i in range(10):\n",
        "  print(\"A\", \"\", \"z\")\n"
      ],
      "metadata": {
        "colab": {
          "base_uri": "https://localhost:8080/"
        },
        "id": "-uvkdWMT9P2v",
        "outputId": "d6f7aee8-de3a-42a9-b5a4-2b5b209b6cf1"
      },
      "execution_count": null,
      "outputs": [
        {
          "output_type": "stream",
          "name": "stdout",
          "text": [
            "A  z\n",
            "A  z\n",
            "A  z\n",
            "A  z\n",
            "A  z\n",
            "A  z\n",
            "A  z\n",
            "A  z\n",
            "A  z\n",
            "A  z\n"
          ]
        }
      ]
    },
    {
      "cell_type": "code",
      "source": [
        "for i in range(10):\n",
        "  print(i)"
      ],
      "metadata": {
        "colab": {
          "base_uri": "https://localhost:8080/"
        },
        "id": "Rk8KXH709d2O",
        "outputId": "338d8bd6-515f-4662-9fb0-961a499ece30"
      },
      "execution_count": null,
      "outputs": [
        {
          "output_type": "stream",
          "name": "stdout",
          "text": [
            "0\n",
            "1\n",
            "2\n",
            "3\n",
            "4\n",
            "5\n",
            "6\n",
            "7\n",
            "8\n",
            "9\n"
          ]
        }
      ]
    },
    {
      "cell_type": "code",
      "source": [
        "idade = 44\n",
        "\n",
        "if idade == 10:\n",
        "    print(\"Criança\")\n",
        "else:\n",
        "    print(\"outro!\")\n"
      ],
      "metadata": {
        "colab": {
          "base_uri": "https://localhost:8080/"
        },
        "id": "kmQtWWWB95Am",
        "outputId": "54cb4d2d-e371-40e2-cedf-45a5b6cb5136"
      },
      "execution_count": null,
      "outputs": [
        {
          "output_type": "stream",
          "name": "stdout",
          "text": [
            "outro!\n"
          ]
        }
      ]
    },
    {
      "cell_type": "code",
      "source": [
        "idade = 40\n",
        "\n",
        "if idade == 10:\n",
        "    print(\"Criança\")\n",
        "elif idade == 40:\n",
        "    print(\"Aê!\")\n",
        "else:\n",
        "    print(\"outro!\")"
      ],
      "metadata": {
        "colab": {
          "base_uri": "https://localhost:8080/"
        },
        "id": "pFskLcvP93kq",
        "outputId": "9c5d8244-a505-400b-ac63-8a8b54a8a191"
      },
      "execution_count": null,
      "outputs": [
        {
          "output_type": "stream",
          "name": "stdout",
          "text": [
            "Aê!\n"
          ]
        }
      ]
    },
    {
      "cell_type": "code",
      "source": [
        "import pandas as pd"
      ],
      "metadata": {
        "id": "-l1o_Fat_lxV"
      },
      "execution_count": null,
      "outputs": []
    },
    {
      "cell_type": "markdown",
      "source": [
        "# Aula 1 \n",
        "\n",
        "parte 2: Conjuntos e Dicionários"
      ],
      "metadata": {
        "id": "5_Pw2C1LBUxb"
      }
    },
    {
      "cell_type": "code",
      "source": [
        "usuarios_data_science = [15, 23, 43, 56]\n",
        "usuarios_machine_learning = [13, 23, 56, 42]"
      ],
      "metadata": {
        "id": "WADfYLgNB6se"
      },
      "execution_count": null,
      "outputs": []
    },
    {
      "cell_type": "code",
      "source": [
        "assistiram = usuarios_data_science.copy()\n",
        "assistiram"
      ],
      "metadata": {
        "colab": {
          "base_uri": "https://localhost:8080/"
        },
        "id": "l7p7JbmbBwki",
        "outputId": "571ad10e-2f83-4b3b-e5cd-457b50419aaa"
      },
      "execution_count": null,
      "outputs": [
        {
          "output_type": "execute_result",
          "data": {
            "text/plain": [
              "[15, 23, 43, 56]"
            ]
          },
          "metadata": {},
          "execution_count": 2
        }
      ]
    },
    {
      "cell_type": "markdown",
      "source": [
        "[04:25] O que eu queria agora é estender com esses elementos. Então agora sim, assistiram.extend(usuários_machine_learning). Vamos testar?"
      ],
      "metadata": {
        "id": "2il36Be4B9w0"
      }
    },
    {
      "cell_type": "code",
      "source": [
        "assistiram = usuarios_data_science.copy()\n",
        "assistiram.extend(usuarios_machine_learning)\n",
        "assistiram"
      ],
      "metadata": {
        "colab": {
          "base_uri": "https://localhost:8080/"
        },
        "id": "UlhiKh5xB1Mt",
        "outputId": "b4976a8c-cc2b-4548-a63b-e8a6c4368176"
      },
      "execution_count": null,
      "outputs": [
        {
          "output_type": "execute_result",
          "data": {
            "text/plain": [
              "[15, 23, 43, 56, 13, 23, 56, 42]"
            ]
          },
          "metadata": {},
          "execution_count": 3
        }
      ]
    },
    {
      "cell_type": "code",
      "source": [
        "len(assistiram)"
      ],
      "metadata": {
        "colab": {
          "base_uri": "https://localhost:8080/"
        },
        "id": "bF7FhOdYB8k0",
        "outputId": "2a9ba263-0229-49e2-c049-8907877e6e8f"
      },
      "execution_count": null,
      "outputs": [
        {
          "output_type": "execute_result",
          "data": {
            "text/plain": [
              "8"
            ]
          },
          "metadata": {},
          "execution_count": 4
        }
      ]
    },
    {
      "cell_type": "markdown",
      "source": [
        " Então quando eu tenho uma lista de elementos e não quero pegar os elementos de forma repetida, isso é: quero pegar no máximo uma vez cada elemento, temos uma definição que costuma ser usado nessa área de coleções, que é o que chamamos realmente de conjunto em inglês, e aí sim conjunto em inglês, uma palavra técnica é o set(), \"S-E-T\""
      ],
      "metadata": {
        "id": "bX2GwT27Cgb4"
      }
    },
    {
      "cell_type": "code",
      "source": [
        "set(assistiram)"
      ],
      "metadata": {
        "colab": {
          "base_uri": "https://localhost:8080/"
        },
        "id": "1PpxXOByCKZL",
        "outputId": "bb226dd7-03b9-422a-e99e-f6877288d7a1"
      },
      "execution_count": null,
      "outputs": [
        {
          "output_type": "execute_result",
          "data": {
            "text/plain": [
              "{13, 15, 23, 42, 43, 56}"
            ]
          },
          "metadata": {},
          "execution_count": 5
        }
      ]
    },
    {
      "cell_type": "markdown",
      "source": [
        "Então para eu criar um conjunto, eu venho aqui e digito conjunto e passo uma lista, por exemplo: elemento 1, 2, 3 e rodo. Então passando uma lista para um conjunto, ele nos devolve um conjunto. Se eu passar aqui o mesmo elemento duas vezes? Ele vai ignorar a segunda aparição. Então eu posso passar de novo um iterável que vai ser transformado em um conjunto."
      ],
      "metadata": {
        "id": "BT2j96J3CtHm"
      }
    },
    {
      "cell_type": "code",
      "source": [
        "set([1,2,3,1])"
      ],
      "metadata": {
        "colab": {
          "base_uri": "https://localhost:8080/"
        },
        "id": "u6lV3cUwCKRH",
        "outputId": "d38b284f-66fd-4c1d-cdb1-9589914c549b"
      },
      "execution_count": null,
      "outputs": [
        {
          "output_type": "execute_result",
          "data": {
            "text/plain": [
              "{1, 2, 3}"
            ]
          },
          "metadata": {},
          "execution_count": 6
        }
      ]
    },
    {
      "cell_type": "markdown",
      "source": [
        " Então se eu passar pelo set de assistiram, eu imprimo um usuário aqui e deveria imprimir seis usuários, olha, os seis usuários. Repara que a ordem, é uma ordem x, uma ordem qualquer que apareceu, que não nos importa, que lembra que eu falei? Conjunto, por padrão, não virá em uma ordem que necessariamente gostaríamos ou não gostaríamos. Eles virão, essa é a ideia do conjunto."
      ],
      "metadata": {
        "id": "en2Ix5bXDSWr"
      }
    },
    {
      "cell_type": "code",
      "source": [
        "for usuario in set(assistiram):\n",
        "  print(usuario)"
      ],
      "metadata": {
        "colab": {
          "base_uri": "https://localhost:8080/"
        },
        "id": "r35842j2CKNg",
        "outputId": "16887eae-d39a-4371-efed-0d1fd34f2df0"
      },
      "execution_count": null,
      "outputs": [
        {
          "output_type": "stream",
          "name": "stdout",
          "text": [
            "42\n",
            "43\n",
            "13\n",
            "15\n",
            "23\n",
            "56\n"
          ]
        }
      ]
    },
    {
      "cell_type": "markdown",
      "source": [
        "Então vou copiar isso daqui, então usuarios_data_science e usuarios_machine_learning eu quero quem está no Data Science ou, o símbolo de ou, esse é o símbolo de ou, é o “Shift + \\” na maior parte dos teclados, chamamos de pipe |. usuarios_data_science | usuarios_machine_learning. Então eu quero os elementos que estão ou aqui ou aqui, tanto faz. Pode até ser que esteja nos dois. E fazemos isso e aqui temos os seis elementos. Tudo bem?"
      ],
      "metadata": {
        "id": "FH7-CZUIDcYB"
      }
    },
    {
      "cell_type": "code",
      "source": [
        "usuarios_data_science = {15, 23, 43, 56}\n",
        "usuarios_machine_learning = {13, 23, 56, 42}"
      ],
      "metadata": {
        "id": "bs1TCwzCCKJw"
      },
      "execution_count": null,
      "outputs": []
    },
    {
      "cell_type": "code",
      "source": [
        "usuarios_data_science | usuarios_machine_learning"
      ],
      "metadata": {
        "colab": {
          "base_uri": "https://localhost:8080/"
        },
        "id": "nl6XznKfCKIE",
        "outputId": "ea40d9fb-44d3-4505-e3f5-0ce6dd5b28dd"
      },
      "execution_count": null,
      "outputs": [
        {
          "output_type": "execute_result",
          "data": {
            "text/plain": [
              "{13, 15, 23, 42, 43, 56}"
            ]
          },
          "metadata": {},
          "execution_count": 9
        }
      ]
    },
    {
      "cell_type": "markdown",
      "source": [
        " Mas e se agora eu tenho que notificar as pessoas que fizeram os dois cursos, quer dizer, fizeram o curso de Data Science e o curso de Machine Learning? Fizeram os dois cursos, isso é, é a intersecção dos conjuntos. Então eu quero quem fez o primeiro curso e o segundo curso, então é a operação de “e” com &. Fez o primeiro e fez o segundo. Qual que deveria ser o resultado? 15 fez os dois? Não. 23 fez os dois? 43 fez os dois? Não. 56 fez os dois? Sim. Então eu tenho dois elementos: o 23 e o 56, que quando eu rodar deveriam aparecer como elementos que fizeram os dois cursos."
      ],
      "metadata": {
        "id": "0_2rxu20Ds7F"
      }
    },
    {
      "cell_type": "code",
      "source": [
        "usuarios_data_science & usuarios_machine_learning"
      ],
      "metadata": {
        "colab": {
          "base_uri": "https://localhost:8080/"
        },
        "id": "hMxAfs7PCKFw",
        "outputId": "bccda1f1-70ee-4b2e-84d0-973a621a0c9a"
      },
      "execution_count": null,
      "outputs": [
        {
          "output_type": "execute_result",
          "data": {
            "text/plain": [
              "{23, 56}"
            ]
          },
          "metadata": {},
          "execution_count": 10
        }
      ]
    },
    {
      "cell_type": "markdown",
      "source": [
        "Eu quero mandar para quem enviou, para quem fez o Data Science menos quem já fez o Machine Learning. Arranca fora essas pessoas daqui de dentro, aí você fala: mas tem algumas que estão aqui dentro que não estão ali. Não tem problema, só vai arrancar quem está aqui dentro e aqui dentro. Então vai sobrar quem está no usuario_data_science mas não está no Machine Learning. Vamos dar uma olhada?"
      ],
      "metadata": {
        "id": "aZaXc-LeD14h"
      }
    },
    {
      "cell_type": "code",
      "source": [
        "usuarios_data_science - usuarios_machine_learning"
      ],
      "metadata": {
        "colab": {
          "base_uri": "https://localhost:8080/"
        },
        "id": "k4YuG1zPCKDq",
        "outputId": "ec04de84-022c-48a3-e738-2bca07b9b10b"
      },
      "execution_count": null,
      "outputs": [
        {
          "output_type": "execute_result",
          "data": {
            "text/plain": [
              "{15, 43}"
            ]
          },
          "metadata": {},
          "execution_count": 11
        }
      ]
    },
    {
      "cell_type": "markdown",
      "source": [
        "Tem aqui diversos tipos de operações, aqui é o exemplo mais básico deles, mas a gente pode perguntar para o conjunto: será que o usuário 15 - o usuário 15 - será que ele fez o curso de Data Science, mas não fez o curso de Machine Learning? Só ele está dentro desse conjunto aqui?\n",
        "\n",
        "[03:27] Será que está dentro desse conjunto? Então aqui é \"fez Data Science mas não fez Machine Learning\" com fez_ds_mas_nao_fez_ml é esse conjunto. Será que o 15 está dentro desse conjunto? Lembra do in? O in existia na lista, ia passar, por exemplo, em uma lista, implementação não ordenada, seria passa pela lista procurando o elemento. No conjunto ele pode ter uma otimização para fazer essa busca e ele retornou: sim, o 15 está lá dentro."
      ],
      "metadata": {
        "id": "GFTZ71YHEAjI"
      }
    },
    {
      "cell_type": "code",
      "source": [
        "fez_ds_mas_nao_fez_ml = usuarios_data_science - usuarios_machine_learning\n",
        "15 in fez_ds_mas_nao_fez_ml"
      ],
      "metadata": {
        "colab": {
          "base_uri": "https://localhost:8080/"
        },
        "id": "Fwu015szCKBs",
        "outputId": "c4e27827-a64a-4e6d-a7ce-2b34c32efd9e"
      },
      "execution_count": null,
      "outputs": [
        {
          "output_type": "execute_result",
          "data": {
            "text/plain": [
              "True"
            ]
          },
          "metadata": {},
          "execution_count": 12
        }
      ]
    },
    {
      "cell_type": "markdown",
      "source": [
        "Será que o 23 está lá dentro? O 23 não está lá dentro, só está o 15 e o 43. Então temos as diversas operações para trabalhar com conjuntos que podíamos trabalhar com lista de uma forma independente, não importa muito. Existem outras operações às vezes não tão comuns, por exemplo: eu quero quem fez Data Science mas não fez Machine Learning e eu quero quem fez Machine Learning mas não fez Data Science. Chamamos isso de \"ou\" exclusivo. Então fez isso ou isso, mas não pode ter feito os dois ao mesmo tempo. Esse é o \"ou\" exclusivo que seria usuarios_data_science um \"ou\" exclusivo, que é o chapéu, o acento circunflexo, e o usuarios_machine_learnining."
      ],
      "metadata": {
        "id": "rBddImOfEIpT"
      }
    },
    {
      "cell_type": "code",
      "source": [
        "usuarios_data_science ^ usuarios_machine_learning # ou exclusivo"
      ],
      "metadata": {
        "colab": {
          "base_uri": "https://localhost:8080/"
        },
        "id": "tNXWPFt2CKAR",
        "outputId": "14d3ca12-8612-4c80-e4d6-27a7225225c9"
      },
      "execution_count": null,
      "outputs": [
        {
          "output_type": "execute_result",
          "data": {
            "text/plain": [
              "{13, 15, 42, 43}"
            ]
          },
          "metadata": {},
          "execution_count": 14
        }
      ]
    },
    {
      "cell_type": "markdown",
      "source": [
        "Então ele vai nos retornar quatro elementos que é o 13, 15, 42 e 43, que se você reparar 13, 15, 42 e 43 aparece nos dois conjuntos mas só em um dos dois conjuntos. Então dessa maneira temos diversas operações que podemos trabalhar com os nossos conjuntos, operações de conjuntos."
      ],
      "metadata": {
        "id": "HUmfr9ShEOOV"
      }
    },
    {
      "cell_type": "code",
      "source": [
        "usuarios_data_science = {15, 23, 43, 56}\n",
        "\n",
        "usuarios_machine_learning = {13, 23, 56, 42}"
      ],
      "metadata": {
        "id": "a33OZge1CJ9_"
      },
      "execution_count": null,
      "outputs": []
    },
    {
      "cell_type": "code",
      "source": [
        "usuarios_data_science & usuarios_machine_learning"
      ],
      "metadata": {
        "colab": {
          "base_uri": "https://localhost:8080/"
        },
        "id": "mAD6tZ95CJ75",
        "outputId": "45d50da9-5f3a-488e-a757-00c65d674f87"
      },
      "execution_count": null,
      "outputs": [
        {
          "output_type": "execute_result",
          "data": {
            "text/plain": [
              "{23, 56}"
            ]
          },
          "metadata": {},
          "execution_count": 18
        }
      ]
    },
    {
      "cell_type": "markdown",
      "source": [
        "# Aula 2"
      ],
      "metadata": {
        "id": "8o-XUQwgE4bS"
      }
    },
    {
      "cell_type": "markdown",
      "source": [
        "O primeiro deles é quando estamos trabalhando com os conjuntos, podemos modificar o conjunto em tempo real. Então imagina que eu tenho aqui uma série de usuários. Os meus usuários são o 1, o 5, o 76, o 34, o 52, o 13 e o 17. Então esses são os usuários. Vamos mostrar aqui o tamanho dos usuários: temos sete usuários."
      ],
      "metadata": {
        "id": "r5WLJfm8E-A2"
      }
    },
    {
      "cell_type": "code",
      "source": [
        "usuarios = {1,5,76,34,52,13,17}\n",
        "len(usuarios)"
      ],
      "metadata": {
        "colab": {
          "base_uri": "https://localhost:8080/"
        },
        "id": "uC7I3Wg0CJ5z",
        "outputId": "0bc068b2-602e-4bbc-e55a-c79c04b85c93"
      },
      "execution_count": null,
      "outputs": [
        {
          "output_type": "execute_result",
          "data": {
            "text/plain": [
              "7"
            ]
          },
          "metadata": {},
          "execution_count": 19
        }
      ]
    },
    {
      "cell_type": "markdown",
      "source": [
        "Vamos adicionar agora então um outro elemento, um elemento que não está lá dentro, 765, vamos ver o tamanho e vamos ver que agora tem 8 elementos e o elemento 765 está lá. Então o conjunto, no Python, por padrão, ele é mutável e isso cai nas implicações de objetos mutáveis que discutimos no primeiro curso de coleções e que você tem diversas discussões sobre orientação a objeto, programação funcional, vantagens e desvantagens."
      ],
      "metadata": {
        "id": "ZlPA9R3FFHVd"
      }
    },
    {
      "cell_type": "code",
      "source": [
        "usuarios.add(765)\n",
        "len(usuarios)"
      ],
      "metadata": {
        "colab": {
          "base_uri": "https://localhost:8080/"
        },
        "id": "TNPj3E2_CJ36",
        "outputId": "a9af2dbd-f162-41b4-dc13-ab8283ff1206"
      },
      "execution_count": null,
      "outputs": [
        {
          "output_type": "execute_result",
          "data": {
            "text/plain": [
              "8"
            ]
          },
          "metadata": {},
          "execution_count": 20
        }
      ]
    },
    {
      "cell_type": "code",
      "source": [
        "usuarios"
      ],
      "metadata": {
        "colab": {
          "base_uri": "https://localhost:8080/"
        },
        "id": "Lkl-7Co4CJtR",
        "outputId": "75510d70-d3b7-4b31-b0a3-c110e04c5c7c"
      },
      "execution_count": null,
      "outputs": [
        {
          "output_type": "execute_result",
          "data": {
            "text/plain": [
              "{1, 5, 13, 17, 34, 52, 76, 765}"
            ]
          },
          "metadata": {},
          "execution_count": 21
        }
      ]
    },
    {
      "cell_type": "markdown",
      "source": [
        "Então agora eu mantenho aqui o Usuários, está lá, se dermos um type( ) dos Usuários, está lá, tanto que eles está aqui na representação string está escrito a palavra frozenset, para deixar claro para a gente que não no conjunto normal, é um conjunto, porém ele está congelado. Por quê? Porque um conjunto congelado se eu tentar adicionar alguma coisa, o conjunto congelado vai falar: \"olha, não\". Um frozenset() é diferente de um set, ele não tem adicionar, você não consegue adicionar elementos lá dentro."
      ],
      "metadata": {
        "id": "Y9X_vdO3FS0N"
      }
    },
    {
      "cell_type": "code",
      "source": [
        "usuarios = frozenset(usuarios)\n",
        "usuarios"
      ],
      "metadata": {
        "colab": {
          "base_uri": "https://localhost:8080/"
        },
        "id": "UdCeuxc7FNeh",
        "outputId": "21fb0400-3d26-49ba-c606-9a4c3a2ffb30"
      },
      "execution_count": null,
      "outputs": [
        {
          "output_type": "execute_result",
          "data": {
            "text/plain": [
              "frozenset({1, 5, 13, 17, 34, 52, 76, 765})"
            ]
          },
          "metadata": {},
          "execution_count": 22
        }
      ]
    },
    {
      "cell_type": "code",
      "source": [
        "type(usuarios)"
      ],
      "metadata": {
        "colab": {
          "base_uri": "https://localhost:8080/"
        },
        "id": "p6zNs3EPFV6w",
        "outputId": "80081fea-0cc7-403f-bd8c-f0de5dfcd836"
      },
      "execution_count": null,
      "outputs": [
        {
          "output_type": "execute_result",
          "data": {
            "text/plain": [
              "frozenset"
            ]
          },
          "metadata": {},
          "execution_count": 23
        }
      ]
    },
    {
      "cell_type": "code",
      "source": [
        "meu_texto = \"Bem vindo meu nome é Guilherme eu gosto muito de nomes e tenho o meu cachorro e gosto muito de cachorro\""
      ],
      "metadata": {
        "id": "pLzzKEdrFYAo"
      },
      "execution_count": null,
      "outputs": []
    },
    {
      "cell_type": "markdown",
      "source": [
        " Então eu tenho um texto aqui, eu não usei vírgulas de propósito, tentei fazer um texto, mesmo que o português seja meio estranho, mas um texto que tivesse algumas repetições de palavras, porque eu vou pegar esse texto e vou quebrar usando split() nos espaços em branco. Por padrão split quebra em espaço em branco, poderia passar como parâmetro. Por padrão, no espaço em branco e temos todo o texto quebrado, as palavrinhas quebradas. Todo o texto quebrado pelos espaços em branco."
      ],
      "metadata": {
        "id": "PpPXA24JFirf"
      }
    },
    {
      "cell_type": "code",
      "source": [
        "set(meu_texto.split())"
      ],
      "metadata": {
        "colab": {
          "base_uri": "https://localhost:8080/"
        },
        "id": "pEnLtDYHFd9_",
        "outputId": "a21fc1fc-6500-4542-d63d-58c81a8bf65d"
      },
      "execution_count": null,
      "outputs": [
        {
          "output_type": "execute_result",
          "data": {
            "text/plain": [
              "{'Bem',\n",
              " 'Guilherme',\n",
              " 'cachorro',\n",
              " 'de',\n",
              " 'e',\n",
              " 'eu',\n",
              " 'gosto',\n",
              " 'meu',\n",
              " 'muito',\n",
              " 'nome',\n",
              " 'nomes',\n",
              " 'o',\n",
              " 'tenho',\n",
              " 'vindo',\n",
              " 'é'}"
            ]
          },
          "metadata": {},
          "execution_count": 25
        }
      ]
    },
    {
      "cell_type": "markdown",
      "source": [
        "O que eu posso fazer é: pega essa lista, é uma lista, tá vendo? É uma lista, então meu_texto.split() nos espaços em branco e transforma em um conjunto. Então aqui eu vou ter todas as palavras do meu texto, sem duplicidade. Sem duplicidade, olha: \"bem, Guilherme, cachorro, de, e, eu\". Não importa quantas vezes a palavra “eu” apareceu, quantas vezes apareceram a palavra “nome”, “nomes”, “muito”, “meu”. Eu tenho aqui meu dicionário de palavras."
      ],
      "metadata": {
        "id": "AjWM0i8IFqsD"
      }
    },
    {
      "cell_type": "markdown",
      "source": [
        "Então eu transformei em um conjunto, isso é, tirei a duplicidade, tirei os repetidos, entre outras coisas que podem ser feitas quando transformamos em um conjunto. Então podemos ter conjuntos de strings, conjuntos de objetos e de outros tipos de valores."
      ],
      "metadata": {
        "id": "oS7inQGlFwbJ"
      }
    },
    {
      "cell_type": "markdown",
      "source": [
        "Marcela está desenvolvendo um ecommerce que contém apenas 6 usuários cadastrados. Portanto, como não há repetição de números dentro de um conjunto, ela criou um conjunto de dados e cadastrou os usuários conforme o ID."
      ],
      "metadata": {
        "id": "FDHyZljZF1nx"
      }
    },
    {
      "cell_type": "code",
      "source": [
        "usuarios = {1,5,76,34,52,13}"
      ],
      "metadata": {
        "id": "R90pEBFYFksu"
      },
      "execution_count": null,
      "outputs": []
    },
    {
      "cell_type": "markdown",
      "source": [
        "Então foi solicitado para que Marcela adicione um novo usuário com o ID 7, neste conjunto. Como ela pode fazer isto?"
      ],
      "metadata": {
        "id": "0Mx9WSe6F9qv"
      }
    },
    {
      "cell_type": "code",
      "source": [
        "usuarios.add(7)"
      ],
      "metadata": {
        "id": "xgWwZKEoF3zs"
      },
      "execution_count": null,
      "outputs": []
    },
    {
      "cell_type": "code",
      "source": [
        "usuarios"
      ],
      "metadata": {
        "colab": {
          "base_uri": "https://localhost:8080/"
        },
        "id": "xkSslqutGL97",
        "outputId": "154bc44a-8fd6-4228-bf3b-044c8b0d8ccb"
      },
      "execution_count": null,
      "outputs": [
        {
          "output_type": "execute_result",
          "data": {
            "text/plain": [
              "{1, 5, 7, 13, 34, 52, 76}"
            ]
          },
          "metadata": {},
          "execution_count": 29
        }
      ]
    },
    {
      "cell_type": "markdown",
      "source": [
        "Usando a função add para adicionar o ID 7 ao seu conjunto.\n",
        "\n",
        "\n",
        "A função add é nativa do Python para utilizar com conjuntos, sendo podemos usar ela para inserir o ID ao conjunto."
      ],
      "metadata": {
        "id": "aFGjgBplGVQV"
      }
    },
    {
      "cell_type": "markdown",
      "source": [
        "# Aula 3"
      ],
      "metadata": {
        "id": "TUwYrsnPGhe9"
      }
    },
    {
      "cell_type": "markdown",
      "source": [
        " Então podemos usar as chaves, a mesma do conjunto, como se fosse um conjunto, olha, como se fosse um conjunto, estou dando \"Tabs\" e aqui fechamos como se fosse um conjunto. Só que é um conjunto especial, que tem chave e valor. Então, essa estrutura de dicionário vai nos trazer algumas vantagens no dia a dia, tudo bem? Então aqui eu vou chamar essa variável de aparicoes. Podemos verificar o tipo dela, o tipo dela de dicionário, é um dict(), de dictionary, e podemos fazer várias coisas com dicionário."
      ],
      "metadata": {
        "id": "4t6D9kt3Gznv"
      }
    },
    {
      "cell_type": "code",
      "source": [
        "aparicoes = {\n",
        "  \"Guilherme\" : 1,\n",
        "  \"cachorro\" : 2,\n",
        "  \"nome\" : 2,\n",
        "  \"vindo\" : 1\n",
        "}"
      ],
      "metadata": {
        "id": "E2n4rjjfGQhA"
      },
      "execution_count": null,
      "outputs": []
    },
    {
      "cell_type": "code",
      "source": [
        "type(aparicoes)"
      ],
      "metadata": {
        "colab": {
          "base_uri": "https://localhost:8080/"
        },
        "id": "9Hqc_jKMG2O6",
        "outputId": "7bc525e4-23ad-4168-b2be-17277489fd00"
      },
      "execution_count": null,
      "outputs": [
        {
          "output_type": "execute_result",
          "data": {
            "text/plain": [
              "dict"
            ]
          },
          "metadata": {},
          "execution_count": 31
        }
      ]
    },
    {
      "cell_type": "markdown",
      "source": [
        " Por exemplo, \"aparicoes[], qual é o valor para 'Guilherme'”? O valor para a chave “Guilherme” é 1. \"aparicoes[], qual é o valor para a chave 'cachorro'”? Para a chave “cachorro”, o valor é 2. \"aparicoes[], qual é o valor para chave \"xpto\", que não está no dicionário? E ele dá uma chave error. KeyError, não existe essa chave \"xpto\" dentro do dicionário."
      ],
      "metadata": {
        "id": "zXAJTGSkG8gA"
      }
    },
    {
      "cell_type": "code",
      "source": [
        "aparicoes[\"Guilherme\"]"
      ],
      "metadata": {
        "colab": {
          "base_uri": "https://localhost:8080/"
        },
        "id": "bD1-KvCAG48P",
        "outputId": "af151553-0024-498b-a08b-27c5ae7266ec"
      },
      "execution_count": null,
      "outputs": [
        {
          "output_type": "execute_result",
          "data": {
            "text/plain": [
              "1"
            ]
          },
          "metadata": {},
          "execution_count": 32
        }
      ]
    },
    {
      "cell_type": "code",
      "source": [
        "aparicoes[\"cachorro\"]"
      ],
      "metadata": {
        "colab": {
          "base_uri": "https://localhost:8080/"
        },
        "id": "5fPtyazQG-0P",
        "outputId": "cb0a413d-1a7a-4915-aa3f-7a8b247857ea"
      },
      "execution_count": null,
      "outputs": [
        {
          "output_type": "execute_result",
          "data": {
            "text/plain": [
              "2"
            ]
          },
          "metadata": {},
          "execution_count": 33
        }
      ]
    },
    {
      "cell_type": "code",
      "source": [
        "aparicoes[\"xpto\"]"
      ],
      "metadata": {
        "colab": {
          "base_uri": "https://localhost:8080/",
          "height": 176
        },
        "id": "olZm5C_jHBcF",
        "outputId": "0015312a-b0ea-4071-adce-2c450964b7b4"
      },
      "execution_count": null,
      "outputs": [
        {
          "output_type": "error",
          "ename": "KeyError",
          "evalue": "ignored",
          "traceback": [
            "\u001b[0;31m---------------------------------------------------------------------------\u001b[0m",
            "\u001b[0;31mKeyError\u001b[0m                                  Traceback (most recent call last)",
            "\u001b[0;32m<ipython-input-34-5844a27a46e4>\u001b[0m in \u001b[0;36m<module>\u001b[0;34m()\u001b[0m\n\u001b[0;32m----> 1\u001b[0;31m \u001b[0maparicoes\u001b[0m\u001b[0;34m[\u001b[0m\u001b[0;34m\"xpto\"\u001b[0m\u001b[0;34m]\u001b[0m\u001b[0;34m\u001b[0m\u001b[0;34m\u001b[0m\u001b[0m\n\u001b[0m",
            "\u001b[0;31mKeyError\u001b[0m: 'xpto'"
          ]
        }
      ]
    },
    {
      "cell_type": "markdown",
      "source": [
        "Se você quisesse um valor padrão, tipo 0 como valor padrão, no nosso caso se encaixa, se eu estou fazendo uma contagem de palavras e a palavra não está lá dentro é porque é 0. Então eu poderia, nessa situação específica, uma abordagem, vamos ver outra mais para frente, é usar o método get(). Falar que eu quero pegar a chave \"xpto\", se não estiver lá dentro a chave \"xpto\", devolva zero. Então, devolveu zero. aparicoes.get(\"cachorro\", 0) vai devolver o cachorro que está lá dentro, que é o número 2."
      ],
      "metadata": {
        "id": "losyfq3xHLMT"
      }
    },
    {
      "cell_type": "code",
      "source": [
        "aparicoes.get(\"xpto\", 0)"
      ],
      "metadata": {
        "colab": {
          "base_uri": "https://localhost:8080/"
        },
        "id": "hDQtBXnSHBZb",
        "outputId": "ea9923dd-6df0-428a-f156-cc3437946760"
      },
      "execution_count": null,
      "outputs": [
        {
          "output_type": "execute_result",
          "data": {
            "text/plain": [
              "0"
            ]
          },
          "metadata": {},
          "execution_count": 35
        }
      ]
    },
    {
      "cell_type": "code",
      "source": [
        "aparicoes.get(\"cachorro\", 0)"
      ],
      "metadata": {
        "colab": {
          "base_uri": "https://localhost:8080/"
        },
        "id": "sDMqpbHAHBT8",
        "outputId": "e6201e4f-edbb-4e27-f29b-2d6ef6568822"
      },
      "execution_count": null,
      "outputs": [
        {
          "output_type": "execute_result",
          "data": {
            "text/plain": [
              "2"
            ]
          },
          "metadata": {},
          "execution_count": 36
        }
      ]
    },
    {
      "cell_type": "markdown",
      "source": [
        "Essa daqui é uma das maneiras de criarmos um dicionário, poderíamos, como de costume, instanciar pelo construtor dict(). Quando criamos pelo construtor dict(), usamos uma outra forma, que é a chave, por exemplo (Guilherme = 2, cachorro = 1), é um exemplo que eu estou criando aqui. Então, dessa maneira, eu também tenho um dicionário, mas repara que eu não usei aspas aqui, não pude usar aspas aqui, e aqui eu coloquei o valor normalmente, usei o símbolo de igual."
      ],
      "metadata": {
        "id": "spmYEFy6HV5S"
      }
    },
    {
      "cell_type": "code",
      "source": [
        "aparicoes = dict(Guilherme = 2, cachorro = 1)\n",
        "aparicoes"
      ],
      "metadata": {
        "colab": {
          "base_uri": "https://localhost:8080/"
        },
        "id": "EXOQjLN4HBQ0",
        "outputId": "1a9c4d3d-7876-47da-8809-c88564e2b1e6"
      },
      "execution_count": null,
      "outputs": [
        {
          "output_type": "execute_result",
          "data": {
            "text/plain": [
              "{'Guilherme': 2, 'cachorro': 1}"
            ]
          },
          "metadata": {},
          "execution_count": 37
        }
      ]
    },
    {
      "cell_type": "code",
      "source": [
        "aparicoes = {\n",
        "  \"Guilherme\" : 1,\n",
        "  \"cachorro\" : 2,\n",
        "  \"nome\" : 2,\n",
        "  \"vindo\" : 1\n",
        "}"
      ],
      "metadata": {
        "id": "Ug3fq0WyHBN-"
      },
      "execution_count": null,
      "outputs": []
    },
    {
      "cell_type": "code",
      "source": [
        "aparicoes"
      ],
      "metadata": {
        "colab": {
          "base_uri": "https://localhost:8080/"
        },
        "id": "TgIfDG3jHBKs",
        "outputId": "1bde4404-d7e1-46e9-b88b-381356100bfc"
      },
      "execution_count": null,
      "outputs": [
        {
          "output_type": "execute_result",
          "data": {
            "text/plain": [
              "{'Guilherme': 1, 'cachorro': 2, 'nome': 2, 'vindo': 1}"
            ]
          },
          "metadata": {},
          "execution_count": 39
        }
      ]
    },
    {
      "cell_type": "markdown",
      "source": [
        "Continuando com as operações de conjuntos, queria mostrar alguns casos clássicos: se eu quiser adicionar um elemento no conjunto, então vou primeiro acessar, como se eu fosse acessar esse elemento, por exemplo, o elemento \"Carlos\", e vou atribuir o valor 1 a esse elemento. Então agora o aparicoes, se dermos uma olhada, vamos ver que tem lá o Carlos: 1. Da mesma maneira podemos substituir um valor, então aparicoes[“Carlos”] agora é 2, então podemos ver o aparicoes de novo: tem aqui 'Carlos': 2."
      ],
      "metadata": {
        "id": "qJUrMK6oHnKg"
      }
    },
    {
      "cell_type": "code",
      "source": [
        "aparicoes[\"Carlos\"] = 1"
      ],
      "metadata": {
        "id": "1j3lxgdCHBHv"
      },
      "execution_count": null,
      "outputs": []
    },
    {
      "cell_type": "code",
      "source": [
        "aparicoes"
      ],
      "metadata": {
        "colab": {
          "base_uri": "https://localhost:8080/"
        },
        "id": "gjlacaoPHBEk",
        "outputId": "20c40136-fc58-4d8c-d48b-f81a64145327"
      },
      "execution_count": null,
      "outputs": [
        {
          "output_type": "execute_result",
          "data": {
            "text/plain": [
              "{'Carlos': 1, 'Guilherme': 1, 'cachorro': 2, 'nome': 2, 'vindo': 1}"
            ]
          },
          "metadata": {},
          "execution_count": 41
        }
      ]
    },
    {
      "cell_type": "code",
      "source": [
        "aparicoes[\"Carlos\"] = 2"
      ],
      "metadata": {
        "id": "Mq9mfgx8HBBS"
      },
      "execution_count": null,
      "outputs": []
    },
    {
      "cell_type": "code",
      "source": [
        "aparicoes"
      ],
      "metadata": {
        "colab": {
          "base_uri": "https://localhost:8080/"
        },
        "id": "PggeuaPQHA_M",
        "outputId": "504f067f-58b2-41b6-88f9-d1b57472c129"
      },
      "execution_count": null,
      "outputs": [
        {
          "output_type": "execute_result",
          "data": {
            "text/plain": [
              "{'Carlos': 2, 'Guilherme': 1, 'cachorro': 2, 'nome': 2, 'vindo': 1}"
            ]
          },
          "metadata": {},
          "execution_count": 44
        }
      ]
    },
    {
      "cell_type": "markdown",
      "source": [
        "Então del aparicoes[“Carlos”] vai remover o Carlos de dentro, então agora tem só o 'Guilherme', 'cachorro', 'nome' e 'vindo' - aqueles quatro elementos que eu tinha antes, sem o elemento 'Carlos'. Posso verificar se um elemento está lá dentro, é que nem uma lista ou um conjunto, isso em relação às chaves Guilherme, cachorro, nome e vindo."
      ],
      "metadata": {
        "id": "q6E2ALr_H_h9"
      }
    },
    {
      "cell_type": "code",
      "source": [
        "del aparicoes[\"Carlos\"]"
      ],
      "metadata": {
        "id": "v6bg-W9JHA7L"
      },
      "execution_count": null,
      "outputs": []
    },
    {
      "cell_type": "code",
      "source": [
        "aparicoes"
      ],
      "metadata": {
        "colab": {
          "base_uri": "https://localhost:8080/"
        },
        "id": "ciGMW6QKHA3-",
        "outputId": "a0d81880-7b9f-42af-f688-8077a4464a1a"
      },
      "execution_count": null,
      "outputs": [
        {
          "output_type": "execute_result",
          "data": {
            "text/plain": [
              "{'Guilherme': 1, 'cachorro': 2, 'nome': 2, 'vindo': 1}"
            ]
          },
          "metadata": {},
          "execution_count": 46
        }
      ]
    },
    {
      "cell_type": "markdown",
      "source": [
        "Está dentro sim, está dentro das chaves. 'Carlos' está dentro das aparicoes, isto é, das chaves? aparicoes, está certo. Não está. Então o in funciona para buscar nas chaves e não nos valores, nas chaves. Como é que eu faço para passar pelos elementos e imprimir todos, fazer alguma coisa, iterar por todos os elementos de um dicionário? for elemento in aparicoes. Vamos imprimir cada um desses elementos? Cada desses elementos está impresso aqui."
      ],
      "metadata": {
        "id": "HSDvQWZ8IOZq"
      }
    },
    {
      "cell_type": "code",
      "source": [
        "\"cachorro\" in aparicoes"
      ],
      "metadata": {
        "colab": {
          "base_uri": "https://localhost:8080/"
        },
        "id": "3Exzw2nLHArI",
        "outputId": "b7d7d440-779c-45ad-855e-dee8994d7c9c"
      },
      "execution_count": null,
      "outputs": [
        {
          "output_type": "execute_result",
          "data": {
            "text/plain": [
              "True"
            ]
          },
          "metadata": {},
          "execution_count": 47
        }
      ]
    },
    {
      "cell_type": "code",
      "source": [
        "\"Carlos\" in aparicoes"
      ],
      "metadata": {
        "colab": {
          "base_uri": "https://localhost:8080/"
        },
        "id": "j5QsA_qfIQRr",
        "outputId": "03245f5b-6e38-4b57-ba6c-52a375db8f03"
      },
      "execution_count": null,
      "outputs": [
        {
          "output_type": "execute_result",
          "data": {
            "text/plain": [
              "False"
            ]
          },
          "metadata": {},
          "execution_count": 48
        }
      ]
    },
    {
      "cell_type": "code",
      "source": [
        "for elemento in aparicoes:\n",
        "  print(elemento)"
      ],
      "metadata": {
        "colab": {
          "base_uri": "https://localhost:8080/"
        },
        "id": "ATpzxFrfITpR",
        "outputId": "0068e256-5cc7-4c2e-81c3-9d664f5675ba"
      },
      "execution_count": null,
      "outputs": [
        {
          "output_type": "stream",
          "name": "stdout",
          "text": [
            "Guilherme\n",
            "cachorro\n",
            "nome\n",
            "vindo\n"
          ]
        }
      ]
    },
    {
      "cell_type": "markdown",
      "source": [
        "Mas você fala: \"Guilherme, tem casos em que eu gostaria de passar pelas chaves, gostaria de trabalhar com as chaves\". Por isso que quando vamos, na verdade, iterar por todos os elementos, temos algumas maneiras diferentes de fazer isso. Então uma maneira é passar direto pelo dicionário, outra maneira é passar pelas chaves iterkeys(). Aí sim, um iterável das chaves e estamos imprimindo cada um desses."
      ],
      "metadata": {
        "id": "wRKq1nGVIbt6"
      }
    },
    {
      "cell_type": "code",
      "source": [
        "for elemento in aparicoes.iterkeys():\n",
        "  print(elemento)"
      ],
      "metadata": {
        "colab": {
          "base_uri": "https://localhost:8080/",
          "height": 194
        },
        "id": "f8gxh0WVIWRI",
        "outputId": "f318007e-0007-41a0-d45f-22c1cfe7859e"
      },
      "execution_count": null,
      "outputs": [
        {
          "output_type": "error",
          "ename": "AttributeError",
          "evalue": "ignored",
          "traceback": [
            "\u001b[0;31m---------------------------------------------------------------------------\u001b[0m",
            "\u001b[0;31mAttributeError\u001b[0m                            Traceback (most recent call last)",
            "\u001b[0;32m<ipython-input-50-33d364e5e97f>\u001b[0m in \u001b[0;36m<module>\u001b[0;34m()\u001b[0m\n\u001b[0;32m----> 1\u001b[0;31m \u001b[0;32mfor\u001b[0m \u001b[0melemento\u001b[0m \u001b[0;32min\u001b[0m \u001b[0maparicoes\u001b[0m\u001b[0;34m.\u001b[0m\u001b[0miterkeys\u001b[0m\u001b[0;34m(\u001b[0m\u001b[0;34m)\u001b[0m\u001b[0;34m:\u001b[0m\u001b[0;34m\u001b[0m\u001b[0;34m\u001b[0m\u001b[0m\n\u001b[0m\u001b[1;32m      2\u001b[0m   \u001b[0mprint\u001b[0m\u001b[0;34m(\u001b[0m\u001b[0melemento\u001b[0m\u001b[0;34m)\u001b[0m\u001b[0;34m\u001b[0m\u001b[0;34m\u001b[0m\u001b[0m\n",
            "\u001b[0;31mAttributeError\u001b[0m: 'dict' object has no attribute 'iterkeys'"
          ]
        }
      ]
    },
    {
      "cell_type": "markdown",
      "source": [
        "Aí você fala: \"Guilherme, eu não queria saber só os values\". Em alguns casos, eu posso até querer saber: \"será que o número 1 está dentro de aparicoes.values(), será que está?\" Sim, está."
      ],
      "metadata": {
        "id": "BMt8p91iIq7C"
      }
    },
    {
      "cell_type": "code",
      "source": [
        "for elemento in aparicoes.keys():\n",
        "  print(elemento)"
      ],
      "metadata": {
        "colab": {
          "base_uri": "https://localhost:8080/"
        },
        "id": "oh5OpGssIdlG",
        "outputId": "c9e87330-b62f-461c-c38a-2f5ba5827c86"
      },
      "execution_count": null,
      "outputs": [
        {
          "output_type": "stream",
          "name": "stdout",
          "text": [
            "Guilherme\n",
            "cachorro\n",
            "nome\n",
            "vindo\n"
          ]
        }
      ]
    },
    {
      "cell_type": "markdown",
      "source": [
        "Sérgio precisa implementar um dicionário que tenha o nome e a idade de seus clientes, para saber a faixa etária deles. Esta implementação terá mil registros. Após fazer isto, ele deve verificar alguns clientes.\n",
        "\n",
        "Como ele pode fazer isto?\n",
        "\n",
        "Alternativa correta\n",
        "Ele pode utilizar a função get para verificar os clientes.\n",
        "\n",
        "\n",
        "Utilizar a função GET, verificando se o cliente está contido no dicionário."
      ],
      "metadata": {
        "id": "VWMbhtBKI-ya"
      }
    },
    {
      "cell_type": "markdown",
      "source": [
        "# Aula 4"
      ],
      "metadata": {
        "id": "gKwGH3ZeJYbL"
      }
    },
    {
      "cell_type": "markdown",
      "source": [
        "Lembra, nunca tenha medo de documentação: \"Python string lowercase\", então documentação de lowercase. Eu gosto de ir para a documentação, então vou para documentation e aqui eu procuro lower(), então repara que temos o lower() e podemos utilizar ele para converter para minúsculo. Eu gosto de olhar documentação porque além de olhar o lower(), olho o que tem logo embaixo, logo em cima, tem alguma coisa interessante?\n",
        "\n",
        "[00:58] Então eu já dou uma olhada se tem mais alguma coisa que me parece ser interessante, por exemplo, batendo o olho aqui, próximo do lower(), tem algumas coisas interessantes. Tem por exemplo a busca, o find(), mas buscando mais para a direita possível, right(), tem vez que buscar da esquerda, buscar da direita alguma coisa em uma string, então estou sabendo que isso existe. Então eu dou uma olhada na documentação um pouco além do que eu vi, consome 15 segundos, 30 segundos a mais para mim, e eu aprendo alguma coisa nova."
      ],
      "metadata": {
        "id": "HL_m-cxyJfkE"
      }
    },
    {
      "cell_type": "code",
      "source": [
        "meu_texto = \"Bem vindo meu nome é Guilherme eu gosto muito de nomes e tenho o meu cachorro e gosto muito de cachorro\"\n",
        "meu_texto = meu_texto.lower()\n",
        "\n",
        "aparicoes = {}\n",
        "\n",
        "for palavra in meu_texto.split():\n",
        "  ate_agora = aparicoes.get(palavra, 0)\n",
        "  aparicoes[palavra] = ate_agora + 1\n",
        "\n",
        "aparicoes"
      ],
      "metadata": {
        "id": "LvCFYesrIu2V",
        "colab": {
          "base_uri": "https://localhost:8080/"
        },
        "outputId": "15c178a6-1d74-4969-c091-56a0c49bd742"
      },
      "execution_count": null,
      "outputs": [
        {
          "output_type": "execute_result",
          "data": {
            "text/plain": [
              "{'bem': 1,\n",
              " 'cachorro': 2,\n",
              " 'de': 2,\n",
              " 'e': 2,\n",
              " 'eu': 1,\n",
              " 'gosto': 2,\n",
              " 'guilherme': 1,\n",
              " 'meu': 2,\n",
              " 'muito': 2,\n",
              " 'nome': 1,\n",
              " 'nomes': 1,\n",
              " 'o': 1,\n",
              " 'tenho': 1,\n",
              " 'vindo': 1,\n",
              " 'é': 1}"
            ]
          },
          "metadata": {},
          "execution_count": 1
        }
      ]
    },
    {
      "cell_type": "markdown",
      "source": [
        "Como é que é padrão mesmo em inglês? Default, então eu vou procurar por \"defaultdict documentation python\" no Google. Um dicionário padrão, então defaultdict é esse dicionário. Então você pode importar de collections o .deafultdict e usar ele, é isso que vamos fazer, mesma versão só que agora usando o defaultdict: from collections import defaultdict, tudo junto, minúsculo, não tem underline."
      ],
      "metadata": {
        "id": "viWlarxV59B1"
      }
    },
    {
      "cell_type": "code",
      "source": [
        "from collections import defaultdict"
      ],
      "metadata": {
        "id": "N0Z6nrS35zpm"
      },
      "execution_count": null,
      "outputs": []
    },
    {
      "cell_type": "markdown",
      "source": [
        "Então vamos pensar: se eu quero retornar 0, existe uma função chamada int(), a função int(), que é o que? É o tipo int, o tipo int tem um construtor, que pode receber um número, 15, mas ele não recebe nada, ele devolve 0. Zero. Então, entre aspas, o que parece a gambiarra, mas na verdade é a ideia, a ideia é ser poderoso, uma ferramenta poderosa dessa maneira, é que passamos só o int, só o tipo. Por quê? Porque quando defaultdict precisar, ele vai pegar esse cara aqui, que é uma função também, pode ser invocado e tratado como uma função e devolver 0."
      ],
      "metadata": {
        "id": "SgGhp-tE6Zz0"
      }
    },
    {
      "cell_type": "code",
      "source": [
        "from collections import defaultdict\n",
        "\n",
        "aparicoes = defaultdict(int)\n",
        "\n",
        "for palavra in meu_texto.split():\n",
        "  ate_agora = aparicoes.get(palavra, 0)\n",
        "  aparicoes[palavra] = ate_agora + 1\n",
        "\n",
        "aparicoes"
      ],
      "metadata": {
        "colab": {
          "base_uri": "https://localhost:8080/"
        },
        "id": "7_gwS2yZ5_q5",
        "outputId": "5bbe850d-39e2-4f90-c05a-23879928df0f"
      },
      "execution_count": null,
      "outputs": [
        {
          "output_type": "execute_result",
          "data": {
            "text/plain": [
              "defaultdict(int,\n",
              "            {'bem': 1,\n",
              "             'cachorro': 2,\n",
              "             'de': 2,\n",
              "             'e': 2,\n",
              "             'eu': 1,\n",
              "             'gosto': 2,\n",
              "             'guilherme': 1,\n",
              "             'meu': 2,\n",
              "             'muito': 2,\n",
              "             'nome': 1,\n",
              "             'nomes': 1,\n",
              "             'o': 1,\n",
              "             'tenho': 1,\n",
              "             'vindo': 1,\n",
              "             'é': 1})"
            ]
          },
          "metadata": {},
          "execution_count": 3
        }
      ]
    },
    {
      "cell_type": "code",
      "source": [
        "int()"
      ],
      "metadata": {
        "colab": {
          "base_uri": "https://localhost:8080/"
        },
        "id": "FUP0O0dX6eK7",
        "outputId": "1e431251-6056-4d62-ea0a-838017ab7deb"
      },
      "execution_count": null,
      "outputs": [
        {
          "output_type": "execute_result",
          "data": {
            "text/plain": [
              "0"
            ]
          },
          "metadata": {},
          "execution_count": 4
        }
      ]
    },
    {
      "cell_type": "markdown",
      "source": [
        "Agora se eu colocar um valor lá dentro dicionario['guilherme'] = 15, ele devolve 15. Então repara que quando eu procurar alguma coisa que não está lá dentro, ele chama isso daqui como se fosse uma função, e existe a função int(), o construtor de um inteiro, que devolve 0 por padrão. Então esse é o defaultdict, que é bastante utilizado no dia a dia."
      ],
      "metadata": {
        "id": "-VU80tQC6xU8"
      }
    },
    {
      "cell_type": "code",
      "source": [
        "dicionario['guilherme'] = 15\n",
        "dicionario['guilherme']"
      ],
      "metadata": {
        "id": "zYJ9F_T06ioy"
      },
      "execution_count": null,
      "outputs": []
    },
    {
      "cell_type": "markdown",
      "source": [
        "Queria mostrar agora para nós o poder de conhecermos a API e as coleções que uma linguagem nos oferece. Então repara, eu comentei aqui o defaultdict() e eu estou utilizando ele com números inteiros e o meu código ainda está mais ou menos. Vamos pegar esse mesmo código e tentar simplificar mais ainda. Então, por exemplo, já importei o collections, não vou importar de novo, criei o meu dicionário, fiz o split() e peguei o valor."
      ],
      "metadata": {
        "id": "ivf21AEP69w_"
      }
    },
    {
      "cell_type": "code",
      "source": [
        "from collections import defaultdict\n",
        "\n",
        "aparicoes = defaultdict(int)\n",
        "\n",
        "for palavra in meu_texto.split():\n",
        "  ate_agora = aparicoes[palavra]\n",
        "  aparicoes[palavra] = ate_agora + 1\n",
        "\n",
        "aparicoes"
      ],
      "metadata": {
        "colab": {
          "base_uri": "https://localhost:8080/"
        },
        "id": "07e527xW60GT",
        "outputId": "721c81b3-e0fc-4c9f-977e-fe2d8860329a"
      },
      "execution_count": null,
      "outputs": [
        {
          "output_type": "execute_result",
          "data": {
            "text/plain": [
              "defaultdict(int,\n",
              "            {'bem': 1,\n",
              "             'cachorro': 2,\n",
              "             'de': 2,\n",
              "             'e': 2,\n",
              "             'eu': 1,\n",
              "             'gosto': 2,\n",
              "             'guilherme': 1,\n",
              "             'meu': 2,\n",
              "             'muito': 2,\n",
              "             'nome': 1,\n",
              "             'nomes': 1,\n",
              "             'o': 1,\n",
              "             'tenho': 1,\n",
              "             'vindo': 1,\n",
              "             'é': 1})"
            ]
          },
          "metadata": {},
          "execution_count": 6
        }
      ]
    },
    {
      "cell_type": "markdown",
      "source": [
        "Então eu posso de collections importar o contador. O contador já tem por padrão valor 0. Você pode pensar como se fosse um dicionário, que está contando coisas, já com valor, 0, então ele já tem o valor 0, poderíamos ir direto para esse daqui. Vamos rodar aqui assim: aparicoes = counter( ) e fazemos a soma das aparições. Mas se você conhece a documentação de contador, você vai ver que no construtor do contador você já pode passar o iterável. Pode passar um iterável para o contador."
      ],
      "metadata": {
        "id": "xm29xI367OP4"
      }
    },
    {
      "cell_type": "code",
      "source": [
        "from collections import Counter\n",
        "\n",
        "aparicoes = Counter()\n",
        "for palavra in meu_texto.split():\n",
        "  aparicoes[palavra] += 1\n",
        "\n",
        "aparicoes"
      ],
      "metadata": {
        "colab": {
          "base_uri": "https://localhost:8080/"
        },
        "id": "nJIuE0BQ7EQF",
        "outputId": "fd8b6835-b641-40f7-d60f-1af18e291f59"
      },
      "execution_count": null,
      "outputs": [
        {
          "output_type": "execute_result",
          "data": {
            "text/plain": [
              "Counter({'bem': 1,\n",
              "         'cachorro': 2,\n",
              "         'de': 2,\n",
              "         'e': 2,\n",
              "         'eu': 1,\n",
              "         'gosto': 2,\n",
              "         'guilherme': 1,\n",
              "         'meu': 2,\n",
              "         'muito': 2,\n",
              "         'nome': 1,\n",
              "         'nomes': 1,\n",
              "         'o': 1,\n",
              "         'tenho': 1,\n",
              "         'vindo': 1,\n",
              "         'é': 1})"
            ]
          },
          "metadata": {},
          "execution_count": 7
        }
      ]
    },
    {
      "cell_type": "markdown",
      "source": [
        "Então eu já vou passar um iterável para esse contador: vou criar um contador e aqui no contador eu já passo meu_texto.split() que é um iterável. Adivinha o que ele vai fazer? Contar. É um contador. Então ficou uma linha de código. Essa é a importância de conhecer a API, ainda mais nesse caso, coisas super comuns que estão até na biblioteca na API padrão do Python. Nem precisou ir para o Pandas e para NLTK e para seja lá o que for de bibliotecas externas. Foi padrão do Python, temos um contador aqui que já fez todo o processo da contagem. Então super importante conhecermos a API."
      ],
      "metadata": {
        "id": "aNSuSzgt7VST"
      }
    },
    {
      "cell_type": "code",
      "source": [
        "aparicoes = Counter(meu_texto.split())\n",
        "\n",
        "aparicoes"
      ],
      "metadata": {
        "colab": {
          "base_uri": "https://localhost:8080/"
        },
        "id": "7aNpFH5F7EMq",
        "outputId": "55afc956-e2bf-4c22-d94f-f1b3aad62d3b"
      },
      "execution_count": null,
      "outputs": [
        {
          "output_type": "execute_result",
          "data": {
            "text/plain": [
              "Counter({'bem': 1,\n",
              "         'cachorro': 2,\n",
              "         'de': 2,\n",
              "         'e': 2,\n",
              "         'eu': 1,\n",
              "         'gosto': 2,\n",
              "         'guilherme': 1,\n",
              "         'meu': 2,\n",
              "         'muito': 2,\n",
              "         'nome': 1,\n",
              "         'nomes': 1,\n",
              "         'o': 1,\n",
              "         'tenho': 1,\n",
              "         'vindo': 1,\n",
              "         'é': 1})"
            ]
          },
          "metadata": {},
          "execution_count": 8
        }
      ]
    },
    {
      "cell_type": "markdown",
      "source": [
        "Conforme aprendemos em aula, é possível fazer a contagem de palavras, utilizando o default dict e o Counter para contar valores.\n",
        "\n",
        "Como podemos contar as aparições de cada palavra da seguinte frase?"
      ],
      "metadata": {
        "id": "KtLEqa057eL8"
      }
    },
    {
      "cell_type": "code",
      "source": [
        "texto = \"Bem vindo meu nome é Elias irei falar sobre os meus gostos eu gosto muito de cachorros e gatos eu gosto também de beber café\"\n",
        "\n",
        "texto = texto.lower()"
      ],
      "metadata": {
        "id": "XRb4NrnU7EKI"
      },
      "execution_count": null,
      "outputs": []
    },
    {
      "cell_type": "code",
      "source": [
        "aparicoes_exercicio = Counter(texto.split())\n",
        "aparicoes_exercicio"
      ],
      "metadata": {
        "colab": {
          "base_uri": "https://localhost:8080/"
        },
        "id": "P1xTbKgL7EHP",
        "outputId": "2d3ee348-fb8b-4794-ed02-ef7ed4497fde"
      },
      "execution_count": null,
      "outputs": [
        {
          "output_type": "execute_result",
          "data": {
            "text/plain": [
              "Counter({'beber': 1,\n",
              "         'bem': 1,\n",
              "         'cachorros': 1,\n",
              "         'café': 1,\n",
              "         'de': 2,\n",
              "         'e': 1,\n",
              "         'elias': 1,\n",
              "         'eu': 2,\n",
              "         'falar': 1,\n",
              "         'gatos': 1,\n",
              "         'gosto': 2,\n",
              "         'gostos': 1,\n",
              "         'irei': 1,\n",
              "         'meu': 1,\n",
              "         'meus': 1,\n",
              "         'muito': 1,\n",
              "         'nome': 1,\n",
              "         'os': 1,\n",
              "         'sobre': 1,\n",
              "         'também': 1,\n",
              "         'vindo': 1,\n",
              "         'é': 1})"
            ]
          },
          "metadata": {},
          "execution_count": 10
        }
      ]
    },
    {
      "cell_type": "code",
      "source": [
        "# Ele vai utilizar utilizar o seguinte aparicoes = Counter(texto.split()) , \n",
        "# para fazer a contagem das aparições.\n",
        "# Assim nós estamos separando as letras e fazendo a contagem dos valores."
      ],
      "metadata": {
        "id": "HN75gjuB7EE5"
      },
      "execution_count": null,
      "outputs": []
    },
    {
      "cell_type": "markdown",
      "source": [
        "# Aula 5"
      ],
      "metadata": {
        "id": "quqj_0aV8XfC"
      }
    },
    {
      "cell_type": "markdown",
      "source": [
        "Por fim, vamos colocar tudo isso em prática para vermos algum exemplo diferente? Então o que eu queria fazer agora não é um contador de palavras, eu fazer um contador de letras para vermos uma coisa interessante que acontece na língua portuguesa e em outras línguas, para ser sincero, também. Então eu vou criar aqui uma nova sessão que é \"#Testando o uso de diversas coleções\"."
      ],
      "metadata": {
        "id": "87bRWLmk8kOf"
      }
    },
    {
      "cell_type": "code",
      "source": [
        "# Quebrar a palavra em letras:\n",
        "\n",
        "for x in 'guilherme':\n",
        "  print(x)"
      ],
      "metadata": {
        "colab": {
          "base_uri": "https://localhost:8080/"
        },
        "id": "_2aOFXr37ECC",
        "outputId": "a75f23b8-5c7e-4b2e-891d-fbf8f049dd53"
      },
      "execution_count": null,
      "outputs": [
        {
          "output_type": "stream",
          "name": "stdout",
          "text": [
            "g\n",
            "u\n",
            "i\n",
            "l\n",
            "h\n",
            "e\n",
            "r\n",
            "m\n",
            "e\n"
          ]
        }
      ]
    },
    {
      "cell_type": "code",
      "source": [
        "texto1 = '''[00:00] Por fim, vamos colocar tudo isso em prática para vermos algum exemplo diferente? Então o que eu queria fazer agora não é um contador de palavras, eu fazer um contador de letras para vermos uma coisa interessante que acontece na língua portuguesa e em outras línguas, para ser sincero, também. Então eu vou criar aqui uma nova sessão que é \"#Testando o uso de diversas coleções\".\n",
        "\n",
        "[00:23] Então o que vamos fazer é o seguinte: vamos pegar dois textos, por exemplo eu posso entrar no blog da Alura e pegar textos do blog da Alura. Eu posso pegar um texto que está falando sobre expressões regulares e posso pegar um outro texto de outro assunto, só para não termos dois assuntos similares. Vou pegar um o outro assunto, temos um de programação e um aqui que é de negócios: B2C, B2B, coisas do gênero. Então dois assuntos distintos, um de programação e um não de programação.\n",
        "\n",
        "[00:53] Então dois assuntos, dois textos. Vamos separar esses dois textos? Então vou copiar uma parte desse texto aqui, vou copiar três parágrafos. Vou copiar uns três parágrafos iniciais, então texto1 = \"\"\", então três aspas e três aspas para poder ter várias linhas, então no Python várias linhas, três parágrafos. Repara, eu não vou copiar o código, eu não quero o código, eu quero o texto em português, então vou copiar essas outras aqui, quatro parágrafos, que também é texto em português.\n",
        "\n",
        "[01:23] Então eu quero copiar o texto em português sobre programação e mais um pouco aqui, copiar tudo isso. Então eu tenho um texto, que é um texto razoável, posso rodar, é um texto sobre programação e vou colocar um texto2 também, três aspas, Enter. E agora um texto sobre B2C, B2B, e por aí vai. Então vou pegar esse texto aqui, e olha, tem bastante texto, tem bastante texto mesmo. Não é programação, então vou copiar todo esse texto, porque não falou de programação. Copiei.\n",
        "\n",
        "[02:00] Então dois textos de assuntos totalmente diferentes: vendas, negócio, B2B, B2C; programação, expressão regular, e por aí vai, no caso era até com Java Script e HTML, se não me engano. Então vamos lá. Então eu tenho dois textos que eu queria fazer agora era contar as letras. Será que eu consigo contar as letras de um texto? Então vamos parar para pensar: se eu fizer um for palavra in texto1.split( ):. Quando eu faço o texto1.split( ), o que é o texto1.split( ) mesmo? Ele quebra o texto em palavras. '''"
      ],
      "metadata": {
        "id": "t32Nj4-M7D_a"
      },
      "execution_count": null,
      "outputs": []
    },
    {
      "cell_type": "code",
      "source": [
        "texto2 = '''[02:35] Mas quando tem uma palavra, por exemplo \"guilherme\", e eu fizer um for x in \"guilherme\":, cada um dos elementos x é o que? É uma das letras. Então em um texto, você pode considerar, entre aspas, que uma string é como se funcionasse como uma lista ou um iterável de caracteres. Um texto string no Python é um iterável de caracteres, você pode pensar dessa maneira. E já que isso é verdade, aqui da maneira que eu estou trabalhando, então eu poderia criar um contador em cima do texto1.\n",
        "\n",
        "Counter(texto1)\n",
        "\n",
        "[03:10] Vamos criar um contador em cima do texto1? Olha aqui: quantas vezes cada letra \"A\"pareceu. Maiúsculo e minúsculo, então texto1.lower(). Então quantas vezes cada letra \"A\"pareceu, em minúsculo, já no minúsculo. Então as aparições estão aí. Agora eu tenho a contagem de cada letra, eu queria saber o quão frequente apareceu a letra \"A\", o caractere \"A\", o quão frequente apareceu o caractere \"E\", o quão frequente apareceu o caractere hífen, o caractere quebra de linha. O caractere quebra de linha eu não estou interessado pessoalmente, mas vamos fazer para todos, vamos trabalhar para todos de uma maneira uniforme.\n",
        "\n",
        "Counter(text1.lower())COPIAR CÓDIGO\n",
        "[03:51] E quando eu digo quão frequente, eu não quero dizer a frequência exata, quantas vezes. Quantas vezes já está aqui: 175, 158, tudo bem, isso daqui eu já tenho, as aparições. As aparições eu já tenho, o que eu quero agora é dado as aparições eu quero saber se, por exemplo, o total de aparições. Um total de aparições é o que: aparições, todos os valores – values( ) - todos os valores, cadê todos os valores? Todos os valores, soma tudo isso, eu queria somar tudo isso.\n",
        "\n",
        "aparicoes = Counter(texto1.lower())\n",
        "aparicoes.values()COPIAR CÓDIGO\n",
        "[04:26] Então eu poderia tentar somar todos esses valores com sum(). Então isso aqui é o número de aparições de caracteres que apareceram no meu texto. Estou usando essa maneira para calcular o total de caracteres. Então esse é o total de caracteres e esse aqui é um dicionário com as aparições. Agora para cada uma das letras, para cada uma for letra in aparicoes:, o que eu quero fazer?\n",
        "\n",
        "[04:53] Eu quero pegar a letra, por exemplo a letra \"A\", e falar: a letra \"A\" apareceu 182 vezes. Se ela apareceu 182 de 1821, isso significa 10%, que é 0.1. 10% das aparições nesse texto1 são da letra \"A\", é isso que está mostrando para nós. Então é isso que eu quero fazer, quero pegar aqui a letra \"A\", que eu tenho, mas eu quero saber quantas vezes que apareceu, isso é: o aparições eu não estou interessado só na chave, estou interessado também nos valores .items(), já tínhamos visto isso.\n",
        "\n",
        "aparicoes = Counter(texto1.lower())\n",
        "total_de_caracteres = sum(aparicoes.values())\n",
        "for letra in aparicoes.items():\n",
        "\n",
        "    'a' 182/1821 ==> 10% (0.1)COPIAR CÓDIGO\n",
        "[05:31] Então para cada letra \"E\" aparições daquela letra, que eu vou chamar de frequência, que aquela letra \"A\" pareceu. Para cada um desses, o que eu vou calcular? Então para cada um desses, eu vou calcular frequencia dividido pelo total de caracteres, e isso vai me devolver o que? 132, por exemplo, dividido por 1821 que é 0.1. Mas vamos colocar isso aqui em uma tupla, vamos colocar em uma tupla: essa letra teve essa frequência, com/total. Essa outra letra, essa outra frequência. '''"
      ],
      "metadata": {
        "id": "HrL6lGrP7D8x"
      },
      "execution_count": null,
      "outputs": []
    },
    {
      "cell_type": "code",
      "source": [
        "texto1.split()"
      ],
      "metadata": {
        "colab": {
          "base_uri": "https://localhost:8080/"
        },
        "id": "sx_Yp0cX7D5x",
        "outputId": "8a91e339-e34b-46c5-9c66-48412c60cc9c"
      },
      "execution_count": null,
      "outputs": [
        {
          "output_type": "execute_result",
          "data": {
            "text/plain": [
              "['[00:00]',\n",
              " 'Por',\n",
              " 'fim,',\n",
              " 'vamos',\n",
              " 'colocar',\n",
              " 'tudo',\n",
              " 'isso',\n",
              " 'em',\n",
              " 'prática',\n",
              " 'para',\n",
              " 'vermos',\n",
              " 'algum',\n",
              " 'exemplo',\n",
              " 'diferente?',\n",
              " 'Então',\n",
              " 'o',\n",
              " 'que',\n",
              " 'eu',\n",
              " 'queria',\n",
              " 'fazer',\n",
              " 'agora',\n",
              " 'não',\n",
              " 'é',\n",
              " 'um',\n",
              " 'contador',\n",
              " 'de',\n",
              " 'palavras,',\n",
              " 'eu',\n",
              " 'fazer',\n",
              " 'um',\n",
              " 'contador',\n",
              " 'de',\n",
              " 'letras',\n",
              " 'para',\n",
              " 'vermos',\n",
              " 'uma',\n",
              " 'coisa',\n",
              " 'interessante',\n",
              " 'que',\n",
              " 'acontece',\n",
              " 'na',\n",
              " 'língua',\n",
              " 'portuguesa',\n",
              " 'e',\n",
              " 'em',\n",
              " 'outras',\n",
              " 'línguas,',\n",
              " 'para',\n",
              " 'ser',\n",
              " 'sincero,',\n",
              " 'também.',\n",
              " 'Então',\n",
              " 'eu',\n",
              " 'vou',\n",
              " 'criar',\n",
              " 'aqui',\n",
              " 'uma',\n",
              " 'nova',\n",
              " 'sessão',\n",
              " 'que',\n",
              " 'é',\n",
              " '\"#Testando',\n",
              " 'o',\n",
              " 'uso',\n",
              " 'de',\n",
              " 'diversas',\n",
              " 'coleções\".',\n",
              " '[00:23]',\n",
              " 'Então',\n",
              " 'o',\n",
              " 'que',\n",
              " 'vamos',\n",
              " 'fazer',\n",
              " 'é',\n",
              " 'o',\n",
              " 'seguinte:',\n",
              " 'vamos',\n",
              " 'pegar',\n",
              " 'dois',\n",
              " 'textos,',\n",
              " 'por',\n",
              " 'exemplo',\n",
              " 'eu',\n",
              " 'posso',\n",
              " 'entrar',\n",
              " 'no',\n",
              " 'blog',\n",
              " 'da',\n",
              " 'Alura',\n",
              " 'e',\n",
              " 'pegar',\n",
              " 'textos',\n",
              " 'do',\n",
              " 'blog',\n",
              " 'da',\n",
              " 'Alura.',\n",
              " 'Eu',\n",
              " 'posso',\n",
              " 'pegar',\n",
              " 'um',\n",
              " 'texto',\n",
              " 'que',\n",
              " 'está',\n",
              " 'falando',\n",
              " 'sobre',\n",
              " 'expressões',\n",
              " 'regulares',\n",
              " 'e',\n",
              " 'posso',\n",
              " 'pegar',\n",
              " 'um',\n",
              " 'outro',\n",
              " 'texto',\n",
              " 'de',\n",
              " 'outro',\n",
              " 'assunto,',\n",
              " 'só',\n",
              " 'para',\n",
              " 'não',\n",
              " 'termos',\n",
              " 'dois',\n",
              " 'assuntos',\n",
              " 'similares.',\n",
              " 'Vou',\n",
              " 'pegar',\n",
              " 'um',\n",
              " 'o',\n",
              " 'outro',\n",
              " 'assunto,',\n",
              " 'temos',\n",
              " 'um',\n",
              " 'de',\n",
              " 'programação',\n",
              " 'e',\n",
              " 'um',\n",
              " 'aqui',\n",
              " 'que',\n",
              " 'é',\n",
              " 'de',\n",
              " 'negócios:',\n",
              " 'B2C,',\n",
              " 'B2B,',\n",
              " 'coisas',\n",
              " 'do',\n",
              " 'gênero.',\n",
              " 'Então',\n",
              " 'dois',\n",
              " 'assuntos',\n",
              " 'distintos,',\n",
              " 'um',\n",
              " 'de',\n",
              " 'programação',\n",
              " 'e',\n",
              " 'um',\n",
              " 'não',\n",
              " 'de',\n",
              " 'programação.',\n",
              " '[00:53]',\n",
              " 'Então',\n",
              " 'dois',\n",
              " 'assuntos,',\n",
              " 'dois',\n",
              " 'textos.',\n",
              " 'Vamos',\n",
              " 'separar',\n",
              " 'esses',\n",
              " 'dois',\n",
              " 'textos?',\n",
              " 'Então',\n",
              " 'vou',\n",
              " 'copiar',\n",
              " 'uma',\n",
              " 'parte',\n",
              " 'desse',\n",
              " 'texto',\n",
              " 'aqui,',\n",
              " 'vou',\n",
              " 'copiar',\n",
              " 'três',\n",
              " 'parágrafos.',\n",
              " 'Vou',\n",
              " 'copiar',\n",
              " 'uns',\n",
              " 'três',\n",
              " 'parágrafos',\n",
              " 'iniciais,',\n",
              " 'então',\n",
              " 'texto1',\n",
              " '=',\n",
              " '\"\"\",',\n",
              " 'então',\n",
              " 'três',\n",
              " 'aspas',\n",
              " 'e',\n",
              " 'três',\n",
              " 'aspas',\n",
              " 'para',\n",
              " 'poder',\n",
              " 'ter',\n",
              " 'várias',\n",
              " 'linhas,',\n",
              " 'então',\n",
              " 'no',\n",
              " 'Python',\n",
              " 'várias',\n",
              " 'linhas,',\n",
              " 'três',\n",
              " 'parágrafos.',\n",
              " 'Repara,',\n",
              " 'eu',\n",
              " 'não',\n",
              " 'vou',\n",
              " 'copiar',\n",
              " 'o',\n",
              " 'código,',\n",
              " 'eu',\n",
              " 'não',\n",
              " 'quero',\n",
              " 'o',\n",
              " 'código,',\n",
              " 'eu',\n",
              " 'quero',\n",
              " 'o',\n",
              " 'texto',\n",
              " 'em',\n",
              " 'português,',\n",
              " 'então',\n",
              " 'vou',\n",
              " 'copiar',\n",
              " 'essas',\n",
              " 'outras',\n",
              " 'aqui,',\n",
              " 'quatro',\n",
              " 'parágrafos,',\n",
              " 'que',\n",
              " 'também',\n",
              " 'é',\n",
              " 'texto',\n",
              " 'em',\n",
              " 'português.',\n",
              " '[01:23]',\n",
              " 'Então',\n",
              " 'eu',\n",
              " 'quero',\n",
              " 'copiar',\n",
              " 'o',\n",
              " 'texto',\n",
              " 'em',\n",
              " 'português',\n",
              " 'sobre',\n",
              " 'programação',\n",
              " 'e',\n",
              " 'mais',\n",
              " 'um',\n",
              " 'pouco',\n",
              " 'aqui,',\n",
              " 'copiar',\n",
              " 'tudo',\n",
              " 'isso.',\n",
              " 'Então',\n",
              " 'eu',\n",
              " 'tenho',\n",
              " 'um',\n",
              " 'texto,',\n",
              " 'que',\n",
              " 'é',\n",
              " 'um',\n",
              " 'texto',\n",
              " 'razoável,',\n",
              " 'posso',\n",
              " 'rodar,',\n",
              " 'é',\n",
              " 'um',\n",
              " 'texto',\n",
              " 'sobre',\n",
              " 'programação',\n",
              " 'e',\n",
              " 'vou',\n",
              " 'colocar',\n",
              " 'um',\n",
              " 'texto2',\n",
              " 'também,',\n",
              " 'três',\n",
              " 'aspas,',\n",
              " 'Enter.',\n",
              " 'E',\n",
              " 'agora',\n",
              " 'um',\n",
              " 'texto',\n",
              " 'sobre',\n",
              " 'B2C,',\n",
              " 'B2B,',\n",
              " 'e',\n",
              " 'por',\n",
              " 'aí',\n",
              " 'vai.',\n",
              " 'Então',\n",
              " 'vou',\n",
              " 'pegar',\n",
              " 'esse',\n",
              " 'texto',\n",
              " 'aqui,',\n",
              " 'e',\n",
              " 'olha,',\n",
              " 'tem',\n",
              " 'bastante',\n",
              " 'texto,',\n",
              " 'tem',\n",
              " 'bastante',\n",
              " 'texto',\n",
              " 'mesmo.',\n",
              " 'Não',\n",
              " 'é',\n",
              " 'programação,',\n",
              " 'então',\n",
              " 'vou',\n",
              " 'copiar',\n",
              " 'todo',\n",
              " 'esse',\n",
              " 'texto,',\n",
              " 'porque',\n",
              " 'não',\n",
              " 'falou',\n",
              " 'de',\n",
              " 'programação.',\n",
              " 'Copiei.',\n",
              " '[02:00]',\n",
              " 'Então',\n",
              " 'dois',\n",
              " 'textos',\n",
              " 'de',\n",
              " 'assuntos',\n",
              " 'totalmente',\n",
              " 'diferentes:',\n",
              " 'vendas,',\n",
              " 'negócio,',\n",
              " 'B2B,',\n",
              " 'B2C;',\n",
              " 'programação,',\n",
              " 'expressão',\n",
              " 'regular,',\n",
              " 'e',\n",
              " 'por',\n",
              " 'aí',\n",
              " 'vai,',\n",
              " 'no',\n",
              " 'caso',\n",
              " 'era',\n",
              " 'até',\n",
              " 'com',\n",
              " 'Java',\n",
              " 'Script',\n",
              " 'e',\n",
              " 'HTML,',\n",
              " 'se',\n",
              " 'não',\n",
              " 'me',\n",
              " 'engano.',\n",
              " 'Então',\n",
              " 'vamos',\n",
              " 'lá.',\n",
              " 'Então',\n",
              " 'eu',\n",
              " 'tenho',\n",
              " 'dois',\n",
              " 'textos',\n",
              " 'que',\n",
              " 'eu',\n",
              " 'queria',\n",
              " 'fazer',\n",
              " 'agora',\n",
              " 'era',\n",
              " 'contar',\n",
              " 'as',\n",
              " 'letras.',\n",
              " 'Será',\n",
              " 'que',\n",
              " 'eu',\n",
              " 'consigo',\n",
              " 'contar',\n",
              " 'as',\n",
              " 'letras',\n",
              " 'de',\n",
              " 'um',\n",
              " 'texto?',\n",
              " 'Então',\n",
              " 'vamos',\n",
              " 'parar',\n",
              " 'para',\n",
              " 'pensar:',\n",
              " 'se',\n",
              " 'eu',\n",
              " 'fizer',\n",
              " 'um',\n",
              " 'for',\n",
              " 'palavra',\n",
              " 'in',\n",
              " 'texto1.split(',\n",
              " '):.',\n",
              " 'Quando',\n",
              " 'eu',\n",
              " 'faço',\n",
              " 'o',\n",
              " 'texto1.split(',\n",
              " '),',\n",
              " 'o',\n",
              " 'que',\n",
              " 'é',\n",
              " 'o',\n",
              " 'texto1.split(',\n",
              " ')',\n",
              " 'mesmo?',\n",
              " 'Ele',\n",
              " 'quebra',\n",
              " 'o',\n",
              " 'texto',\n",
              " 'em',\n",
              " 'palavras.']"
            ]
          },
          "metadata": {},
          "execution_count": 25
        }
      ]
    },
    {
      "cell_type": "code",
      "source": [
        "Counter(texto1)"
      ],
      "metadata": {
        "colab": {
          "base_uri": "https://localhost:8080/"
        },
        "id": "3d6I_Gj87Dco",
        "outputId": "3c108736-0ec8-430c-fae5-8b8b4bfee9f1"
      },
      "execution_count": null,
      "outputs": [
        {
          "output_type": "execute_result",
          "data": {
            "text/plain": [
              "Counter({'\\n': 8,\n",
              "         ' ': 414,\n",
              "         '\"': 5,\n",
              "         '#': 1,\n",
              "         '(': 3,\n",
              "         ')': 3,\n",
              "         ',': 43,\n",
              "         '.': 24,\n",
              "         '0': 12,\n",
              "         '1': 5,\n",
              "         '2': 10,\n",
              "         '3': 3,\n",
              "         '5': 1,\n",
              "         ':': 10,\n",
              "         ';': 1,\n",
              "         '=': 1,\n",
              "         '?': 4,\n",
              "         'A': 2,\n",
              "         'B': 9,\n",
              "         'C': 4,\n",
              "         'E': 17,\n",
              "         'H': 1,\n",
              "         'J': 1,\n",
              "         'L': 1,\n",
              "         'M': 1,\n",
              "         'N': 1,\n",
              "         'P': 2,\n",
              "         'Q': 1,\n",
              "         'R': 1,\n",
              "         'S': 2,\n",
              "         'T': 2,\n",
              "         'V': 3,\n",
              "         '[': 5,\n",
              "         ']': 5,\n",
              "         'a': 178,\n",
              "         'b': 12,\n",
              "         'c': 34,\n",
              "         'd': 41,\n",
              "         'e': 191,\n",
              "         'f': 16,\n",
              "         'g': 40,\n",
              "         'h': 6,\n",
              "         'i': 65,\n",
              "         'l': 33,\n",
              "         'm': 65,\n",
              "         'n': 74,\n",
              "         'o': 228,\n",
              "         'p': 67,\n",
              "         'q': 25,\n",
              "         'r': 139,\n",
              "         's': 149,\n",
              "         't': 141,\n",
              "         'u': 104,\n",
              "         'v': 27,\n",
              "         'x': 31,\n",
              "         'y': 1,\n",
              "         'z': 6,\n",
              "         'á': 11,\n",
              "         'ã': 36,\n",
              "         'ç': 10,\n",
              "         'é': 13,\n",
              "         'ê': 10,\n",
              "         'í': 4,\n",
              "         'ó': 5,\n",
              "         'õ': 2})"
            ]
          },
          "metadata": {},
          "execution_count": 26
        }
      ]
    },
    {
      "cell_type": "code",
      "source": [
        "Counter(texto1.lower())"
      ],
      "metadata": {
        "colab": {
          "base_uri": "https://localhost:8080/"
        },
        "id": "aP3-N4Kt7BBe",
        "outputId": "b1724088-ae68-4c7c-b2b8-3f3f5dd03b96"
      },
      "execution_count": null,
      "outputs": [
        {
          "output_type": "execute_result",
          "data": {
            "text/plain": [
              "Counter({'\\n': 8,\n",
              "         ' ': 414,\n",
              "         '\"': 5,\n",
              "         '#': 1,\n",
              "         '(': 3,\n",
              "         ')': 3,\n",
              "         ',': 43,\n",
              "         '.': 24,\n",
              "         '0': 12,\n",
              "         '1': 5,\n",
              "         '2': 10,\n",
              "         '3': 3,\n",
              "         '5': 1,\n",
              "         ':': 10,\n",
              "         ';': 1,\n",
              "         '=': 1,\n",
              "         '?': 4,\n",
              "         '[': 5,\n",
              "         ']': 5,\n",
              "         'a': 180,\n",
              "         'b': 21,\n",
              "         'c': 38,\n",
              "         'd': 41,\n",
              "         'e': 208,\n",
              "         'f': 16,\n",
              "         'g': 40,\n",
              "         'h': 7,\n",
              "         'i': 65,\n",
              "         'j': 1,\n",
              "         'l': 34,\n",
              "         'm': 66,\n",
              "         'n': 75,\n",
              "         'o': 228,\n",
              "         'p': 69,\n",
              "         'q': 26,\n",
              "         'r': 140,\n",
              "         's': 151,\n",
              "         't': 143,\n",
              "         'u': 104,\n",
              "         'v': 30,\n",
              "         'x': 31,\n",
              "         'y': 1,\n",
              "         'z': 6,\n",
              "         'á': 11,\n",
              "         'ã': 36,\n",
              "         'ç': 10,\n",
              "         'é': 13,\n",
              "         'ê': 10,\n",
              "         'í': 4,\n",
              "         'ó': 5,\n",
              "         'õ': 2})"
            ]
          },
          "metadata": {},
          "execution_count": 28
        }
      ]
    },
    {
      "cell_type": "code",
      "source": [
        "aparicoes = Counter(texto1.lower())\n",
        "aparicoes.values()"
      ],
      "metadata": {
        "colab": {
          "base_uri": "https://localhost:8080/"
        },
        "id": "mtu43fFO_UzM",
        "outputId": "2115c135-b00d-4303-c7e6-baf9fbd83164"
      },
      "execution_count": null,
      "outputs": [
        {
          "output_type": "execute_result",
          "data": {
            "text/plain": [
              "dict_values([5, 12, 10, 5, 414, 69, 228, 140, 16, 65, 66, 43, 30, 180, 151, 38, 34, 143, 104, 41, 208, 11, 40, 31, 75, 4, 36, 26, 6, 13, 4, 21, 24, 5, 1, 10, 2, 8, 10, 3, 5, 10, 1, 5, 1, 7, 1, 1, 1, 3, 3])"
            ]
          },
          "metadata": {},
          "execution_count": 29
        }
      ]
    },
    {
      "cell_type": "code",
      "source": [
        "aparicoes = Counter(texto1.lower())\n",
        "total_de_caracteres = sum(aparicoes.values())"
      ],
      "metadata": {
        "id": "VsZ8bI_-_g2Z"
      },
      "execution_count": null,
      "outputs": []
    },
    {
      "cell_type": "code",
      "source": [
        "total_de_caracteres"
      ],
      "metadata": {
        "colab": {
          "base_uri": "https://localhost:8080/"
        },
        "id": "EURWzK2U_0mB",
        "outputId": "ef5eb3a2-d911-4b07-a9d4-27fd31c6bdcc"
      },
      "execution_count": null,
      "outputs": [
        {
          "output_type": "execute_result",
          "data": {
            "text/plain": [
              "2370"
            ]
          },
          "metadata": {},
          "execution_count": 31
        }
      ]
    },
    {
      "cell_type": "code",
      "source": [
        "aparicoes2 = Counter(texto2.lower())\n",
        "aparicoes2.values()"
      ],
      "metadata": {
        "colab": {
          "base_uri": "https://localhost:8080/"
        },
        "id": "WVsp3GMd_9Nz",
        "outputId": "8bfd188a-72fe-4909-c912-a86a1eefb632"
      },
      "execution_count": null,
      "outputs": [
        {
          "output_type": "execute_result",
          "data": {
            "text/plain": [
              "dict_values([6, 13, 9, 15, 6, 6, 6, 541, 79, 324, 179, 60, 151, 83, 81, 221, 144, 340, 63, 75, 37, 186, 55, 18, 26, 15, 102, 16, 21, 11, 99, 16, 6, 37, 20, 7, 11, 1, 6, 9, 29, 20, 16, 16, 5, 4, 12, 12, 3, 5, 1, 7, 1, 1, 5, 2, 1, 3, 2, 2, 2, 1])"
            ]
          },
          "metadata": {},
          "execution_count": 35
        }
      ]
    },
    {
      "cell_type": "code",
      "source": [
        "aparicoes2 = Counter(texto2.lower())\n",
        "total_de_caracteres2 = sum(aparicoes2.values())\n",
        "total_de_caracteres2"
      ],
      "metadata": {
        "colab": {
          "base_uri": "https://localhost:8080/"
        },
        "id": "RXXf_Mh6_9ID",
        "outputId": "b8e66d20-87b9-4719-a3b5-b38c621b684b"
      },
      "execution_count": null,
      "outputs": [
        {
          "output_type": "execute_result",
          "data": {
            "text/plain": [
              "3251"
            ]
          },
          "metadata": {},
          "execution_count": 36
        }
      ]
    },
    {
      "cell_type": "code",
      "source": [
        "Counter(texto2.lower())"
      ],
      "metadata": {
        "colab": {
          "base_uri": "https://localhost:8080/"
        },
        "id": "3PDOKyvN_9FY",
        "outputId": "d23e5d97-755b-409c-806b-3ccd9a191835"
      },
      "execution_count": null,
      "outputs": [
        {
          "output_type": "execute_result",
          "data": {
            "text/plain": [
              "Counter({'\\n': 20,\n",
              "         ' ': 541,\n",
              "         '\"': 26,\n",
              "         '%': 3,\n",
              "         \"'\": 2,\n",
              "         '(': 16,\n",
              "         ')': 16,\n",
              "         ',': 55,\n",
              "         '-': 1,\n",
              "         '.': 37,\n",
              "         '/': 2,\n",
              "         '0': 13,\n",
              "         '1': 29,\n",
              "         '2': 9,\n",
              "         '3': 6,\n",
              "         '4': 2,\n",
              "         '5': 6,\n",
              "         '6': 1,\n",
              "         '7': 1,\n",
              "         '8': 7,\n",
              "         ':': 15,\n",
              "         '=': 5,\n",
              "         '>': 1,\n",
              "         '?': 6,\n",
              "         '[': 6,\n",
              "         ']': 6,\n",
              "         '_': 2,\n",
              "         'a': 324,\n",
              "         'b': 9,\n",
              "         'c': 99,\n",
              "         'd': 81,\n",
              "         'e': 340,\n",
              "         'f': 21,\n",
              "         'g': 15,\n",
              "         'h': 16,\n",
              "         'i': 102,\n",
              "         'j': 6,\n",
              "         'l': 75,\n",
              "         'm': 79,\n",
              "         'n': 83,\n",
              "         'o': 221,\n",
              "         'p': 63,\n",
              "         'q': 60,\n",
              "         'r': 186,\n",
              "         's': 179,\n",
              "         't': 144,\n",
              "         'u': 151,\n",
              "         'v': 37,\n",
              "         'w': 4,\n",
              "         'x': 18,\n",
              "         'y': 1,\n",
              "         'z': 11,\n",
              "         'á': 11,\n",
              "         'ã': 20,\n",
              "         'ç': 12,\n",
              "         'é': 16,\n",
              "         'ê': 7,\n",
              "         'í': 3,\n",
              "         'ó': 5,\n",
              "         'õ': 12,\n",
              "         'ú': 5,\n",
              "         '–': 1})"
            ]
          },
          "metadata": {},
          "execution_count": 38
        }
      ]
    },
    {
      "cell_type": "code",
      "source": [
        "aparicoes = Counter(texto1.lower())\n",
        "total_de_caracteres = sum(aparicoes.values())\n",
        "for letra, frequencia in aparicoes.items():\n",
        "    tupla=(letra, frequencia / total_de_caracteres)\n",
        "    print(tupla)"
      ],
      "metadata": {
        "colab": {
          "base_uri": "https://localhost:8080/"
        },
        "id": "7JJ3nfGB_9BU",
        "outputId": "62b01ebf-fb98-4a0e-bb54-751d8257c5a5"
      },
      "execution_count": null,
      "outputs": [
        {
          "output_type": "stream",
          "name": "stdout",
          "text": [
            "('[', 0.002109704641350211)\n",
            "('0', 0.005063291139240506)\n",
            "(':', 0.004219409282700422)\n",
            "(']', 0.002109704641350211)\n",
            "(' ', 0.17468354430379746)\n",
            "('p', 0.02911392405063291)\n",
            "('o', 0.09620253164556962)\n",
            "('r', 0.05907172995780591)\n",
            "('f', 0.006751054852320675)\n",
            "('i', 0.027426160337552744)\n",
            "('m', 0.027848101265822784)\n",
            "(',', 0.018143459915611813)\n",
            "('v', 0.012658227848101266)\n",
            "('a', 0.0759493670886076)\n",
            "('s', 0.06371308016877637)\n",
            "('c', 0.016033755274261603)\n",
            "('l', 0.014345991561181435)\n",
            "('t', 0.060337552742616034)\n",
            "('u', 0.04388185654008439)\n",
            "('d', 0.01729957805907173)\n",
            "('e', 0.08776371308016878)\n",
            "('á', 0.004641350210970464)\n",
            "('g', 0.016877637130801686)\n",
            "('x', 0.013080168776371307)\n",
            "('n', 0.03164556962025317)\n",
            "('?', 0.0016877637130801688)\n",
            "('ã', 0.015189873417721518)\n",
            "('q', 0.010970464135021098)\n",
            "('z', 0.002531645569620253)\n",
            "('é', 0.005485232067510549)\n",
            "('í', 0.0016877637130801688)\n",
            "('b', 0.008860759493670886)\n",
            "('.', 0.010126582278481013)\n",
            "('\"', 0.002109704641350211)\n",
            "('#', 0.0004219409282700422)\n",
            "('ç', 0.004219409282700422)\n",
            "('õ', 0.0008438818565400844)\n",
            "('\\n', 0.0033755274261603376)\n",
            "('2', 0.004219409282700422)\n",
            "('3', 0.0012658227848101266)\n",
            "('ó', 0.002109704641350211)\n",
            "('ê', 0.004219409282700422)\n",
            "('5', 0.0004219409282700422)\n",
            "('1', 0.002109704641350211)\n",
            "('=', 0.0004219409282700422)\n",
            "('h', 0.002953586497890295)\n",
            "('y', 0.0004219409282700422)\n",
            "(';', 0.0004219409282700422)\n",
            "('j', 0.0004219409282700422)\n",
            "('(', 0.0012658227848101266)\n",
            "(')', 0.0012658227848101266)\n"
          ]
        }
      ]
    },
    {
      "cell_type": "code",
      "source": [
        "aparicoes2 = Counter(texto2.lower())\n",
        "total_de_caracteres2 = sum(aparicoes2.values())\n",
        "for letra, frequencia in aparicoes2.items():\n",
        "    tupla2=(letra, frequencia / total_de_caracteres2)\n",
        "    print(tupla2)"
      ],
      "metadata": {
        "colab": {
          "base_uri": "https://localhost:8080/"
        },
        "id": "Pp5YnXf__88S",
        "outputId": "640879c3-c273-4c93-8ce4-434fc6818db3"
      },
      "execution_count": null,
      "outputs": [
        {
          "output_type": "stream",
          "name": "stdout",
          "text": [
            "('[', 0.001845585973546601)\n",
            "('0', 0.003998769609350969)\n",
            "('2', 0.0027683789603199014)\n",
            "(':', 0.004613964933866502)\n",
            "('3', 0.001845585973546601)\n",
            "('5', 0.001845585973546601)\n",
            "(']', 0.001845585973546601)\n",
            "(' ', 0.16641033528145185)\n",
            "('m', 0.024300215318363582)\n",
            "('a', 0.09966164257151645)\n",
            "('s', 0.05505998154414026)\n",
            "('q', 0.01845585973546601)\n",
            "('u', 0.046447247000922794)\n",
            "('n', 0.02553060596739465)\n",
            "('d', 0.024915410642879113)\n",
            "('o', 0.06797908335896648)\n",
            "('t', 0.04429406336511842)\n",
            "('e', 0.10458320516764072)\n",
            "('p', 0.01937865272223931)\n",
            "('l', 0.023069824669332512)\n",
            "('v', 0.011381113503537373)\n",
            "('r', 0.05721316517994463)\n",
            "(',', 0.016917871424177177)\n",
            "('x', 0.005536757920639803)\n",
            "('\"', 0.007997539218701938)\n",
            "('g', 0.004613964933866502)\n",
            "('i', 0.031374961550292214)\n",
            "('h', 0.00492156259612427)\n",
            "('f', 0.0064595509074131035)\n",
            "('z', 0.003383574284835435)\n",
            "('c', 0.030452168563518917)\n",
            "('é', 0.00492156259612427)\n",
            "('?', 0.001845585973546601)\n",
            "('.', 0.011381113503537373)\n",
            "('ã', 0.006151953245155337)\n",
            "('ê', 0.002153183635804368)\n",
            "('á', 0.003383574284835435)\n",
            "('y', 0.00030759766225776686)\n",
            "('j', 0.001845585973546601)\n",
            "('b', 0.0027683789603199014)\n",
            "('1', 0.008920332205475239)\n",
            "('\\n', 0.006151953245155337)\n",
            "('(', 0.00492156259612427)\n",
            "(')', 0.00492156259612427)\n",
            "('ú', 0.0015379883112888342)\n",
            "('w', 0.0012303906490310674)\n",
            "('ç', 0.003691171947093202)\n",
            "('õ', 0.003691171947093202)\n",
            "('í', 0.0009227929867733005)\n",
            "('ó', 0.0015379883112888342)\n",
            "('7', 0.00030759766225776686)\n",
            "('8', 0.002153183635804368)\n",
            "('–', 0.00030759766225776686)\n",
            "('-', 0.00030759766225776686)\n",
            "('=', 0.0015379883112888342)\n",
            "('4', 0.0006151953245155337)\n",
            "('6', 0.00030759766225776686)\n",
            "('%', 0.0009227929867733005)\n",
            "('_', 0.0006151953245155337)\n",
            "(\"'\", 0.0006151953245155337)\n",
            "('/', 0.0006151953245155337)\n",
            "('>', 0.00030759766225776686)\n"
          ]
        }
      ]
    },
    {
      "cell_type": "code",
      "source": [
        "aparicoes = Counter(texto1.lower())\n",
        "total_de_caracteres = sum(aparicoes.values())\n",
        "\n",
        "[(letra, frequencia / total_de_caracteres) for letra, frequencia in aparicoes.items()]"
      ],
      "metadata": {
        "colab": {
          "base_uri": "https://localhost:8080/"
        },
        "id": "wZ7Uf_iA_84-",
        "outputId": "6aed114b-84f7-411a-bcb2-2c9366d23c92"
      },
      "execution_count": null,
      "outputs": [
        {
          "output_type": "execute_result",
          "data": {
            "text/plain": [
              "[('[', 0.002109704641350211),\n",
              " ('0', 0.005063291139240506),\n",
              " (':', 0.004219409282700422),\n",
              " (']', 0.002109704641350211),\n",
              " (' ', 0.17468354430379746),\n",
              " ('p', 0.02911392405063291),\n",
              " ('o', 0.09620253164556962),\n",
              " ('r', 0.05907172995780591),\n",
              " ('f', 0.006751054852320675),\n",
              " ('i', 0.027426160337552744),\n",
              " ('m', 0.027848101265822784),\n",
              " (',', 0.018143459915611813),\n",
              " ('v', 0.012658227848101266),\n",
              " ('a', 0.0759493670886076),\n",
              " ('s', 0.06371308016877637),\n",
              " ('c', 0.016033755274261603),\n",
              " ('l', 0.014345991561181435),\n",
              " ('t', 0.060337552742616034),\n",
              " ('u', 0.04388185654008439),\n",
              " ('d', 0.01729957805907173),\n",
              " ('e', 0.08776371308016878),\n",
              " ('á', 0.004641350210970464),\n",
              " ('g', 0.016877637130801686),\n",
              " ('x', 0.013080168776371307),\n",
              " ('n', 0.03164556962025317),\n",
              " ('?', 0.0016877637130801688),\n",
              " ('ã', 0.015189873417721518),\n",
              " ('q', 0.010970464135021098),\n",
              " ('z', 0.002531645569620253),\n",
              " ('é', 0.005485232067510549),\n",
              " ('í', 0.0016877637130801688),\n",
              " ('b', 0.008860759493670886),\n",
              " ('.', 0.010126582278481013),\n",
              " ('\"', 0.002109704641350211),\n",
              " ('#', 0.0004219409282700422),\n",
              " ('ç', 0.004219409282700422),\n",
              " ('õ', 0.0008438818565400844),\n",
              " ('\\n', 0.0033755274261603376),\n",
              " ('2', 0.004219409282700422),\n",
              " ('3', 0.0012658227848101266),\n",
              " ('ó', 0.002109704641350211),\n",
              " ('ê', 0.004219409282700422),\n",
              " ('5', 0.0004219409282700422),\n",
              " ('1', 0.002109704641350211),\n",
              " ('=', 0.0004219409282700422),\n",
              " ('h', 0.002953586497890295),\n",
              " ('y', 0.0004219409282700422),\n",
              " (';', 0.0004219409282700422),\n",
              " ('j', 0.0004219409282700422),\n",
              " ('(', 0.0012658227848101266),\n",
              " (')', 0.0012658227848101266)]"
            ]
          },
          "metadata": {},
          "execution_count": 43
        }
      ]
    },
    {
      "cell_type": "code",
      "source": [
        "aparicoes = Counter(texto1.lower())\n",
        "total_de_caracteres = sum(aparicoes.values())\n",
        "\n",
        "[(letra, frequencia / total_de_caracteres) for letra, frequencia in aparicoes.items()]\n"
      ],
      "metadata": {
        "colab": {
          "base_uri": "https://localhost:8080/"
        },
        "id": "w9Wp4BZy_8vX",
        "outputId": "db153ad3-9fdf-4674-a009-ee205f2373e8"
      },
      "execution_count": null,
      "outputs": [
        {
          "output_type": "execute_result",
          "data": {
            "text/plain": [
              "[('[', 0.002109704641350211),\n",
              " ('0', 0.005063291139240506),\n",
              " (':', 0.004219409282700422),\n",
              " (']', 0.002109704641350211),\n",
              " (' ', 0.17468354430379746),\n",
              " ('p', 0.02911392405063291),\n",
              " ('o', 0.09620253164556962),\n",
              " ('r', 0.05907172995780591),\n",
              " ('f', 0.006751054852320675),\n",
              " ('i', 0.027426160337552744),\n",
              " ('m', 0.027848101265822784),\n",
              " (',', 0.018143459915611813),\n",
              " ('v', 0.012658227848101266),\n",
              " ('a', 0.0759493670886076),\n",
              " ('s', 0.06371308016877637),\n",
              " ('c', 0.016033755274261603),\n",
              " ('l', 0.014345991561181435),\n",
              " ('t', 0.060337552742616034),\n",
              " ('u', 0.04388185654008439),\n",
              " ('d', 0.01729957805907173),\n",
              " ('e', 0.08776371308016878),\n",
              " ('á', 0.004641350210970464),\n",
              " ('g', 0.016877637130801686),\n",
              " ('x', 0.013080168776371307),\n",
              " ('n', 0.03164556962025317),\n",
              " ('?', 0.0016877637130801688),\n",
              " ('ã', 0.015189873417721518),\n",
              " ('q', 0.010970464135021098),\n",
              " ('z', 0.002531645569620253),\n",
              " ('é', 0.005485232067510549),\n",
              " ('í', 0.0016877637130801688),\n",
              " ('b', 0.008860759493670886),\n",
              " ('.', 0.010126582278481013),\n",
              " ('\"', 0.002109704641350211),\n",
              " ('#', 0.0004219409282700422),\n",
              " ('ç', 0.004219409282700422),\n",
              " ('õ', 0.0008438818565400844),\n",
              " ('\\n', 0.0033755274261603376),\n",
              " ('2', 0.004219409282700422),\n",
              " ('3', 0.0012658227848101266),\n",
              " ('ó', 0.002109704641350211),\n",
              " ('ê', 0.004219409282700422),\n",
              " ('5', 0.0004219409282700422),\n",
              " ('1', 0.002109704641350211),\n",
              " ('=', 0.0004219409282700422),\n",
              " ('h', 0.002953586497890295),\n",
              " ('y', 0.0004219409282700422),\n",
              " (';', 0.0004219409282700422),\n",
              " ('j', 0.0004219409282700422),\n",
              " ('(', 0.0012658227848101266),\n",
              " (')', 0.0012658227848101266)]"
            ]
          },
          "metadata": {},
          "execution_count": 45
        }
      ]
    },
    {
      "cell_type": "code",
      "source": [
        "def analisa_frequencia_de_letras(texto):\n",
        "  aparicoes = Counter(texto.lower())\n",
        "  total_de_caracteres = sum(aparicoes.values())\n",
        "\n",
        "  proporcoes = [(letra, frequencia / total_de_caracteres) for letra, frequencia in aparicoes.items()]\n",
        "  proporcoes = Counter(dict(proporcoes))\n",
        "  mais_comuns = proporcoes.most_common(10)\n",
        "  for caractere, proporcao in mais_comuns:\n",
        "    print((caractere, proporcao)"
      ],
      "metadata": {
        "colab": {
          "base_uri": "https://localhost:8080/",
          "height": 138
        },
        "id": "6EiszTaL_8Rf",
        "outputId": "e63b6171-a1b1-411f-c801-f7543e42e626"
      },
      "execution_count": null,
      "outputs": [
        {
          "output_type": "error",
          "ename": "SyntaxError",
          "evalue": "ignored",
          "traceback": [
            "\u001b[0;36m  File \u001b[0;32m\"<ipython-input-47-4fb40e9b277e>\"\u001b[0;36m, line \u001b[0;32m9\u001b[0m\n\u001b[0;31m    print((caractere, proporcao)\u001b[0m\n\u001b[0m                                ^\u001b[0m\n\u001b[0;31mSyntaxError\u001b[0m\u001b[0;31m:\u001b[0m unexpected EOF while parsing\n"
          ]
        }
      ]
    },
    {
      "cell_type": "code",
      "source": [
        "def analisa_frequencia_de_letras(texto):\n",
        "  aparicoes = Counter(texto.lower())\n",
        "  total_de_caracteres = sum(aparicoes.values())\n",
        "\n",
        "  proporcoes = [(letra, frequencia / total_de_caracteres) for letra, frequencia in aparicoes.items()]\n",
        "  proporcoes = Counter(dict(proporcoes))\n",
        "  mais_comuns = proporcoes.most_common(10)\n",
        "  for caractere, proporcao in mais_comuns:\n",
        "    print(\"{} => {:.2f}%\".format(caractere, proporcao * 100))\n",
        "analisa_frequencia_de_letras(texto1)"
      ],
      "metadata": {
        "colab": {
          "base_uri": "https://localhost:8080/"
        },
        "id": "F-UZysDe_7p4",
        "outputId": "2d940a5e-8f5c-4759-c585-9255485ff1f8"
      },
      "execution_count": null,
      "outputs": [
        {
          "output_type": "stream",
          "name": "stdout",
          "text": [
            "  => 17.47%\n",
            "o => 9.62%\n",
            "e => 8.78%\n",
            "a => 7.59%\n",
            "s => 6.37%\n",
            "t => 6.03%\n",
            "r => 5.91%\n",
            "u => 4.39%\n",
            "n => 3.16%\n",
            "p => 2.91%\n"
          ]
        }
      ]
    },
    {
      "cell_type": "code",
      "source": [
        "# texto 2:\n",
        "\n",
        "def analisa_frequencia_de_letras2(texto):\n",
        "  aparicoes2 = Counter(texto.lower())\n",
        "  total_de_caracteres2 = sum(aparicoes2.values())\n",
        "\n",
        "  proporcoes2 = [(letra, frequencia / total_de_caracteres2) for letra, frequencia in aparicoes2.items()]\n",
        "  proporcoes2 = Counter(dict(proporcoes2))\n",
        "  mais_comuns = proporcoes2.most_common(10)\n",
        "  for caractere, proporcao in mais_comuns:\n",
        "    print(\"{} => {:.2f}%\".format(caractere, proporcao * 100))\n",
        "analisa_frequencia_de_letras2(texto2)"
      ],
      "metadata": {
        "colab": {
          "base_uri": "https://localhost:8080/"
        },
        "id": "xf2SEuaO_36r",
        "outputId": "5dcb2ff4-261f-4ac1-ed78-e8281d2ae03f"
      },
      "execution_count": null,
      "outputs": [
        {
          "output_type": "stream",
          "name": "stdout",
          "text": [
            "  => 16.64%\n",
            "e => 10.46%\n",
            "a => 9.97%\n",
            "o => 6.80%\n",
            "r => 5.72%\n",
            "s => 5.51%\n",
            "u => 4.64%\n",
            "t => 4.43%\n",
            "i => 3.14%\n",
            "c => 3.05%\n"
          ]
        }
      ]
    },
    {
      "cell_type": "markdown",
      "source": [
        "E com isso terminamos de ver a base de duas coleções super importantes no nosso dia a dia de utilização do Python: os conjuntos, os sets e os dicionários - o dict(). Claro, dentro do dict(), temos diversas variações, mas o uso de tudo isso junto com o que já tínhamos visto antes, que eram as tuplas, as listas, ou até mesmo arrays ou numPy arrays, fazem que a tenhamos à nossa mão, à disposição à nossa mão, ferramentas para trabalhar com diversos valores de diversas maneiras diferentes."
      ],
      "metadata": {
        "id": "WAIXbMjDESMc"
      }
    },
    {
      "cell_type": "markdown",
      "source": [
        " Claro, isso não é o total de tipos de coleções que o Python padrão disponibiliza para nós, tem outras coleções também, assim como existem diversas bibliotecas, módulos que podemos baixar e instalar no Python, por exemplo, para quem vai trabalhar com Data Science, é muito comum utilizar o Pandas, e no curso de Introdução a Data Science, você vai ver a utilização do Pandas para manipular coleções de diversas maneiras. Espero que você tenha aproveitado bastante, entendido como podemos utilizar coleções e dicionários no dia a dia para que você também possa utilizá-las."
      ],
      "metadata": {
        "id": "QWP1MQjPEXTL"
      }
    },
    {
      "cell_type": "markdown",
      "source": [
        "Nós estamos implementando uma nova funcionalidade (feature) no sistema de uma livraria. Este setor está inserindo uma função para contar a frequência de cada letra nos textos cadastrados. Temos então o seguinte código:\n",
        "\n",
        "def analisa_frequencia_de_letras(texto):\n",
        "  aparicoes = Counter(texto.lower())\n",
        "  total_de_caracteres = sum(aparicoes.values())\n",
        "\n",
        "  proporcoes = [(letra, frequencia / total_de_caracteres) for letra, frequencia in aparicoes.items()]\n",
        "  proporcoes = Counter(dict(proporcoes))\n",
        "  print(\"{} => {:.2f}%\".format(caractere, proporcao * 100))COPIAR CÓDIGO\n",
        "Mas isso ainda não é o suficiente, queremos também mostrar as dez letras mais frequentes.\n",
        "\n",
        "De qual maneira nós podemos implementar isto?"
      ],
      "metadata": {
        "id": "C5h-23GAEgtz"
      }
    },
    {
      "cell_type": "markdown",
      "source": [
        "Temos que usar a função most_common(10) para pegar as dez letras mais frequentes, fazer a atribuição dele em uma variável e percorrê-la, vendo a proporção e os caracteres.\n",
        "\n",
        "mais_comuns = proporcoes.most_common(10)\n",
        " for caractere, proporcao in mais_comuns:\n",
        "    print(\"{} => {:.2f}%\".format(caractere, proporcao * 100))\n",
        "\n",
        "Usando most_common passamos por parâmetro o número de elementos que queremos, no nosso caso foi 10. Ele vai nos retornar uma lista de tuplas com os elementos e suas devidas proporções."
      ],
      "metadata": {
        "id": "H4KzaPVbEmpy"
      }
    },
    {
      "cell_type": "code",
      "source": [
        "def analisa_frequencia_de_letras(texto):\n",
        "  aparicoes = Counter(texto.lower())\n",
        "  total_de_caracteres = sum(aparicoes.values())\n",
        "\n",
        "  proporcoes = [(letra, frequencia / total_de_caracteres) for letra, frequencia in aparicoes.items()]\n",
        "  proporcoes = Counter(dict(proporcoes))\n",
        "  print(\"{} => {:.2f}%\".format(caractere, proporcao * 100))\n",
        "\n",
        "  mais_comuns = proporcoes.most_common(10)\n",
        " for caractere, proporcao in mais_comuns:\n",
        "    print(\"{} => {:.2f}%\".format(caractere, proporcao * 100))"
      ],
      "metadata": {
        "colab": {
          "base_uri": "https://localhost:8080/",
          "height": 138
        },
        "id": "K-t9V8slDKSc",
        "outputId": "2b9a9cd5-6553-4098-975c-8a3640d31b5b"
      },
      "execution_count": null,
      "outputs": [
        {
          "output_type": "error",
          "ename": "IndentationError",
          "evalue": "ignored",
          "traceback": [
            "\u001b[0;36m  File \u001b[0;32m\"<ipython-input-55-ff7082ab5a9b>\"\u001b[0;36m, line \u001b[0;32m10\u001b[0m\n\u001b[0;31m    for caractere, proporcao in mais_comuns:\u001b[0m\n\u001b[0m                                            ^\u001b[0m\n\u001b[0;31mIndentationError\u001b[0m\u001b[0;31m:\u001b[0m unindent does not match any outer indentation level\n"
          ]
        }
      ]
    },
    {
      "cell_type": "code",
      "source": [
        "mais_comuns = proporcoes.most_common(10)\n",
        " for caractere, proporcao in mais_comuns:\n",
        "    print(\"{} => {:.2f}%\".format(caractere, proporcao * 100))"
      ],
      "metadata": {
        "colab": {
          "base_uri": "https://localhost:8080/",
          "height": 138
        },
        "id": "VzegQ0hVEtwu",
        "outputId": "8e78fcd2-0fee-4a0e-93b0-9a987104ea1a"
      },
      "execution_count": null,
      "outputs": [
        {
          "output_type": "error",
          "ename": "IndentationError",
          "evalue": "ignored",
          "traceback": [
            "\u001b[0;36m  File \u001b[0;32m\"<ipython-input-54-d995acc5f793>\"\u001b[0;36m, line \u001b[0;32m2\u001b[0m\n\u001b[0;31m    for caractere, proporcao in mais_comuns:\u001b[0m\n\u001b[0m    ^\u001b[0m\n\u001b[0;31mIndentationError\u001b[0m\u001b[0;31m:\u001b[0m unexpected indent\n"
          ]
        }
      ]
    },
    {
      "cell_type": "code",
      "source": [
        ""
      ],
      "metadata": {
        "id": "z16QD7uaE1Z_"
      },
      "execution_count": null,
      "outputs": []
    }
  ]
}